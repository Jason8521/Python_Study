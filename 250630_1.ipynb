{
 "cells": [
  {
   "cell_type": "code",
   "execution_count": 1,
   "id": "cadbdd9b-8b28-40fb-9900-1a2c4482ec59",
   "metadata": {},
   "outputs": [],
   "source": [
    "from math import e"
   ]
  },
  {
   "cell_type": "code",
   "execution_count": 2,
   "id": "2be5abc8-b6c6-46d5-ac5b-e5fcac4e18af",
   "metadata": {},
   "outputs": [
    {
     "data": {
      "text/plain": [
       "2.718281828459045"
      ]
     },
     "execution_count": 2,
     "metadata": {},
     "output_type": "execute_result"
    }
   ],
   "source": [
    "e"
   ]
  },
  {
   "cell_type": "code",
   "execution_count": 3,
   "id": "5a582091-04bd-4a16-a0fc-35d63db30d83",
   "metadata": {},
   "outputs": [
    {
     "data": {
      "text/plain": [
       "0.36787944117144233"
      ]
     },
     "execution_count": 3,
     "metadata": {},
     "output_type": "execute_result"
    }
   ],
   "source": [
    "e**-1"
   ]
  },
  {
   "cell_type": "code",
   "execution_count": 4,
   "id": "9a6b4af2-5292-414a-9909-a414e8d60803",
   "metadata": {},
   "outputs": [
    {
     "data": {
      "text/plain": [
       "1.0"
      ]
     },
     "execution_count": 4,
     "metadata": {},
     "output_type": "execute_result"
    }
   ],
   "source": [
    "e**0"
   ]
  },
  {
   "cell_type": "code",
   "execution_count": 5,
   "id": "9820f17e-7a78-489c-9293-fc55549f084d",
   "metadata": {},
   "outputs": [],
   "source": [
    "from math import log"
   ]
  },
  {
   "cell_type": "code",
   "execution_count": 6,
   "id": "eab8e53b-5e2e-4886-943b-4b9c0897d394",
   "metadata": {},
   "outputs": [],
   "source": [
    "log_value = log(8, 2)"
   ]
  },
  {
   "cell_type": "code",
   "execution_count": 7,
   "id": "1f129c49-e7c4-4e8c-bdf9-3d895a6ffd92",
   "metadata": {},
   "outputs": [
    {
     "name": "stdout",
     "output_type": "stream",
     "text": [
      "3.0\n"
     ]
    }
   ],
   "source": [
    "print(log_value)"
   ]
  },
  {
   "cell_type": "code",
   "execution_count": 8,
   "id": "3b831e6a-5264-4c98-b705-0b497bf659e1",
   "metadata": {},
   "outputs": [
    {
     "data": {
      "text/plain": [
       "2.9999999999999996"
      ]
     },
     "execution_count": 8,
     "metadata": {},
     "output_type": "execute_result"
    }
   ],
   "source": [
    "log(1000,10)"
   ]
  },
  {
   "cell_type": "code",
   "execution_count": 9,
   "id": "0a18d6b2-64fa-402b-a2f0-ba878bbd2672",
   "metadata": {},
   "outputs": [
    {
     "data": {
      "text/plain": [
       "1.0"
      ]
     },
     "execution_count": 9,
     "metadata": {},
     "output_type": "execute_result"
    }
   ],
   "source": [
    "log(2.718281828459045)"
   ]
  },
  {
   "cell_type": "code",
   "execution_count": 10,
   "id": "42926ddd-2072-4589-83bb-4dac1d87138b",
   "metadata": {},
   "outputs": [
    {
     "data": {
      "text/plain": [
       "3.0"
      ]
     },
     "execution_count": 10,
     "metadata": {},
     "output_type": "execute_result"
    }
   ],
   "source": [
    "log(e**3)"
   ]
  },
  {
   "cell_type": "code",
   "execution_count": 11,
   "id": "af3c7232-cce2-4647-be2d-e199d325579e",
   "metadata": {},
   "outputs": [
    {
     "data": {
      "text/plain": [
       "0.0"
      ]
     },
     "execution_count": 11,
     "metadata": {},
     "output_type": "execute_result"
    }
   ],
   "source": [
    "log(1)"
   ]
  },
  {
   "cell_type": "code",
   "execution_count": 12,
   "id": "8c7cd476-8944-4c91-98cf-affcec13be0d",
   "metadata": {},
   "outputs": [
    {
     "ename": "ValueError",
     "evalue": "math domain error",
     "output_type": "error",
     "traceback": [
      "\u001b[31m---------------------------------------------------------------------------\u001b[39m",
      "\u001b[31mValueError\u001b[39m                                Traceback (most recent call last)",
      "\u001b[36mCell\u001b[39m\u001b[36m \u001b[39m\u001b[32mIn[12]\u001b[39m\u001b[32m, line 1\u001b[39m\n\u001b[32m----> \u001b[39m\u001b[32m1\u001b[39m \u001b[43mlog\u001b[49m\u001b[43m(\u001b[49m\u001b[32;43m0\u001b[39;49m\u001b[43m)\u001b[49m\n",
      "\u001b[31mValueError\u001b[39m: math domain error"
     ]
    }
   ],
   "source": [
    "log(0)"
   ]
  },
  {
   "cell_type": "code",
   "execution_count": 13,
   "id": "de360cd9-9778-4b08-bf52-7bfb5e678b03",
   "metadata": {},
   "outputs": [
    {
     "name": "stdout",
     "output_type": "stream",
     "text": [
      "0.006692850924284857\n"
     ]
    }
   ],
   "source": [
    "sigmoid_minus_5 = 1 / (1 + e**-(-5))\n",
    "print(sigmoid_minus_5)"
   ]
  },
  {
   "cell_type": "code",
   "execution_count": 14,
   "id": "e99ee58c-0d6f-46cb-b302-9a01d9ca3097",
   "metadata": {},
   "outputs": [
    {
     "name": "stdout",
     "output_type": "stream",
     "text": [
      "0.07585818002124356\n"
     ]
    }
   ],
   "source": [
    "sigmoid_minus_2_5 = 1 / (1 + e**-(-2.5))\n",
    "print(sigmoid_minus_2_5)"
   ]
  },
  {
   "cell_type": "code",
   "execution_count": 15,
   "id": "38bd7da2-0214-42f0-a104-2b5e70f5d68b",
   "metadata": {},
   "outputs": [
    {
     "name": "stdout",
     "output_type": "stream",
     "text": [
      "0.5\n"
     ]
    }
   ],
   "source": [
    "sigmoid_0 = 1 / (1 + e**-(0))\n",
    "print(sigmoid_0)"
   ]
  },
  {
   "cell_type": "code",
   "execution_count": 17,
   "id": "234e779a-9d98-4f1f-9985-210e16710339",
   "metadata": {},
   "outputs": [
    {
     "name": "stdout",
     "output_type": "stream",
     "text": [
      "0.9241418199787566\n"
     ]
    }
   ],
   "source": [
    "sigmoid_2_5 = 1 / (1 + e**-(2.5))\n",
    "print(sigmoid_2_5)"
   ]
  },
  {
   "cell_type": "code",
   "execution_count": 20,
   "id": "985c3dc9-b782-4bd2-9739-5388cfbcbec5",
   "metadata": {},
   "outputs": [
    {
     "name": "stdout",
     "output_type": "stream",
     "text": [
      "0.9933071490757153\n"
     ]
    }
   ],
   "source": [
    "sigmoid_5 = 1 / (1 + e**-(5))\n",
    "print(sigmoid_5)"
   ]
  },
  {
   "cell_type": "code",
   "execution_count": null,
   "id": "6054fa45-2278-4eb7-acda-fa3b49a5d321",
   "metadata": {},
   "outputs": [],
   "source": []
  }
 ],
 "metadata": {
  "kernelspec": {
   "display_name": "Python 3 (ipykernel)",
   "language": "python",
   "name": "python3"
  },
  "language_info": {
   "codemirror_mode": {
    "name": "ipython",
    "version": 3
   },
   "file_extension": ".py",
   "mimetype": "text/x-python",
   "name": "python",
   "nbconvert_exporter": "python",
   "pygments_lexer": "ipython3",
   "version": "3.11.13"
  }
 },
 "nbformat": 4,
 "nbformat_minor": 5
}
