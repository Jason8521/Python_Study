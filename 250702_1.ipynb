{
 "cells": [
  {
   "cell_type": "code",
   "execution_count": 1,
   "id": "cf19fef5-f4da-4db7-9428-a763595bd409",
   "metadata": {},
   "outputs": [],
   "source": [
    "import numpy as np"
   ]
  },
  {
   "cell_type": "code",
   "execution_count": 2,
   "id": "9af34c56-5db8-4ecb-a58e-49a1514972af",
   "metadata": {},
   "outputs": [],
   "source": [
    "def sigmoid(z):\n",
    "    return 1 / (1 + np.exp(-z))"
   ]
  },
  {
   "cell_type": "code",
   "execution_count": 3,
   "id": "1179d827-73f6-40a2-a09e-884071939010",
   "metadata": {},
   "outputs": [],
   "source": [
    "X = np.array([1.60, 1.70, 1.80, 1.90])\n",
    "y = np.array([0, 0, 1, 1])"
   ]
  },
  {
   "cell_type": "code",
   "execution_count": 4,
   "id": "b5ee4033-7f59-462c-8a47-92b59668edb3",
   "metadata": {},
   "outputs": [],
   "source": [
    "a1 = 0.1\n",
    "b1 = 1\n",
    "\n",
    "a2 = 0.5\n",
    "b2 = -1.0"
   ]
  },
  {
   "cell_type": "code",
   "execution_count": 5,
   "id": "ea5df953-4d29-488e-8695-b419f8506752",
   "metadata": {},
   "outputs": [
    {
     "data": {
      "text/plain": [
       "array([0.76133271, 0.76314502, 0.7649478 , 0.76674106])"
      ]
     },
     "execution_count": 5,
     "metadata": {},
     "output_type": "execute_result"
    }
   ],
   "source": [
    "z1 = a1 * X + b1\n",
    "\n",
    "H1 = sigmoid(z1)\n",
    "H1"
   ]
  },
  {
   "cell_type": "code",
   "execution_count": 6,
   "id": "63daadb3-8534-4924-ac19-045c6554603f",
   "metadata": {},
   "outputs": [
    {
     "data": {
      "text/plain": [
       "array([0.34993302, 0.35013918, 0.35034431, 0.35054841])"
      ]
     },
     "execution_count": 6,
     "metadata": {},
     "output_type": "execute_result"
    }
   ],
   "source": [
    "z2 = a2 * H1 + b2\n",
    "\n",
    "H2 = sigmoid(z2)\n",
    "H2"
   ]
  },
  {
   "cell_type": "code",
   "execution_count": 7,
   "id": "4a8d092a-8d6f-4cd0-8db7-35daca5e2d45",
   "metadata": {},
   "outputs": [
    {
     "data": {
      "text/plain": [
       "0.739693062619397"
      ]
     },
     "execution_count": 7,
     "metadata": {},
     "output_type": "execute_result"
    }
   ],
   "source": [
    "cost = -(y * np.log(H2) + (1 - y) * np.log(1 - H2)).mean()\n",
    "cost"
   ]
  },
  {
   "cell_type": "code",
   "execution_count": 8,
   "id": "46e6ad03-71df-43fb-8924-cdbbda1fab6d",
   "metadata": {},
   "outputs": [],
   "source": [
    "learning_rate = 0.1\n",
    "epochs = 10000"
   ]
  },
  {
   "cell_type": "code",
   "execution_count": 9,
   "id": "68d3d318-7470-44ce-86d2-1c3cbbf1bdae",
   "metadata": {},
   "outputs": [
    {
     "name": "stdout",
     "output_type": "stream",
     "text": [
      "Epoch 1000/10000, cost=0.7053\n",
      "Epoch 2000/10000, cost=0.7018\n",
      "Epoch 3000/10000, cost=0.6991\n",
      "Epoch 4000/10000, cost=0.6970\n",
      "Epoch 5000/10000, cost=0.6952\n",
      "Epoch 6000/10000, cost=0.6937\n",
      "Epoch 7000/10000, cost=0.6924\n",
      "Epoch 8000/10000, cost=0.6912\n",
      "Epoch 9000/10000, cost=0.6902\n",
      "Epoch 10000/10000, cost=0.6892\n"
     ]
    }
   ],
   "source": [
    "for epoch in range(epochs):\n",
    "    total_cost = 0\n",
    "\n",
    "    for x_data, y_data in zip(X, y):\n",
    "        z1 = a1 * x_data\n",
    "        H1 = sigmoid(z1)\n",
    "\n",
    "        z2 = a2 * H1 + b2\n",
    "        H2 = sigmoid(z2)\n",
    "\n",
    "        cost = -(y_data * np.log(H2) + (1 - y_data) * np.log(1 - H2))\n",
    "        total_cost += cost\n",
    "\n",
    "        Q1 = (H2 - y_data) / (H2 * (1 - H2))\n",
    "        Q2 = H2 * (1 - H2)\n",
    "        Q3 = a2\n",
    "        Q4 = H1 * (1 - H1)\n",
    "        Q5 = x_data\n",
    "\n",
    "        grad_a2 = Q1 * Q2 * H1\n",
    "        grad_b2 = Q1 * Q2 * 1\n",
    "        grad_a1 = Q1 * Q2 * Q3 * Q4 * Q5\n",
    "        grad_b1 = Q1 * Q2 * Q3 * Q4 * 1\n",
    "\n",
    "        a2 -= learning_rate * grad_a2\n",
    "        b2 -= learning_rate * grad_b2\n",
    "        a1 -= learning_rate * grad_a1\n",
    "        b1 -= learning_rate * grad_b1\n",
    "\n",
    "        avg_cost = total_cost / len(X)\n",
    "\n",
    "    if (epoch+1) % 1000 == 0 :\n",
    "        print(f\"Epoch {epoch+1}/{epochs}, cost={avg_cost:.4f}\")"
   ]
  },
  {
   "cell_type": "code",
   "execution_count": 10,
   "id": "e35102e2-b095-4739-8267-07fca123121a",
   "metadata": {},
   "outputs": [
    {
     "name": "stdout",
     "output_type": "stream",
     "text": [
      "\n",
      "최종 학습 결과:\n",
      "a1: 1.3175, b1: -61.6429, a2: 8.9224, b2: -7.9209\n"
     ]
    }
   ],
   "source": [
    "print(\"\\n최종 학습 결과:\")\n",
    "print(f\"a1: {a1:.4f}, b1: {b1:.4f}, a2: {a2:.4f}, b2: {b2:.4f}\")"
   ]
  },
  {
   "cell_type": "code",
   "execution_count": null,
   "id": "ca8cbb6a-b069-4e6c-b358-9749db9a4b2f",
   "metadata": {},
   "outputs": [],
   "source": []
  }
 ],
 "metadata": {
  "kernelspec": {
   "display_name": "Python 3 (ipykernel)",
   "language": "python",
   "name": "python3"
  },
  "language_info": {
   "codemirror_mode": {
    "name": "ipython",
    "version": 3
   },
   "file_extension": ".py",
   "mimetype": "text/x-python",
   "name": "python",
   "nbconvert_exporter": "python",
   "pygments_lexer": "ipython3",
   "version": "3.11.13"
  }
 },
 "nbformat": 4,
 "nbformat_minor": 5
}
