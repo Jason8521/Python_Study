{
 "cells": [
  {
   "cell_type": "code",
   "execution_count": 1,
   "id": "33bae499-3cfc-427f-a1ab-6dc1bb58b002",
   "metadata": {},
   "outputs": [
    {
     "name": "stdout",
     "output_type": "stream",
     "text": [
      "Requirement already satisfied: fastapi in c:\\programdata\\anaconda3\\envs\\movie_env01\\lib\\site-packages (0.115.12)\n",
      "Requirement already satisfied: uvicorn in c:\\programdata\\anaconda3\\envs\\movie_env01\\lib\\site-packages (0.34.2)\n",
      "Requirement already satisfied: oracledb in c:\\programdata\\anaconda3\\envs\\movie_env01\\lib\\site-packages (3.1.0)\n",
      "Requirement already satisfied: pandas in c:\\programdata\\anaconda3\\envs\\movie_env01\\lib\\site-packages (2.2.3)\n",
      "Requirement already satisfied: nest_asyncio in c:\\programdata\\anaconda3\\envs\\movie_env01\\lib\\site-packages (1.6.0)\n",
      "Requirement already satisfied: scikit-learn in c:\\programdata\\anaconda3\\envs\\movie_env01\\lib\\site-packages (1.6.1)\n",
      "Requirement already satisfied: starlette<0.47.0,>=0.40.0 in c:\\programdata\\anaconda3\\envs\\movie_env01\\lib\\site-packages (from fastapi) (0.46.2)\n",
      "Requirement already satisfied: pydantic!=1.8,!=1.8.1,!=2.0.0,!=2.0.1,!=2.1.0,<3.0.0,>=1.7.4 in c:\\programdata\\anaconda3\\envs\\movie_env01\\lib\\site-packages (from fastapi) (2.11.3)\n",
      "Requirement already satisfied: typing-extensions>=4.8.0 in c:\\programdata\\anaconda3\\envs\\movie_env01\\lib\\site-packages (from fastapi) (4.13.2)\n",
      "Requirement already satisfied: click>=7.0 in c:\\programdata\\anaconda3\\envs\\movie_env01\\lib\\site-packages (from uvicorn) (8.1.8)\n",
      "Requirement already satisfied: h11>=0.8 in c:\\programdata\\anaconda3\\envs\\movie_env01\\lib\\site-packages (from uvicorn) (0.16.0)\n",
      "Requirement already satisfied: cryptography>=3.2.1 in c:\\programdata\\anaconda3\\envs\\movie_env01\\lib\\site-packages (from oracledb) (44.0.2)\n",
      "Requirement already satisfied: numpy>=1.22.4 in c:\\programdata\\anaconda3\\envs\\movie_env01\\lib\\site-packages (from pandas) (1.26.4)\n",
      "Requirement already satisfied: python-dateutil>=2.8.2 in c:\\programdata\\anaconda3\\envs\\movie_env01\\lib\\site-packages (from pandas) (2.9.0.post0)\n",
      "Requirement already satisfied: pytz>=2020.1 in c:\\programdata\\anaconda3\\envs\\movie_env01\\lib\\site-packages (from pandas) (2025.2)\n",
      "Requirement already satisfied: tzdata>=2022.7 in c:\\programdata\\anaconda3\\envs\\movie_env01\\lib\\site-packages (from pandas) (2025.2)\n",
      "Requirement already satisfied: scipy>=1.6.0 in c:\\programdata\\anaconda3\\envs\\movie_env01\\lib\\site-packages (from scikit-learn) (1.13.1)\n",
      "Requirement already satisfied: joblib>=1.2.0 in c:\\programdata\\anaconda3\\envs\\movie_env01\\lib\\site-packages (from scikit-learn) (1.4.2)\n",
      "Requirement already satisfied: threadpoolctl>=3.1.0 in c:\\programdata\\anaconda3\\envs\\movie_env01\\lib\\site-packages (from scikit-learn) (3.6.0)\n",
      "Requirement already satisfied: colorama in c:\\programdata\\anaconda3\\envs\\movie_env01\\lib\\site-packages (from click>=7.0->uvicorn) (0.4.6)\n",
      "Requirement already satisfied: cffi>=1.12 in c:\\programdata\\anaconda3\\envs\\movie_env01\\lib\\site-packages (from cryptography>=3.2.1->oracledb) (1.17.1)\n",
      "Requirement already satisfied: annotated-types>=0.6.0 in c:\\programdata\\anaconda3\\envs\\movie_env01\\lib\\site-packages (from pydantic!=1.8,!=1.8.1,!=2.0.0,!=2.0.1,!=2.1.0,<3.0.0,>=1.7.4->fastapi) (0.7.0)\n",
      "Requirement already satisfied: pydantic-core==2.33.1 in c:\\programdata\\anaconda3\\envs\\movie_env01\\lib\\site-packages (from pydantic!=1.8,!=1.8.1,!=2.0.0,!=2.0.1,!=2.1.0,<3.0.0,>=1.7.4->fastapi) (2.33.1)\n",
      "Requirement already satisfied: typing-inspection>=0.4.0 in c:\\programdata\\anaconda3\\envs\\movie_env01\\lib\\site-packages (from pydantic!=1.8,!=1.8.1,!=2.0.0,!=2.0.1,!=2.1.0,<3.0.0,>=1.7.4->fastapi) (0.4.0)\n",
      "Requirement already satisfied: six>=1.5 in c:\\programdata\\anaconda3\\envs\\movie_env01\\lib\\site-packages (from python-dateutil>=2.8.2->pandas) (1.17.0)\n",
      "Requirement already satisfied: anyio<5,>=3.6.2 in c:\\programdata\\anaconda3\\envs\\movie_env01\\lib\\site-packages (from starlette<0.47.0,>=0.40.0->fastapi) (4.9.0)\n",
      "Requirement already satisfied: exceptiongroup>=1.0.2 in c:\\programdata\\anaconda3\\envs\\movie_env01\\lib\\site-packages (from anyio<5,>=3.6.2->starlette<0.47.0,>=0.40.0->fastapi) (1.2.2)\n",
      "Requirement already satisfied: idna>=2.8 in c:\\programdata\\anaconda3\\envs\\movie_env01\\lib\\site-packages (from anyio<5,>=3.6.2->starlette<0.47.0,>=0.40.0->fastapi) (3.10)\n",
      "Requirement already satisfied: sniffio>=1.1 in c:\\programdata\\anaconda3\\envs\\movie_env01\\lib\\site-packages (from anyio<5,>=3.6.2->starlette<0.47.0,>=0.40.0->fastapi) (1.3.1)\n",
      "Requirement already satisfied: pycparser in c:\\programdata\\anaconda3\\envs\\movie_env01\\lib\\site-packages (from cffi>=1.12->cryptography>=3.2.1->oracledb) (2.22)\n"
     ]
    }
   ],
   "source": [
    "# 필요한 파이썬 라이브러리를 설치합니다.\n",
    "# 아래의 명령어를 통해 FastAPI와 기타 필요한 도구들을 설치할 수 있습니다.\n",
    "!pip install fastapi uvicorn oracledb pandas nest_asyncio scikit-learn"
   ]
  },
  {
   "cell_type": "code",
   "execution_count": 2,
   "id": "1b36aab8-074f-47c3-9609-c7d63c329974",
   "metadata": {},
   "outputs": [],
   "source": [
    "# FastAPI: 웹 서버를 쉽게 만들어주는 도구입니다.\n",
    "from fastapi import FastAPI\n",
    "\n",
    "# oracledb: 오라클 데이터베이스와 연결하여 데이터를 가져오거나 저장하는 도구입니다.\n",
    "import oracledb\n",
    "\n",
    "# pandas(pd): 데이터를 엑셀처럼 표 형태로 쉽게 다룰 수 있게 해주는 도구입니다.\n",
    "import pandas as pd\n",
    "\n",
    "#nest_asyncio: 비동기(asyncio) 작업을 주피터 노트북에서 쉽게 사용할 수 있게 해주는 도구입니다.\n",
    "import nest_asyncio\n",
    "\n",
    "# uvicorn: FastAPI 서버를 실행하기 위한 도구입니다.\n",
    "import uvicorn\n",
    "\n",
    "# pickle: 파이썬 데이터를 파일 형태로 저장하거나 다시 읽을 때 사용하는 도구입니다.\n",
    "import pickle\n",
    "\n",
    "# cosine_similarity: 두 데이터가 얼마나 비슷한지 계산해주는 도구입니다.\n",
    "from sklearn.metrics.pairwise import cosine_similarity\n",
    "\n",
    "# BaseModel: 데이터를 정확한 형태로 주고받기 위해 사용하는 도구입니다.\n",
    "from pydantic import BaseModel\n",
    "\n",
    "# numpy(np): 여러 숫자 데이터를 쉽게 계산하고 처리할 수 있도록 도와주는 도구입니다.\n",
    "import numpy as np\n",
    "\n",
    "# CORSMiddleware: 보안 때문에 막혀 있는 데이터를 다른 서버나 사이트에서 접근할 수 있도록 허용해주는 도구입니다.\n",
    "from fastapi.middleware.cors import CORSMiddleware"
   ]
  },
  {
   "cell_type": "code",
   "execution_count": 3,
   "id": "e6b660a6-9220-458a-805c-89102170ba24",
   "metadata": {},
   "outputs": [],
   "source": [
    "# FastAPI 웹 애플리케이션을 만듭니다.\n",
    "app = FastAPI()"
   ]
  },
  {
   "cell_type": "code",
   "execution_count": 4,
   "id": "9930eb5c-a36d-421c-9c30-8e39356c56fa",
   "metadata": {},
   "outputs": [],
   "source": [
    "# 다른 사이트에서도 이 FastAPI 서버를 사용할 수 있도록 허용 설정을 추가합니다.\n",
    "app.add_middleware(\n",
    "    CORSMiddleware,\n",
    "    allow_origins = [\"*\"],       # 모든 사이트에서의 접근을 허용합니다.\n",
    "    allow_credentials = True,    # 자격증명(로그인 등)을 허용합니다.\n",
    "    allow_methods = [\"*\"],       # 모든 방식(GET, POST 등)의 요청을 허용합니다.\n",
    "    allow_headers = [\"*\"]        # 모든 헤더(부가정보)를 허용합니다.\n",
    ")"
   ]
  },
  {
   "cell_type": "code",
   "execution_count": 5,
   "id": "9c5f94b0-6671-46d6-bd36-71bebe380985",
   "metadata": {},
   "outputs": [],
   "source": [
    "# 웹 브라우저엥서 \"/movie/hello_backend\" 주소로 접근하면 작동하는 기능을 만듭니다.\n",
    "@app.get(\"/movie/hello_backend\")\n",
    "async def hello():\n",
    "    return \"안녕 FastAPI\""
   ]
  },
  {
   "cell_type": "code",
   "execution_count": 6,
   "id": "cbef06af-ca18-4536-93f5-ee05bdc115f3",
   "metadata": {},
   "outputs": [],
   "source": [
    "# 오라클 데이터베이스와 연결하기 위한 설정을 만듭니다.\n",
    "# oracledb.makedsn() 함수는 데이터베이스 연결 주소를 만드는 기능을 합니다.\n",
    "# 함수의 매개변수는 다음과 같습니다:\n",
    "# \"localhost\": 데이터베이스가 설치된 컴퓨터의 주소입니다. 여기서는 같은 컴퓨터(내 컴퓨터)를 의미합니다.\n",
    "# 1521: 데이터베이스가 사용하는 포트 번호입니다. 보통 오라클은 1521 포트를 사용합니다.\n",
    "# service_name=\"XEPDB1\": 데이터베이스 안의 서비스 이름을 의미합니다. 오라클 설치 시 기본 서비스 이름입니다.\n",
    "userdsn = oracledb.makedsn(\"localhost\", 1521, service_name=\"XEPDB1\")\n",
    "\n",
    "# username 변수는 데이터베이스에 접속할 때 사뇽하는 사용자 이름을 저장합니다.\n",
    "# \"movie_scott\"은 실제 데이터베이스에 존재하는 사용자 이름이어야 합니다.\n",
    "username = \"movie_scott\"\n",
    "\n",
    "# userpass 변수는 데이터베이스에 접속할 때 사용하는 사용자 비밀번호를 저장합니다.\n",
    "# \"pass123\"은 실제 데이터베이스 사용자의 비밀번호이어야 합니다.\n",
    "userpass = \"pass123\""
   ]
  },
  {
   "cell_type": "code",
   "execution_count": 7,
   "id": "9afe0569-1b8e-4ce2-a162-faa991a6a9d2",
   "metadata": {},
   "outputs": [],
   "source": [
    "# @app.get()은 FastAPI에서 특정 주소로 요청이 들어오면 동작할 기능(함수)을 정의하는 부분입니다.\n",
    "# 여기서는 사용자가 웹 브라우저에서 \"/movie/movie_popular\" 주소로 접속하면 실행됩니다.\n",
    "@app.get(\"/movie/movie_popular\")\n",
    "async def movie_popular():\n",
    "    # 오라클 데이터베이서와 연결하기 위해 oracledb.connect()를 사용합니다.\n",
    "    # connect() 함수의 매개변수는 다음과 같습니다:\n",
    "    # user: 데이터베이스 사용자 이름을 입력합니다.\n",
    "    # password: 데이터베이스 사용자의 비밀번호를 입력합니다.\n",
    "    # dsn: 데이터베이스의 위치나 주소를 입력합니다.\n",
    "    connection = oracledb.connect(user=username, password=userpass, dsn=userdsn)\n",
    "\n",
    "    # 데이터베이스에서 가져올 최신 영화 정보를 조회하기 위한 SQL 퀴리(명령어)를 작성합니다.\n",
    "    # SELECT는 데이터를 가져올 때 사용하는 명령어입니다.\n",
    "    # num, title, director 등은 데이터베이스(movie_tbl)에 있는 영화 정보를 나타내는 열(컬럼) 이름들입니다.\n",
    "    # ORDER BY box_office DESC는 관객 수(box_office)가 가장 많은 순서대로 정렬하라는 의미입니다.\n",
    "    #FETCH FIRST 30 ROWS ONLY는 위에서부터 30개의 데이터만 가져오라는 의미입니다.\n",
    "    query = \"\"\"\n",
    "        SELECT num, title, director\n",
    "              ,actor, box_office\n",
    "              ,synopsis, poster\n",
    "              ,open_date, degree\n",
    "              ,country, movie_time\n",
    "          FROM movie_tbl\n",
    "         ORDER BY box_office DESC\n",
    "         FETCH FIRST 30 ROWS ONLY\n",
    "    \"\"\"\n",
    "\n",
    "    # 작성된 쿼리를 실행하여 결과를 pandas라는 라이브러리의 데이터프레임(엑셀처럼 표 형식) 형태로 저장합니다.\n",
    "    # pd.read_sql() 함수의 매개변수는 다음과 같습니다:\n",
    "    # query: 위에서 작성한 SQL 명령어입니다.\n",
    "    # con: 데이터베이스와 연결된 정보를 가진 변수를 입력합니다.\n",
    "    movie_df = pd.read_sql(query, con=connection)\n",
    "\n",
    "    # 데이터베이스와 연결된 정보를 가진 변수를 입력합니다.\n",
    "    connection.close()\n",
    "\n",
    "    # movie_df 데이터를 Python 딕셔너리(사전) 형태로 변환하여 반환합니다.\n",
    "    # movie_df.to_dict() 함수는 데이터를 표 형태에서 딕셔너리 형태로 바꿔줍니다.\n",
    "    # orient='records'는 표의 각 행(가로줄)을 하나의 딕셔너리로 변환하라는 의미입니다.\n",
    "    # 예를 들어 한 영화읭 정보가 {\"title\": \"파묘\", \"director\": \"장재현\"}과 같은 형태로 저장됩니다.\n",
    "    return movie_df.to_dict(orient='records')"
   ]
  },
  {
   "cell_type": "code",
   "execution_count": 8,
   "id": "33905f24-ed84-451e-a3d1-d88456303e30",
   "metadata": {},
   "outputs": [],
   "source": [
    "# 사용자의 요청에서 받을 데이터 형태를 정의하는 클래스(틀)를 만듭니다.\n",
    "# MovieRequest는 사용자 요청 데이터가 어떻게 생겼는지 정의하는 역할을 합니다.\n",
    "# BaseModel을 상속받아서 데이터를 쉽게 관리할 수 있게 도와줍니다.\n",
    "class MovieRequest(BaseModel):\n",
    "    num: int   # num은 사용자가 선택한 영화의 번호를 나타냅니다. 숫자 형태입니다."
   ]
  },
  {
   "cell_type": "code",
   "execution_count": 9,
   "id": "e9d3c2d1-9607-4525-a347-be6fabc31a1b",
   "metadata": {},
   "outputs": [],
   "source": [
    "# POST 방식으로 \"/movie/movie_recommend\" 주소에 요청을 하면 동작하는 기능을 만듭니다.\n",
    "@app.post(\"/movie/movie_recommend\")\n",
    "async def movie_recommend(request: MovieRequest):\n",
    "\n",
    "    # 데이터베이스에 연결하여 데이터를 가져오기 위한 연결 설정을 합니다.\n",
    "    connection = oracledb.connect(user=username, password=userpass, dsn=userdsn)\n",
    "\n",
    "    # movie_tbl이라는 테이블에서 영화 데이터를 가져오는 SQL 쿼리를 작성합니다.\n",
    "    query = \"SELECT * FROM movie_tbl\"\n",
    "    # 작성된 쿼리를 실행해서 결과를 표 형태(movie_df)의 데이터로 변환하여 저장합니다.\n",
    "    movie_df = pd.read_sql(query, con=connection)\n",
    "\n",
    "    # 데이터베이스에서 불러온 데이터를 다시 사용 가능한 형태로 변환하는 함수입니다.\n",
    "    # pickle.loads() 함수는 압축ㄱ된 데이터를 원래 형태로 되돌려줍니다.\n",
    "    def load_vector(blob):\n",
    "        return pickle.loads(blob.read())\n",
    "\n",
    "    # movie_df에서 SYNOPSIS_VECTOR 열에 있는 데이터를 다시 사용 가능한 형태로 변환합니다.\n",
    "    movie_df[\"SYNOPSIS_VECTOR\"] = movie_df[\"SYNOPSIS_VECTOR\"].apply(load_vector)\n",
    "    \n",
    "    # 데이터베이스 연결을 종료합니다.\n",
    "    connection.close()\n",
    "\n",
    "    # 사용자가 요청한 영ㅎ와 번호(request.num)와 일치하는 영화 데이터를 movie_df에서 찾습니다.\n",
    "    target_movie = movie_df[movie_df[\"NUM\"] == request.num]\n",
    "\n",
    "    # 만약 사용자가 요청한 영화가 없다면 빈 결과를 반환합니다.\n",
    "    if target_movie.empty:\n",
    "        return {}\n",
    "\n",
    "    # 사용자가 선택한 영화의 줄거리 벡터를 가져옵니다.\n",
    "    target_vector = target_movie.iloc[0][\"SYNOPSIS_VECTOR\"]\n",
    "\n",
    "    # 모든 영화의 줄거리 벡터를 하나의 배열롤 합칩니다.\n",
    "    vectors = np.vstack(movie_df[\"SYNOPSIS_VECTOR\"].values)\n",
    "\n",
    "    # cosine_similarity 함수를 사용해 선택한 영화와 다른 영화들의 유사도를 계산합니다.\n",
    "    similarity_scores = cosine_similarity([target_vector], vectors)[0]\n",
    "\n",
    "    #계산된 유사도 점수를 movie_df에 새로운 열(similarity)로 추가합니다.\n",
    "    movie_df[\"similarity\"] = similarity_scores\n",
    "\n",
    "    # 사용자가 선택한 영화와 다른 영화 중 유사도가 높은 상위 20개 영화를 추천 영화로 선정합니다.\n",
    "    recommended_movies = movie_df[movie_df[\"NUM\"] != request.num].sort_values(\n",
    "        by =\"similarity\", ascending=False).head(20)\n",
    "\n",
    "    # 추천 영화들의 번호를 리스트 형태로 저장합니다.\n",
    "    recommeded_num = recommended_movies[\"NUM\"].tolist()\n",
    "\n",
    "    # 추천 영화 번호를 이용해 movie_df에서 해당 영화정보를 선택합니다.\n",
    "    recommed_df = movie_df[movie_df[\"NUM\"].isin(recommeded_num)]\n",
    "    # 추천 영화 정보에서 SYNOPSIS_VECTOR 열은 제거하영 사용자에게 보여줍니다.\n",
    "    recommed_df = recommed_df.drop('SYNOPSIS_VECTOR', axis=1)\n",
    "\n",
    "    # 최종적으로 추천 영화 정보를 딕셔너리 형태로 변환하여 반환합니다.\n",
    "    return recommed_df.to_dict(orient='records')"
   ]
  },
  {
   "cell_type": "code",
   "execution_count": 10,
   "id": "6c77e609-6427-4a75-8a65-863eaa99d270",
   "metadata": {},
   "outputs": [],
   "source": [
    "# nest_asyncio라는 도구를 사용하여 비동기(async) 작업을 처리합니다.\n",
    "# apply() 함수는 현재 사용하는 환경(특히 주피터 노트북 환경)에서 비동기 작업이 충돌하지 않고 정상적으로 작동하도록 설정하는 역할을 합니다.\n",
    "nest_asyncio.apply()"
   ]
  },
  {
   "cell_type": "code",
   "execution_count": null,
   "id": "60c92697-cd83-4e7b-bfee-054cf80b4476",
   "metadata": {},
   "outputs": [
    {
     "name": "stderr",
     "output_type": "stream",
     "text": [
      "INFO:     Started server process [20184]\n",
      "INFO:     Waiting for application startup.\n",
      "INFO:     Application startup complete.\n",
      "INFO:     Uvicorn running on http://0.0.0.0:7070 (Press CTRL+C to quit)\n"
     ]
    },
    {
     "name": "stdout",
     "output_type": "stream",
     "text": [
      "INFO:     127.0.0.1:62404 - \"POST /movie/movie_recommend HTTP/1.1\" 200 OK\n"
     ]
    },
    {
     "name": "stderr",
     "output_type": "stream",
     "text": [
      "C:\\Users\\User\\AppData\\Local\\Temp\\ipykernel_20184\\3959481606.py:11: UserWarning: pandas only supports SQLAlchemy connectable (engine/connection) or database string URI or sqlite3 DBAPI2 connection. Other DBAPI2 objects are not tested. Please consider using SQLAlchemy.\n",
      "  movie_df = pd.read_sql(query, con=connection)\n"
     ]
    }
   ],
   "source": [
    "# uvicorn이라는 도구를 사용하여 위에서 만든 FastAPI 앱(app)을 실제로 웹 서버로 실행합니다.\n",
    "# uvicorn.run() 함수는 서버를 실행할 때 사용합니다.\n",
    "# 아래 매개변수는 서버 실행시 필요한 옵션입니다.\n",
    "# app: 실행할 FastAPI 애플리케잉션을 지정합니다.\n",
    "# host=\"0.0.0.0\": 서버의 주소를 의미합니다. \"0.0.0.0\"은 모든 컴퓨터에서 이 서버에 접근 가능하도록 설정합니다.\n",
    "# port=7070: 서버가 사용할 포트 번호를 의미합니다. 포트 번호는 특정 서비스를 찾을 때 사용하는 번호입니다. 여기서는 7070번 포트를 사용합니다.\n",
    "uvicorn.run(app, host=\"0.0.0.0\", port=7070)"
   ]
  }
 ],
 "metadata": {
  "kernelspec": {
   "display_name": "Python 3 (ipykernel)",
   "language": "python",
   "name": "python3"
  },
  "language_info": {
   "codemirror_mode": {
    "name": "ipython",
    "version": 3
   },
   "file_extension": ".py",
   "mimetype": "text/x-python",
   "name": "python",
   "nbconvert_exporter": "python",
   "pygments_lexer": "ipython3",
   "version": "3.10.16"
  }
 },
 "nbformat": 4,
 "nbformat_minor": 5
}
