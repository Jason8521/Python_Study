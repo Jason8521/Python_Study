{
 "cells": [
  {
   "cell_type": "code",
   "execution_count": 1,
   "id": "4d1ecdb5-58ad-41eb-a939-44ca4c6aabea",
   "metadata": {},
   "outputs": [],
   "source": [
    "import torch\n",
    "import torch.nn as nn\n",
    "import torch.optim as optim"
   ]
  },
  {
   "cell_type": "code",
   "execution_count": 2,
   "id": "1b31ff9e-c028-48ea-940e-40a6c78a67d4",
   "metadata": {},
   "outputs": [],
   "source": [
    "X = torch.tensor([[1.60], [1.70], [1.80], [1.90]])\n",
    "\n",
    "y = torch.tensor([[0.0], [0.0], [1.0], [1.0]])"
   ]
  },
  {
   "cell_type": "code",
   "execution_count": 3,
   "id": "458ee3ee-e925-4931-baf7-fd4ce7a2f205",
   "metadata": {},
   "outputs": [],
   "source": [
    "model = nn.Sequential(\n",
    "    nn.Linear(1, 1),\n",
    "    nn.Sigmoid(),\n",
    "    nn.Linear(1, 1),\n",
    "    nn.Sigmoid()\n",
    ")"
   ]
  },
  {
   "cell_type": "code",
   "execution_count": 4,
   "id": "aae0b466-7bea-4204-8557-018177377300",
   "metadata": {},
   "outputs": [],
   "source": [
    "learning_rate = 0.1\n",
    "epochs = 10000"
   ]
  },
  {
   "cell_type": "code",
   "execution_count": 5,
   "id": "23489bd3-4408-4c7e-926b-e1bb934749c5",
   "metadata": {},
   "outputs": [],
   "source": [
    "criterion = nn.BCELoss()"
   ]
  },
  {
   "cell_type": "code",
   "execution_count": 6,
   "id": "58f81e90-f397-45b4-a143-21478b7e12c7",
   "metadata": {},
   "outputs": [],
   "source": [
    "optimizer = optim.SGD(model.parameters(), lr=learning_rate)"
   ]
  },
  {
   "cell_type": "code",
   "execution_count": 7,
   "id": "e5042caa-ccb6-417c-9de5-cdc1d9d9681a",
   "metadata": {},
   "outputs": [
    {
     "name": "stdout",
     "output_type": "stream",
     "text": [
      "Epoch 1000/10000, 평균 비용=0.6947\n",
      "Epoch 2000/10000, 평균 비용=0.6929\n",
      "Epoch 3000/10000, 평균 비용=0.6909\n",
      "Epoch 4000/10000, 평균 비용=0.6878\n",
      "Epoch 5000/10000, 평균 비용=0.6814\n",
      "Epoch 6000/10000, 평균 비용=0.6654\n",
      "Epoch 7000/10000, 평균 비용=0.6236\n",
      "Epoch 8000/10000, 평균 비용=0.5338\n",
      "Epoch 9000/10000, 평균 비용=0.4057\n",
      "Epoch 10000/10000, 평균 비용=0.2925\n"
     ]
    }
   ],
   "source": [
    "for epoch in range(epochs):\n",
    "    H2 = model(X)\n",
    "    \n",
    "    cost = criterion(H2, y)\n",
    "\n",
    "    optimizer.zero_grad()\n",
    "\n",
    "    cost.backward()\n",
    "\n",
    "    optimizer.step()\n",
    "\n",
    "    if (epoch+1) % 1000 == 0:\n",
    "        print(f\"Epoch {epoch+1}/{epochs}, 평균 비용={cost.item():.4f}\")"
   ]
  },
  {
   "cell_type": "code",
   "execution_count": 8,
   "id": "1a0db1bc-e34f-4b3f-aa83-2f00e7557d40",
   "metadata": {},
   "outputs": [
    {
     "name": "stdout",
     "output_type": "stream",
     "text": [
      "\n",
      "최종 학습 결과:\n",
      "가중치(weight): 5.1578, 편향(bias): -9.0429\n"
     ]
    }
   ],
   "source": [
    "trained_weight = model[0].weight.item()\n",
    "\n",
    "trained_bias = model[0].bias.item()\n",
    "\n",
    "print(\"\\n최종 학습 결과:\")\n",
    "\n",
    "print(f\"가중치(weight): {trained_weight:.4f}, 편향(bias): {trained_bias:.4f}\")"
   ]
  },
  {
   "cell_type": "code",
   "execution_count": 12,
   "id": "d3380731-2a77-4073-a5bf-0db8c117b914",
   "metadata": {},
   "outputs": [
    {
     "name": "stdout",
     "output_type": "stream",
     "text": [
      "\n",
      "키가 1.85m인 사람이 농구 선수일 확률은 0.7818 입니다.\n"
     ]
    }
   ],
   "source": [
    "new_height = torch.tensor([[1.85]])\n",
    "\n",
    "prediction = model(new_height).item()\n",
    "\n",
    "print(f\"\\n키가 1.85m인 사람이 농구 선수일 확률은 {prediction:.4f} 입니다.\")"
   ]
  },
  {
   "cell_type": "code",
   "execution_count": null,
   "id": "76b8cd96-97fb-4cfb-a421-52e94b16c841",
   "metadata": {},
   "outputs": [],
   "source": []
  }
 ],
 "metadata": {
  "kernelspec": {
   "display_name": "Python 3 (ipykernel)",
   "language": "python",
   "name": "python3"
  },
  "language_info": {
   "codemirror_mode": {
    "name": "ipython",
    "version": 3
   },
   "file_extension": ".py",
   "mimetype": "text/x-python",
   "name": "python",
   "nbconvert_exporter": "python",
   "pygments_lexer": "ipython3",
   "version": "3.11.13"
  }
 },
 "nbformat": 4,
 "nbformat_minor": 5
}
