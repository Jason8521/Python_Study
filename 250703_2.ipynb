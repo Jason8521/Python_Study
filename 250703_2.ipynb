{
 "cells": [
  {
   "cell_type": "code",
   "execution_count": 1,
   "id": "f285795c-45dc-47f7-9382-1e8d6539be01",
   "metadata": {},
   "outputs": [],
   "source": [
    "import torch\n",
    "import torch.nn as nn\n",
    "import torch.optim as optim"
   ]
  },
  {
   "cell_type": "code",
   "execution_count": 2,
   "id": "7d8c0266-e932-409b-9788-9be8ec216fc3",
   "metadata": {},
   "outputs": [],
   "source": [
    "X = torch.tensor([[0.0, 0.0],\n",
    "                 [0.0, 1.0],\n",
    "                 [1.0, 0.0],\n",
    "                 [1.0, 1.0]])\n",
    "\n",
    "y = torch.tensor([[0.1],\n",
    "                 [0.4],\n",
    "                 [0.6],\n",
    "                 [0.9]])"
   ]
  },
  {
   "cell_type": "code",
   "execution_count": 3,
   "id": "76923843-40b8-41d2-a9e9-fd99d3b25776",
   "metadata": {},
   "outputs": [],
   "source": [
    "model = nn.Sequential(\n",
    "    nn.Linear(2, 3),\n",
    "    nn.Sigmoid(),\n",
    "    nn.Linear(3, 1),\n",
    "    nn.Sigmoid()\n",
    ")"
   ]
  },
  {
   "cell_type": "code",
   "execution_count": 4,
   "id": "a5163eb0-6299-48d8-ab43-d3a6e01acf5b",
   "metadata": {},
   "outputs": [],
   "source": [
    "input_neurons = 2\n",
    "\n",
    "hidden_neurons = 3\n",
    "\n",
    "output_neurons = 1"
   ]
  },
  {
   "cell_type": "code",
   "execution_count": 5,
   "id": "d2cdf097-8313-489d-928e-aea2bf5c7708",
   "metadata": {},
   "outputs": [
    {
     "data": {
      "text/plain": [
       "1.0954451150103321"
      ]
     },
     "execution_count": 5,
     "metadata": {},
     "output_type": "execute_result"
    }
   ],
   "source": [
    "xavier_range1 = (6 / (input_neurons + hidden_neurons)) ** 0.5\n",
    "xavier_range1"
   ]
  },
  {
   "cell_type": "code",
   "execution_count": 6,
   "id": "ce8e76f6-acec-4c53-b8e4-8363b64267e5",
   "metadata": {},
   "outputs": [
    {
     "data": {
      "text/plain": [
       "1.224744871391589"
      ]
     },
     "execution_count": 6,
     "metadata": {},
     "output_type": "execute_result"
    }
   ],
   "source": [
    "xavier_range2 = (6 / (hidden_neurons + output_neurons)) ** 0.5\n",
    "xavier_range2"
   ]
  },
  {
   "cell_type": "code",
   "execution_count": 7,
   "id": "a776d073-2d10-4950-a919-898ca2141020",
   "metadata": {},
   "outputs": [],
   "source": [
    "with torch.no_grad():\n",
    "    weight_ih = (torch.rand(hidden_neurons, input_neurons) * 2 - 1) * xavier_range1\n",
    "    model[0].weight.copy_(weight_ih)\n",
    "    model[0].bias.fill_(0.0)\n",
    "\n",
    "    weight_ho = (torch.rand(output_neurons, hidden_neurons) * 2 - 1) * xavier_range2\n",
    "    model[2].weight.copy_(weight_ho)\n",
    "    model[2].bias.fill_(0.0)"
   ]
  },
  {
   "cell_type": "code",
   "execution_count": 8,
   "id": "0154b55e-b199-4a30-b1e8-90ea8362c56e",
   "metadata": {},
   "outputs": [],
   "source": [
    "learning_rate = 0.1\n",
    "epochs = 100"
   ]
  },
  {
   "cell_type": "code",
   "execution_count": 9,
   "id": "03b7fece-392a-4a7b-9623-9337c6e7fe99",
   "metadata": {},
   "outputs": [],
   "source": [
    "criterion = nn.MSELoss()"
   ]
  },
  {
   "cell_type": "code",
   "execution_count": 10,
   "id": "2984cd75-1e8b-4bbb-8a62-0761b5f6ba8f",
   "metadata": {},
   "outputs": [],
   "source": [
    "optimizer = optim.Adam(model.parameters(), lr=learning_rate)"
   ]
  },
  {
   "cell_type": "code",
   "execution_count": 11,
   "id": "6ae552e2-a87c-4f09-af7e-7104293181c9",
   "metadata": {},
   "outputs": [
    {
     "name": "stdout",
     "output_type": "stream",
     "text": [
      "Epoch 1/100, cost=0.0938\n",
      "Epoch 2/100, cost=0.0836\n",
      "Epoch 3/100, cost=0.0789\n",
      "Epoch 4/100, cost=0.0730\n",
      "Epoch 5/100, cost=0.0662\n",
      "Epoch 6/100, cost=0.0606\n",
      "Epoch 7/100, cost=0.0561\n",
      "Epoch 8/100, cost=0.0514\n",
      "Epoch 9/100, cost=0.0462\n",
      "Epoch 10/100, cost=0.0409\n",
      "Epoch 11/100, cost=0.0362\n",
      "Epoch 12/100, cost=0.0319\n",
      "Epoch 13/100, cost=0.0278\n",
      "Epoch 14/100, cost=0.0236\n",
      "Epoch 15/100, cost=0.0196\n",
      "Epoch 16/100, cost=0.0160\n",
      "Epoch 17/100, cost=0.0128\n",
      "Epoch 18/100, cost=0.0100\n",
      "Epoch 19/100, cost=0.0074\n",
      "Epoch 20/100, cost=0.0052\n",
      "Epoch 21/100, cost=0.0035\n",
      "Epoch 22/100, cost=0.0024\n",
      "Epoch 23/100, cost=0.0018\n",
      "Epoch 24/100, cost=0.0014\n",
      "Epoch 25/100, cost=0.0013\n",
      "Epoch 26/100, cost=0.0013\n",
      "Epoch 27/100, cost=0.0014\n",
      "Epoch 28/100, cost=0.0015\n",
      "Epoch 29/100, cost=0.0016\n",
      "Epoch 30/100, cost=0.0014\n",
      "Epoch 31/100, cost=0.0012\n",
      "Epoch 32/100, cost=0.0009\n",
      "Epoch 33/100, cost=0.0007\n",
      "Epoch 34/100, cost=0.0005\n",
      "Epoch 35/100, cost=0.0004\n",
      "Epoch 36/100, cost=0.0003\n",
      "Epoch 37/100, cost=0.0004\n",
      "Epoch 38/100, cost=0.0006\n",
      "Epoch 39/100, cost=0.0008\n",
      "Epoch 40/100, cost=0.0009\n",
      "Epoch 41/100, cost=0.0009\n",
      "Epoch 42/100, cost=0.0009\n",
      "Epoch 43/100, cost=0.0008\n",
      "Epoch 44/100, cost=0.0007\n",
      "Epoch 45/100, cost=0.0006\n",
      "Epoch 46/100, cost=0.0005\n",
      "Epoch 47/100, cost=0.0005\n",
      "Epoch 48/100, cost=0.0005\n",
      "Epoch 49/100, cost=0.0006\n",
      "Epoch 50/100, cost=0.0006\n",
      "Epoch 51/100, cost=0.0006\n",
      "Epoch 52/100, cost=0.0006\n",
      "Epoch 53/100, cost=0.0006\n",
      "Epoch 54/100, cost=0.0005\n",
      "Epoch 55/100, cost=0.0004\n",
      "Epoch 56/100, cost=0.0004\n",
      "Epoch 57/100, cost=0.0004\n",
      "Epoch 58/100, cost=0.0003\n",
      "Epoch 59/100, cost=0.0003\n",
      "Epoch 60/100, cost=0.0003\n",
      "Epoch 61/100, cost=0.0003\n",
      "Epoch 62/100, cost=0.0003\n",
      "Epoch 63/100, cost=0.0003\n",
      "Epoch 64/100, cost=0.0003\n",
      "Epoch 65/100, cost=0.0002\n",
      "Epoch 66/100, cost=0.0002\n",
      "Epoch 67/100, cost=0.0002\n",
      "Epoch 68/100, cost=0.0001\n",
      "Epoch 69/100, cost=0.0001\n",
      "Epoch 70/100, cost=0.0001\n",
      "Epoch 71/100, cost=0.0001\n",
      "Epoch 72/100, cost=0.0001\n",
      "Epoch 73/100, cost=0.0001\n",
      "Epoch 74/100, cost=0.0001\n",
      "Epoch 75/100, cost=0.0001\n",
      "Epoch 76/100, cost=0.0001\n",
      "Epoch 77/100, cost=0.0000\n",
      "Epoch 78/100, cost=0.0000\n",
      "Epoch 79/100, cost=0.0000\n",
      "Epoch 80/100, cost=0.0000\n",
      "Epoch 81/100, cost=0.0000\n",
      "Epoch 82/100, cost=0.0000\n",
      "Epoch 83/100, cost=0.0000\n",
      "Epoch 84/100, cost=0.0000\n",
      "Epoch 85/100, cost=0.0000\n",
      "Epoch 86/100, cost=0.0000\n",
      "Epoch 87/100, cost=0.0000\n",
      "Epoch 88/100, cost=0.0000\n",
      "Epoch 89/100, cost=0.0000\n",
      "Epoch 90/100, cost=0.0000\n",
      "Epoch 91/100, cost=0.0000\n",
      "Epoch 92/100, cost=0.0000\n",
      "Epoch 93/100, cost=0.0000\n",
      "Epoch 94/100, cost=0.0000\n",
      "Epoch 95/100, cost=0.0000\n",
      "Epoch 96/100, cost=0.0000\n",
      "Epoch 97/100, cost=0.0000\n",
      "Epoch 98/100, cost=0.0000\n",
      "Epoch 99/100, cost=0.0000\n",
      "Epoch 100/100, cost=0.0000\n"
     ]
    }
   ],
   "source": [
    "for epoch in range(epochs):\n",
    "    H2 = model(X)\n",
    "\n",
    "    cost = criterion(H2, y)\n",
    "\n",
    "    optimizer.zero_grad()\n",
    "\n",
    "    cost.backward()\n",
    "\n",
    "    optimizer.step()\n",
    "\n",
    "    print(f\"Epoch {epoch+1}/{epochs}, cost={cost.item():.4f}\")"
   ]
  },
  {
   "cell_type": "code",
   "execution_count": null,
   "id": "56975564-6699-48de-bf61-247c22fc9357",
   "metadata": {},
   "outputs": [],
   "source": []
  }
 ],
 "metadata": {
  "kernelspec": {
   "display_name": "Python 3 (ipykernel)",
   "language": "python",
   "name": "python3"
  },
  "language_info": {
   "codemirror_mode": {
    "name": "ipython",
    "version": 3
   },
   "file_extension": ".py",
   "mimetype": "text/x-python",
   "name": "python",
   "nbconvert_exporter": "python",
   "pygments_lexer": "ipython3",
   "version": "3.11.13"
  }
 },
 "nbformat": 4,
 "nbformat_minor": 5
}
