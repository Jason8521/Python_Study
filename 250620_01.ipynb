{
 "cells": [
  {
   "cell_type": "code",
   "execution_count": 1,
   "id": "5a0b78c1-97c1-4df9-a97a-734ea15e8f94",
   "metadata": {},
   "outputs": [
    {
     "name": "stdout",
     "output_type": "stream",
     "text": [
      "Requirement already satisfied: opencv-python in c:\\programdata\\anaconda3\\lib\\site-packages (4.11.0.86)\n",
      "Requirement already satisfied: numpy>=1.21.2 in c:\\programdata\\anaconda3\\lib\\site-packages (from opencv-python) (1.26.4)\n"
     ]
    }
   ],
   "source": [
    "!pip install opencv-python"
   ]
  },
  {
   "cell_type": "code",
   "execution_count": 6,
   "id": "d83dbace-14a8-4c20-bec8-be36774a8f13",
   "metadata": {},
   "outputs": [
    {
     "name": "stdout",
     "output_type": "stream",
     "text": [
      "Collecting ultralytics\n",
      "  Using cached ultralytics-8.3.156-py3-none-any.whl.metadata (37 kB)\n",
      "Requirement already satisfied: numpy>=1.23.0 in c:\\programdata\\anaconda3\\lib\\site-packages (from ultralytics) (1.26.4)\n",
      "Requirement already satisfied: matplotlib>=3.3.0 in c:\\programdata\\anaconda3\\lib\\site-packages (from ultralytics) (3.9.2)\n",
      "Requirement already satisfied: opencv-python>=4.6.0 in c:\\programdata\\anaconda3\\lib\\site-packages (from ultralytics) (4.11.0.86)\n",
      "Requirement already satisfied: pillow>=7.1.2 in c:\\programdata\\anaconda3\\lib\\site-packages (from ultralytics) (10.4.0)\n",
      "Requirement already satisfied: pyyaml>=5.3.1 in c:\\programdata\\anaconda3\\lib\\site-packages (from ultralytics) (6.0.1)\n",
      "Requirement already satisfied: requests>=2.23.0 in c:\\programdata\\anaconda3\\lib\\site-packages (from ultralytics) (2.32.3)\n",
      "Requirement already satisfied: scipy>=1.4.1 in c:\\programdata\\anaconda3\\lib\\site-packages (from ultralytics) (1.13.1)\n",
      "Collecting torch>=1.8.0 (from ultralytics)\n",
      "  Downloading torch-2.7.1-cp312-cp312-win_amd64.whl.metadata (28 kB)\n",
      "Collecting torchvision>=0.9.0 (from ultralytics)\n",
      "  Downloading torchvision-0.22.1-cp312-cp312-win_amd64.whl.metadata (6.1 kB)\n",
      "Requirement already satisfied: tqdm>=4.64.0 in c:\\programdata\\anaconda3\\lib\\site-packages (from ultralytics) (4.66.5)\n",
      "Requirement already satisfied: psutil in c:\\programdata\\anaconda3\\lib\\site-packages (from ultralytics) (5.9.0)\n",
      "Requirement already satisfied: py-cpuinfo in c:\\programdata\\anaconda3\\lib\\site-packages (from ultralytics) (9.0.0)\n",
      "Requirement already satisfied: pandas>=1.1.4 in c:\\programdata\\anaconda3\\lib\\site-packages (from ultralytics) (2.2.2)\n",
      "Collecting ultralytics-thop>=2.0.0 (from ultralytics)\n",
      "  Using cached ultralytics_thop-2.0.14-py3-none-any.whl.metadata (9.4 kB)\n",
      "Requirement already satisfied: contourpy>=1.0.1 in c:\\programdata\\anaconda3\\lib\\site-packages (from matplotlib>=3.3.0->ultralytics) (1.2.0)\n",
      "Requirement already satisfied: cycler>=0.10 in c:\\programdata\\anaconda3\\lib\\site-packages (from matplotlib>=3.3.0->ultralytics) (0.11.0)\n",
      "Requirement already satisfied: fonttools>=4.22.0 in c:\\programdata\\anaconda3\\lib\\site-packages (from matplotlib>=3.3.0->ultralytics) (4.51.0)\n",
      "Requirement already satisfied: kiwisolver>=1.3.1 in c:\\programdata\\anaconda3\\lib\\site-packages (from matplotlib>=3.3.0->ultralytics) (1.4.4)\n",
      "Requirement already satisfied: packaging>=20.0 in c:\\programdata\\anaconda3\\lib\\site-packages (from matplotlib>=3.3.0->ultralytics) (24.1)\n",
      "Requirement already satisfied: pyparsing>=2.3.1 in c:\\programdata\\anaconda3\\lib\\site-packages (from matplotlib>=3.3.0->ultralytics) (3.1.2)\n",
      "Requirement already satisfied: python-dateutil>=2.7 in c:\\programdata\\anaconda3\\lib\\site-packages (from matplotlib>=3.3.0->ultralytics) (2.9.0.post0)\n",
      "Requirement already satisfied: pytz>=2020.1 in c:\\programdata\\anaconda3\\lib\\site-packages (from pandas>=1.1.4->ultralytics) (2024.1)\n",
      "Requirement already satisfied: tzdata>=2022.7 in c:\\programdata\\anaconda3\\lib\\site-packages (from pandas>=1.1.4->ultralytics) (2023.3)\n",
      "Requirement already satisfied: charset-normalizer<4,>=2 in c:\\programdata\\anaconda3\\lib\\site-packages (from requests>=2.23.0->ultralytics) (3.3.2)\n",
      "Requirement already satisfied: idna<4,>=2.5 in c:\\programdata\\anaconda3\\lib\\site-packages (from requests>=2.23.0->ultralytics) (3.7)\n",
      "Requirement already satisfied: urllib3<3,>=1.21.1 in c:\\programdata\\anaconda3\\lib\\site-packages (from requests>=2.23.0->ultralytics) (2.2.3)\n",
      "Requirement already satisfied: certifi>=2017.4.17 in c:\\programdata\\anaconda3\\lib\\site-packages (from requests>=2.23.0->ultralytics) (2024.8.30)\n",
      "Requirement already satisfied: filelock in c:\\programdata\\anaconda3\\lib\\site-packages (from torch>=1.8.0->ultralytics) (3.13.1)\n",
      "Requirement already satisfied: typing-extensions>=4.10.0 in c:\\programdata\\anaconda3\\lib\\site-packages (from torch>=1.8.0->ultralytics) (4.11.0)\n",
      "Collecting sympy>=1.13.3 (from torch>=1.8.0->ultralytics)\n",
      "  Using cached sympy-1.14.0-py3-none-any.whl.metadata (12 kB)\n",
      "Requirement already satisfied: networkx in c:\\programdata\\anaconda3\\lib\\site-packages (from torch>=1.8.0->ultralytics) (3.3)\n",
      "Requirement already satisfied: jinja2 in c:\\programdata\\anaconda3\\lib\\site-packages (from torch>=1.8.0->ultralytics) (3.1.4)\n",
      "Requirement already satisfied: fsspec in c:\\programdata\\anaconda3\\lib\\site-packages (from torch>=1.8.0->ultralytics) (2024.6.1)\n",
      "Requirement already satisfied: setuptools in c:\\programdata\\anaconda3\\lib\\site-packages (from torch>=1.8.0->ultralytics) (75.1.0)\n",
      "Requirement already satisfied: colorama in c:\\programdata\\anaconda3\\lib\\site-packages (from tqdm>=4.64.0->ultralytics) (0.4.6)\n",
      "Requirement already satisfied: six>=1.5 in c:\\programdata\\anaconda3\\lib\\site-packages (from python-dateutil>=2.7->matplotlib>=3.3.0->ultralytics) (1.16.0)\n",
      "Requirement already satisfied: mpmath<1.4,>=1.1.0 in c:\\programdata\\anaconda3\\lib\\site-packages (from sympy>=1.13.3->torch>=1.8.0->ultralytics) (1.3.0)\n",
      "Requirement already satisfied: MarkupSafe>=2.0 in c:\\programdata\\anaconda3\\lib\\site-packages (from jinja2->torch>=1.8.0->ultralytics) (2.1.3)\n",
      "Using cached ultralytics-8.3.156-py3-none-any.whl (1.0 MB)\n",
      "Downloading torch-2.7.1-cp312-cp312-win_amd64.whl (216.1 MB)\n",
      "   ---------------------------------------- 0.0/216.1 MB ? eta -:--:--\n",
      "   - -------------------------------------- 7.3/216.1 MB 50.2 MB/s eta 0:00:05\n",
      "   --- ------------------------------------ 19.4/216.1 MB 45.3 MB/s eta 0:00:05\n",
      "   ---- ----------------------------------- 26.7/216.1 MB 42.4 MB/s eta 0:00:05\n",
      "   ------ --------------------------------- 33.6/216.1 MB 39.4 MB/s eta 0:00:05\n",
      "   ------ --------------------------------- 34.6/216.1 MB 39.2 MB/s eta 0:00:05\n",
      "   ------- -------------------------------- 41.7/216.1 MB 32.7 MB/s eta 0:00:06\n",
      "   -------- ------------------------------- 47.2/216.1 MB 31.9 MB/s eta 0:00:06\n",
      "   --------- ------------------------------ 51.6/216.1 MB 30.4 MB/s eta 0:00:06\n",
      "   ---------- ----------------------------- 56.4/216.1 MB 29.4 MB/s eta 0:00:06\n",
      "   ---------- ----------------------------- 59.0/216.1 MB 27.6 MB/s eta 0:00:06\n",
      "   ----------- ---------------------------- 61.6/216.1 MB 26.3 MB/s eta 0:00:06\n",
      "   ------------ --------------------------- 66.1/216.1 MB 25.7 MB/s eta 0:00:06\n",
      "   ------------- -------------------------- 71.6/216.1 MB 25.6 MB/s eta 0:00:06\n",
      "   ------------- -------------------------- 75.5/216.1 MB 25.2 MB/s eta 0:00:06\n",
      "   --------------- ------------------------ 81.3/216.1 MB 25.3 MB/s eta 0:00:06\n",
      "   --------------- ------------------------ 84.7/216.1 MB 24.7 MB/s eta 0:00:06\n",
      "   ----------------- ---------------------- 92.5/216.1 MB 25.3 MB/s eta 0:00:05\n",
      "   ------------------ -------------------- 100.7/216.1 MB 26.1 MB/s eta 0:00:05\n",
      "   ------------------- ------------------- 107.5/216.1 MB 26.4 MB/s eta 0:00:05\n",
      "   -------------------- ------------------ 113.2/216.1 MB 26.6 MB/s eta 0:00:04\n",
      "   --------------------- ----------------- 121.1/216.1 MB 26.8 MB/s eta 0:00:04\n",
      "   ----------------------- --------------- 128.5/216.1 MB 27.1 MB/s eta 0:00:04\n",
      "   ------------------------ -------------- 136.3/216.1 MB 27.8 MB/s eta 0:00:03\n",
      "   -------------------------- ------------ 146.5/216.1 MB 28.3 MB/s eta 0:00:03\n",
      "   ---------------------------- ---------- 157.0/216.1 MB 29.0 MB/s eta 0:00:03\n",
      "   ----------------------------- --------- 165.9/216.1 MB 29.5 MB/s eta 0:00:02\n",
      "   -------------------------------- ------ 178.8/216.1 MB 30.5 MB/s eta 0:00:02\n",
      "   ---------------------------------- ---- 190.1/216.1 MB 31.2 MB/s eta 0:00:01\n",
      "   ------------------------------------ -- 199.5/216.1 MB 31.7 MB/s eta 0:00:01\n",
      "   ------------------------------------- - 209.2/216.1 MB 32.2 MB/s eta 0:00:01\n",
      "   --------------------------------------  216.0/216.1 MB 32.3 MB/s eta 0:00:01\n",
      "   --------------------------------------  216.0/216.1 MB 32.3 MB/s eta 0:00:01\n",
      "   --------------------------------------- 216.1/216.1 MB 30.6 MB/s eta 0:00:00\n",
      "Downloading torchvision-0.22.1-cp312-cp312-win_amd64.whl (1.7 MB)\n",
      "   ---------------------------------------- 0.0/1.7 MB ? eta -:--:--\n",
      "   ---------------------------------------- 1.7/1.7 MB 46.6 MB/s eta 0:00:00\n",
      "Using cached ultralytics_thop-2.0.14-py3-none-any.whl (26 kB)\n",
      "Using cached sympy-1.14.0-py3-none-any.whl (6.3 MB)\n",
      "Installing collected packages: sympy, torch, ultralytics-thop, torchvision, ultralytics\n",
      "  Attempting uninstall: sympy\n",
      "    Found existing installation: sympy 1.13.2\n",
      "    Uninstalling sympy-1.13.2:\n",
      "      Successfully uninstalled sympy-1.13.2\n",
      "Successfully installed sympy-1.14.0 torch-2.7.1 torchvision-0.22.1 ultralytics-8.3.156 ultralytics-thop-2.0.14\n"
     ]
    }
   ],
   "source": [
    "!pip install ultralytics"
   ]
  },
  {
   "cell_type": "code",
   "execution_count": 7,
   "id": "bb1ed06e-fcaa-4501-8775-72c84423ab1b",
   "metadata": {},
   "outputs": [],
   "source": [
    "import cv2\n",
    "from ultralytics import YOLO"
   ]
  },
  {
   "cell_type": "code",
   "execution_count": 8,
   "id": "2adacde0-f652-4e5b-abe0-a29b9d9fff80",
   "metadata": {},
   "outputs": [],
   "source": [
    "model_path = r\"c:\\ai_project01\\results\\mask_detection\\weights\\best.pt\"\n",
    "model = YOLO(model_path)"
   ]
  },
  {
   "cell_type": "code",
   "execution_count": 9,
   "id": "464a3194-77a7-4d00-8ef8-b81c00d983a6",
   "metadata": {},
   "outputs": [],
   "source": [
    "cap = cv2.VideoCapture(0)"
   ]
  },
  {
   "cell_type": "code",
   "execution_count": 10,
   "id": "c6608977-2197-4ba0-9b77-918ef73f1579",
   "metadata": {},
   "outputs": [
    {
     "name": "stdout",
     "output_type": "stream",
     "text": [
      "실시간 마스크 탐지를 시작합니다. 'q'를 누르면 종료됩니다.\n"
     ]
    }
   ],
   "source": [
    "print(\"실시간 마스크 탐지를 시작합니다. 'q'를 누르면 종료됩니다.\")\n",
    "\n",
    "while True:\n",
    "    \n",
    "    if not cap.isOpened():\n",
    "        print(\"웹캠을 열 수 없습니다.\")\n",
    "        break\n",
    "\n",
    "    ret, frame = cap.read()\n",
    "\n",
    "    if not ret:\n",
    "        print(\"프레임을 읽을 수 없습니다.\")\n",
    "        break\n",
    "\n",
    "    results = model.predict(source=frame, conf=0.5, imgsz=640, verbose=False)\n",
    "\n",
    "    annotated_frame = results[0].plot()\n",
    "\n",
    "    cv2.imshow(\"Mask Detection (YOLO plot 사용)\", annotated_frame)\n",
    "\n",
    "    if cv2.waitKey(1) == ord('q'):\n",
    "        break\n",
    "\n",
    "cap.release()\n",
    "cv2.destroyAllWindows()"
   ]
  },
  {
   "cell_type": "code",
   "execution_count": null,
   "id": "8aaaaca1-aeaa-4a03-9951-267f8ef4676f",
   "metadata": {},
   "outputs": [],
   "source": []
  }
 ],
 "metadata": {
  "kernelspec": {
   "display_name": "Python 3 (ipykernel)",
   "language": "python",
   "name": "python3"
  },
  "language_info": {
   "codemirror_mode": {
    "name": "ipython",
    "version": 3
   },
   "file_extension": ".py",
   "mimetype": "text/x-python",
   "name": "python",
   "nbconvert_exporter": "python",
   "pygments_lexer": "ipython3",
   "version": "3.12.7"
  }
 },
 "nbformat": 4,
 "nbformat_minor": 5
}
