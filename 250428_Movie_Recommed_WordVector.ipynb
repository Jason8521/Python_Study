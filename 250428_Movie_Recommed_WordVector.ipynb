{
 "cells": [
  {
   "cell_type": "code",
   "execution_count": 1,
   "id": "1f6ad2be-6a14-4a37-a35b-c8218637aa64",
   "metadata": {},
   "outputs": [
    {
     "name": "stdout",
     "output_type": "stream",
     "text": [
      "Collecting oracledb\n",
      "  Downloading oracledb-3.1.0-cp310-cp310-win_amd64.whl.metadata (5.6 kB)\n",
      "Collecting cryptography>=3.2.1 (from oracledb)\n",
      "  Downloading cryptography-44.0.2-cp39-abi3-win_amd64.whl.metadata (5.7 kB)\n",
      "Requirement already satisfied: cffi>=1.12 in c:\\programdata\\anaconda3\\envs\\movie_env01\\lib\\site-packages (from cryptography>=3.2.1->oracledb) (1.17.1)\n",
      "Requirement already satisfied: pycparser in c:\\programdata\\anaconda3\\envs\\movie_env01\\lib\\site-packages (from cffi>=1.12->cryptography>=3.2.1->oracledb) (2.22)\n",
      "Downloading oracledb-3.1.0-cp310-cp310-win_amd64.whl (2.1 MB)\n",
      "   ---------------------------------------- 0.0/2.1 MB ? eta -:--:--\n",
      "   ---------------------------------------- 2.1/2.1 MB 58.2 MB/s eta 0:00:00\n",
      "Downloading cryptography-44.0.2-cp39-abi3-win_amd64.whl (3.2 MB)\n",
      "   ---------------------------------------- 0.0/3.2 MB ? eta -:--:--\n",
      "   ---------------------------------------- 3.2/3.2 MB 95.1 MB/s eta 0:00:00\n",
      "Installing collected packages: cryptography, oracledb\n",
      "Successfully installed cryptography-44.0.2 oracledb-3.1.0\n"
     ]
    }
   ],
   "source": [
    "# 오라클 데이터베이스와 연동하기 위한 도구를 설치합니다\n",
    "!pip install oracledb"
   ]
  },
  {
   "cell_type": "code",
   "execution_count": 2,
   "id": "28886b3a-4d38-4975-a2e0-2f8c7a841472",
   "metadata": {},
   "outputs": [
    {
     "name": "stdout",
     "output_type": "stream",
     "text": [
      "Collecting cmake\n",
      "  Downloading cmake-4.0.0-py3-none-win_amd64.whl.metadata (6.3 kB)\n",
      "Downloading cmake-4.0.0-py3-none-win_amd64.whl (36.7 MB)\n",
      "   ---------------------------------------- 0.0/36.7 MB ? eta -:--:--\n",
      "   --- ------------------------------------ 3.4/36.7 MB 20.0 MB/s eta 0:00:02\n",
      "   ------ --------------------------------- 6.3/36.7 MB 25.7 MB/s eta 0:00:02\n",
      "   --------- ------------------------------ 8.4/36.7 MB 14.9 MB/s eta 0:00:02\n",
      "   ------------------ --------------------- 16.8/36.7 MB 22.5 MB/s eta 0:00:01\n",
      "   ------------------------ --------------- 22.0/36.7 MB 23.6 MB/s eta 0:00:01\n",
      "   ------------------------------ --------- 28.3/36.7 MB 23.9 MB/s eta 0:00:01\n",
      "   ---------------------------------------  36.2/36.7 MB 25.5 MB/s eta 0:00:01\n",
      "   ---------------------------------------- 36.7/36.7 MB 24.8 MB/s eta 0:00:00\n",
      "Installing collected packages: cmake\n",
      "Successfully installed cmake-4.0.0\n"
     ]
    }
   ],
   "source": [
    "# 'cmake' 설치: 컴퓨터 프로그램을 빌드하거나 컴파일할 때 필요한 도구\n",
    "!pip install cmake"
   ]
  },
  {
   "cell_type": "code",
   "execution_count": 4,
   "id": "547b4b21-dc70-4721-9589-6530bb5a6bdd",
   "metadata": {},
   "outputs": [
    {
     "name": "stdout",
     "output_type": "stream",
     "text": [
      "Requirement already satisfied: kiwipiepy in c:\\programdata\\anaconda3\\envs\\movie_env01\\lib\\site-packages (0.20.4)\n",
      "Requirement already satisfied: kiwipiepy_model<0.21,>=0.20 in c:\\programdata\\anaconda3\\envs\\movie_env01\\lib\\site-packages (from kiwipiepy) (0.20.0)\n",
      "Requirement already satisfied: numpy in c:\\programdata\\anaconda3\\envs\\movie_env01\\lib\\site-packages (from kiwipiepy) (2.2.5)\n",
      "Requirement already satisfied: tqdm in c:\\programdata\\anaconda3\\envs\\movie_env01\\lib\\site-packages (from kiwipiepy) (4.67.1)\n",
      "Requirement already satisfied: colorama in c:\\programdata\\anaconda3\\envs\\movie_env01\\lib\\site-packages (from tqdm->kiwipiepy) (0.4.6)\n"
     ]
    }
   ],
   "source": [
    "# 'kiwipiepy' 설치: 한국어 문장을 분석해 단어를 나누구 품사를 판단하는 도구\n",
    "!pip install kiwipiepy"
   ]
  },
  {
   "cell_type": "code",
   "execution_count": 5,
   "id": "53bfc1b5-e42c-4649-a37a-4fd388a2420c",
   "metadata": {},
   "outputs": [
    {
     "name": "stdout",
     "output_type": "stream",
     "text": [
      "Collecting pandas\n",
      "  Downloading pandas-2.2.3-cp310-cp310-win_amd64.whl.metadata (19 kB)\n",
      "Requirement already satisfied: numpy>=1.22.4 in c:\\programdata\\anaconda3\\envs\\movie_env01\\lib\\site-packages (from pandas) (2.2.5)\n",
      "Requirement already satisfied: python-dateutil>=2.8.2 in c:\\programdata\\anaconda3\\envs\\movie_env01\\lib\\site-packages (from pandas) (2.9.0.post0)\n",
      "Collecting pytz>=2020.1 (from pandas)\n",
      "  Downloading pytz-2025.2-py2.py3-none-any.whl.metadata (22 kB)\n",
      "Collecting tzdata>=2022.7 (from pandas)\n",
      "  Downloading tzdata-2025.2-py2.py3-none-any.whl.metadata (1.4 kB)\n",
      "Requirement already satisfied: six>=1.5 in c:\\programdata\\anaconda3\\envs\\movie_env01\\lib\\site-packages (from python-dateutil>=2.8.2->pandas) (1.17.0)\n",
      "Downloading pandas-2.2.3-cp310-cp310-win_amd64.whl (11.6 MB)\n",
      "   ---------------------------------------- 0.0/11.6 MB ? eta -:--:--\n",
      "   ---------------------------------------- 11.6/11.6 MB 65.9 MB/s eta 0:00:00\n",
      "Downloading pytz-2025.2-py2.py3-none-any.whl (509 kB)\n",
      "Downloading tzdata-2025.2-py2.py3-none-any.whl (347 kB)\n",
      "Installing collected packages: pytz, tzdata, pandas\n",
      "Successfully installed pandas-2.2.3 pytz-2025.2 tzdata-2025.2\n"
     ]
    }
   ],
   "source": [
    "# 'pandas' 설치: 표(스프레드시트) 형태의 데이터를 쉽게 다루게 해주는 도구\n",
    "!pip install pandas"
   ]
  },
  {
   "cell_type": "code",
   "execution_count": 6,
   "id": "51013dea-8088-4c6c-9565-9e51ca762e17",
   "metadata": {},
   "outputs": [
    {
     "name": "stdout",
     "output_type": "stream",
     "text": [
      "Requirement already satisfied: tqdm in c:\\programdata\\anaconda3\\envs\\movie_env01\\lib\\site-packages (4.67.1)\n",
      "Requirement already satisfied: colorama in c:\\programdata\\anaconda3\\envs\\movie_env01\\lib\\site-packages (from tqdm) (0.4.6)\n"
     ]
    }
   ],
   "source": [
    "# 'tqdm' 설치: 반복 작업의 진행 상태를 화면에 표시해주는 도구\n",
    "!pip install tqdm"
   ]
  },
  {
   "cell_type": "code",
   "execution_count": 7,
   "id": "330e6024-1858-4a54-83b3-768bd0353236",
   "metadata": {},
   "outputs": [
    {
     "name": "stdout",
     "output_type": "stream",
     "text": [
      "Collecting gensim\n",
      "  Downloading gensim-4.3.3-cp310-cp310-win_amd64.whl.metadata (8.2 kB)\n",
      "Collecting numpy<2.0,>=1.18.5 (from gensim)\n",
      "  Downloading numpy-1.26.4-cp310-cp310-win_amd64.whl.metadata (61 kB)\n",
      "Collecting scipy<1.14.0,>=1.7.0 (from gensim)\n",
      "  Downloading scipy-1.13.1-cp310-cp310-win_amd64.whl.metadata (60 kB)\n",
      "Collecting smart-open>=1.8.1 (from gensim)\n",
      "  Downloading smart_open-7.1.0-py3-none-any.whl.metadata (24 kB)\n",
      "Collecting wrapt (from smart-open>=1.8.1->gensim)\n",
      "  Downloading wrapt-1.17.2-cp310-cp310-win_amd64.whl.metadata (6.5 kB)\n",
      "Downloading gensim-4.3.3-cp310-cp310-win_amd64.whl (24.0 MB)\n",
      "   ---------------------------------------- 0.0/24.0 MB ? eta -:--:--\n",
      "   ----------------------------- ---------- 17.8/24.0 MB 86.5 MB/s eta 0:00:01\n",
      "   ---------------------------------------- 24.0/24.0 MB 80.0 MB/s eta 0:00:00\n",
      "Downloading numpy-1.26.4-cp310-cp310-win_amd64.whl (15.8 MB)\n",
      "   ---------------------------------------- 0.0/15.8 MB ? eta -:--:--\n",
      "   ---------------------------------------- 15.8/15.8 MB 99.7 MB/s eta 0:00:00\n",
      "Downloading scipy-1.13.1-cp310-cp310-win_amd64.whl (46.2 MB)\n",
      "   ---------------------------------------- 0.0/46.2 MB ? eta -:--:--\n",
      "   ------------------- -------------------- 22.0/46.2 MB 115.7 MB/s eta 0:00:01\n",
      "   ------------------------------ --------- 35.7/46.2 MB 87.0 MB/s eta 0:00:01\n",
      "   ---------------------------------------- 46.2/46.2 MB 77.4 MB/s eta 0:00:00\n",
      "Downloading smart_open-7.1.0-py3-none-any.whl (61 kB)\n",
      "Downloading wrapt-1.17.2-cp310-cp310-win_amd64.whl (38 kB)\n",
      "Installing collected packages: wrapt, numpy, smart-open, scipy, gensim\n",
      "  Attempting uninstall: numpy\n",
      "    Found existing installation: numpy 2.2.5\n",
      "    Uninstalling numpy-2.2.5:\n",
      "      Successfully uninstalled numpy-2.2.5\n",
      "Successfully installed gensim-4.3.3 numpy-1.26.4 scipy-1.13.1 smart-open-7.1.0 wrapt-1.17.2\n"
     ]
    }
   ],
   "source": [
    "# 'gensim' 설치: 텍스트 데이터에서 중요한 단어를 분석하고 숫자로 변환하는 도구\n",
    "!pip install gensim"
   ]
  },
  {
   "cell_type": "code",
   "execution_count": 8,
   "id": "1168b586-bea3-4aad-b53d-314171563f2f",
   "metadata": {},
   "outputs": [],
   "source": [
    "# 필요한 도구들을 프로그램에 불러오는 과정입니다.\n",
    "import os # 운영체제와 관련된 작업을 처리할 때 사요합니다.\n",
    "import oracledb # 오라클 데이터베이스와 연결하여 데이터를 가져오거나 저장할 때 사용합니다.\n",
    "import time # 프로그램 실행시간을 측정할 때 사용합니다.\n",
    "import pandas as pd # 데이터를 표 형태로 쉽게 관리할 수 있게 도와줍니다.\n",
    "import numpy as np # 숫자를 다루는 계산과 배열 관리를 할 때 사용합니다.\n",
    "from tqdm.notebook import tqdm # 반복 작업의 진행 상태를 시각적으로 보여줍니다.\n",
    "from kiwipiepy import Kiwi # 문장을 단어와 품사로 나누어 분석할 때 사용합니다.\n",
    "import pickle # 데이터를 저장하거나 읽을 때 압축(직렬화)하거나 압축을 풀 때(역직렬화) 사용합니다."
   ]
  },
  {
   "cell_type": "code",
   "execution_count": 10,
   "id": "4ac4906c-eaeb-4c48-82b2-72303ffa3a43",
   "metadata": {},
   "outputs": [
    {
     "data": {
      "text/plain": [
       "<oracledb.Connection to movie_scott@(DESCRIPTION=(ADDRESS=(PROTOCOL=TCP)(HOST=localhost)(PORT=1521))(CONNECT_DATA=(SERVICE_NAME=XEPDB1)))>"
      ]
     },
     "execution_count": 10,
     "metadata": {},
     "output_type": "execute_result"
    }
   ],
   "source": [
    "# dsn1은 연결할 데이터베이스의 위치 정보입니다.\n",
    "dsn1 = oracledb.makedsn(\"localhost\", 1521, service_name=\"XEPDB1\")\n",
    "username = \"movie_scott\" # 데이터베이스 접속 사용자 이름입니다.\n",
    "user_pass = \"pass123\" # 실제 데이터베이스 접속 비밀번호입니다.\n",
    "\n",
    "# 데이터베이스에 연결합니다.\n",
    "connection = oracledb.connect(user=username, password=user_pass, dsn=dsn1)\n",
    "\n",
    "# 연결 정보를 확인합니다.\n",
    "connection"
   ]
  },
  {
   "cell_type": "code",
   "execution_count": 11,
   "id": "f7eaca4c-eb3c-4c93-875b-bd113bf41a14",
   "metadata": {},
   "outputs": [
    {
     "name": "stderr",
     "output_type": "stream",
     "text": [
      "C:\\Users\\User\\AppData\\Local\\Temp\\ipykernel_6804\\473340778.py:6: UserWarning: pandas only supports SQLAlchemy connectable (engine/connection) or database string URI or sqlite3 DBAPI2 connection. Other DBAPI2 objects are not tested. Please consider using SQLAlchemy.\n",
      "  movie_df = pd.read_sql(query, con=connection)\n"
     ]
    },
    {
     "data": {
      "text/html": [
       "<div>\n",
       "<style scoped>\n",
       "    .dataframe tbody tr th:only-of-type {\n",
       "        vertical-align: middle;\n",
       "    }\n",
       "\n",
       "    .dataframe tbody tr th {\n",
       "        vertical-align: top;\n",
       "    }\n",
       "\n",
       "    .dataframe thead th {\n",
       "        text-align: right;\n",
       "    }\n",
       "</style>\n",
       "<table border=\"1\" class=\"dataframe\">\n",
       "  <thead>\n",
       "    <tr style=\"text-align: right;\">\n",
       "      <th></th>\n",
       "      <th>NUM</th>\n",
       "      <th>TITLE</th>\n",
       "      <th>DIRECTOR</th>\n",
       "      <th>ACTOR</th>\n",
       "      <th>SYNOPSIS</th>\n",
       "    </tr>\n",
       "  </thead>\n",
       "  <tbody>\n",
       "    <tr>\n",
       "      <th>0</th>\n",
       "      <td>1</td>\n",
       "      <td>파묘</td>\n",
       "      <td>장재현</td>\n",
       "      <td>최민식,김고은,유해진,이도현,김재철,김민준,김병오,전진기,박정자,박지일,이종구,이영...</td>\n",
       "      <td>미국 LA 거액의 의뢰를 받은 무당 화림(김고은)과 봉길(이도현)은 기이한 병이 대...</td>\n",
       "    </tr>\n",
       "    <tr>\n",
       "      <th>1</th>\n",
       "      <td>2</td>\n",
       "      <td>범죄도시4</td>\n",
       "      <td>허명행</td>\n",
       "      <td>김무열,박지환,이동휘,마동석,곽자형,이범수,김민재,이지훈,이주빈,김도건,김지훈,현봉...</td>\n",
       "      <td>신종 마약 사건 3년 뒤 괴물형사 마석도(마동석)와 서울 광수대는 배달앱을 이용한 ...</td>\n",
       "    </tr>\n",
       "    <tr>\n",
       "      <th>2</th>\n",
       "      <td>3</td>\n",
       "      <td>인사이드 아웃 2</td>\n",
       "      <td>켈시 만</td>\n",
       "      <td>에이미 포엘러,토니 헤일</td>\n",
       "      <td>디즈니픽사의 대표작 인사이드 아웃 새로운 감정과 함께 돌아오다 13살이 된 라일리의...</td>\n",
       "    </tr>\n",
       "    <tr>\n",
       "      <th>3</th>\n",
       "      <td>4</td>\n",
       "      <td>베테랑2</td>\n",
       "      <td>류승완</td>\n",
       "      <td>황정민,정해인,장윤주,정만식,신승환,오달수,오대환,김시후,안보현,진경,권해효,변홍준...</td>\n",
       "      <td>가족들도 못 챙기고 밤낮없이 범죄들과 싸우는 베테랑 형사 서도철(황정민)과 강력범죄...</td>\n",
       "    </tr>\n",
       "    <tr>\n",
       "      <th>4</th>\n",
       "      <td>5</td>\n",
       "      <td>파일럿</td>\n",
       "      <td>김한결</td>\n",
       "      <td>조정석,이주명,한선화,신승호,오민애,김지현,서재희,박다온,현봉식,서현철,유재석,조세...</td>\n",
       "      <td>하루 아침에 인생 추락한 스타 파일럿 제 2의 인생 이륙 준비 중 최고의 비행 실력...</td>\n",
       "    </tr>\n",
       "  </tbody>\n",
       "</table>\n",
       "</div>"
      ],
      "text/plain": [
       "   NUM      TITLE DIRECTOR                                              ACTOR  \\\n",
       "0    1         파묘      장재현  최민식,김고은,유해진,이도현,김재철,김민준,김병오,전진기,박정자,박지일,이종구,이영...   \n",
       "1    2      범죄도시4      허명행  김무열,박지환,이동휘,마동석,곽자형,이범수,김민재,이지훈,이주빈,김도건,김지훈,현봉...   \n",
       "2    3  인사이드 아웃 2     켈시 만                                      에이미 포엘러,토니 헤일   \n",
       "3    4       베테랑2      류승완  황정민,정해인,장윤주,정만식,신승환,오달수,오대환,김시후,안보현,진경,권해효,변홍준...   \n",
       "4    5        파일럿      김한결  조정석,이주명,한선화,신승호,오민애,김지현,서재희,박다온,현봉식,서현철,유재석,조세...   \n",
       "\n",
       "                                            SYNOPSIS  \n",
       "0  미국 LA 거액의 의뢰를 받은 무당 화림(김고은)과 봉길(이도현)은 기이한 병이 대...  \n",
       "1  신종 마약 사건 3년 뒤 괴물형사 마석도(마동석)와 서울 광수대는 배달앱을 이용한 ...  \n",
       "2  디즈니픽사의 대표작 인사이드 아웃 새로운 감정과 함께 돌아오다 13살이 된 라일리의...  \n",
       "3  가족들도 못 챙기고 밤낮없이 범죄들과 싸우는 베테랑 형사 서도철(황정민)과 강력범죄...  \n",
       "4  하루 아침에 인생 추락한 스타 파일럿 제 2의 인생 이륙 준비 중 최고의 비행 실력...  "
      ]
     },
     "execution_count": 11,
     "metadata": {},
     "output_type": "execute_result"
    }
   ],
   "source": [
    "# 오라클 데이터베이스에서 데이터를 가져와 pandas의 데이터프레임으로 만듭니다.\n",
    "\n",
    "# 실행할 쿼리\n",
    "query = \"SELECT num, title, director, actor, synopsis FROM movie_tbl order by num\"\n",
    "# query를 실행해서 조회 결과를 movie_df에 저장합니다.\n",
    "movie_df = pd.read_sql(query, con=connection)\n",
    "\n",
    "movie_df.head()"
   ]
  },
  {
   "cell_type": "code",
   "execution_count": 12,
   "id": "67c66c09-a824-4b1e-b91f-85f16e2c46b7",
   "metadata": {},
   "outputs": [],
   "source": [
    "# Kiwi 도구를 사용해 한국어 문장을 분석하기 위해 Kiwi 객체를 만듭니다.\n",
    "kiwi = Kiwi()"
   ]
  },
  {
   "cell_type": "code",
   "execution_count": 14,
   "id": "500a2268-693f-4a1d-ab41-65a5df284593",
   "metadata": {},
   "outputs": [
    {
     "data": {
      "text/plain": [
       "[Token(form='아버지', tag='NNG', start=0, len=3),\n",
       " Token(form='가', tag='JKS', start=3, len=1),\n",
       " Token(form='방', tag='NNG', start=5, len=1),\n",
       " Token(form='에', tag='JKB', start=6, len=1),\n",
       " Token(form='들어가', tag='VV', start=8, len=3),\n",
       " Token(form='시', tag='EP', start=11, len=1),\n",
       " Token(form='ᆫ다', tag='EF', start=11, len=2),\n",
       " Token(form='그래서', tag='MAJ', start=14, len=3),\n",
       " Token(form='슬프', tag='VA', start=18, len=2),\n",
       " Token(form='다', tag='EC', start=20, len=1),\n",
       " Token(form='배', tag='NNG', start=22, len=1),\n",
       " Token(form='가', tag='JKS', start=23, len=1),\n",
       " Token(form='아프', tag='VA', start=25, len=2),\n",
       " Token(form='어요', tag='EF', start=26, len=2)]"
      ]
     },
     "execution_count": 14,
     "metadata": {},
     "output_type": "execute_result"
    }
   ],
   "source": [
    "# 예제 문장을 분석하여 Kiwi의 tokenize 기능을 확인해봅니다.\n",
    "# tokenize는 문장을 단어와 폼사롤 나누는 작업을 합니다.\n",
    "kiwi.tokenize(\"아버지가 방에 들어가신다 그래서 슬프다 배가 아파요\")"
   ]
  },
  {
   "cell_type": "code",
   "execution_count": 15,
   "id": "61fa1e2b-70b7-4e4d-950a-f57a6d7f4d55",
   "metadata": {},
   "outputs": [],
   "source": [
    "# preprocessingText라는 이름의 함수를 만듭니다.\n",
    "# 함수는 특정 작업을 할 수 있도록 미리 작성된 코드 묶음입니다.\n",
    "# preprocessingText는 주어진 문장에서 중요한 단어(명사, 형용사)만 골라내는 기능을 합니다.\n",
    "def preprocessingText(text):\n",
    "    \"\"\"\n",
    "    preprocessingText 함수는 입력받은 문장(text)을 분석하여\n",
    "    의미가 중요한 명사나 형용사 단어들만 골라냅니다.\n",
    "\n",
    "    매개변수:\n",
    "    text - 분석할 문장으로, 글자(문자열) 형태로 입력받습니다.\n",
    "    예시: \"오늘은 날시가 매우 좋습니다\"\n",
    "    \"\"\"\n",
    "\n",
    "    # stems는 결과를 저장할 빈 리스트입니다.\n",
    "    # 리스트는 여러 개의 데이터를 담을 수 있는 상자와 같습니다.\n",
    "    stems = []\n",
    "\n",
    "    # kiwi.tokenize(text)는 입력받은 문장(text)을\n",
    "    # 각각의 단어로 쪼개고 각 단어의 품사(명사, 동사, 형용사 등)를 알려주는 기능을 합니다.\n",
    "    # 분석 결과는 tagged_review라는 변수(상자)에 저장합니다.\n",
    "    tagged_review = kiwi.tokenize(text)\n",
    "\n",
    "    # tagged_review 안에 있는 각 단어를 하나씩 꺼내서 token이라는 이름으로 반복하여 처리합니다.\n",
    "    for token in tagged_review:\n",
    "        word, pos = token.form, token.tag\n",
    "        # token.form은 실제 단어를 의미합니다.\n",
    "        # token.tag는 그 단어가 어떤 품사인지 알려줍니다. 예) 명사(NNG, NNP), 형용사(VA)\n",
    "\n",
    "        # 아래 조건을 만족하는 단어만 stems 리스트(상자)에 추가합니다.\n",
    "        # 조건1: 단어의 길이가 2글자 이상이어야 합니다.(1글자 단어는 무시합니다.)\n",
    "        # 조건2: 단어의 품사가 일반명사(NNG), 고유명사(NNP), 형용사(VA) 중 하나여야 합니다.\n",
    "        if len(word) >= 2 and (pos == \"NNG\" or pos == \"NNP\" or pos == \"VA\"):\n",
    "            stems.append(word) # 조건에 맞는 단어를 stems 리스트에 추가합니다.\n",
    "\n",
    "    # 리스트에 저장된 모든 단어를 공백(\" \")으로 연결하여 하나의 문자열(글자들의 집합)로 만듭니다.\n",
    "    # 예: ['닐씨', '매우', '좋다'] → \"날씨 매우 좋다\"\n",
    "    # 만들어진 겨로가를 return을 통해 반환하여 이 함수를 호출한 곳에 전달합니다.\n",
    "    return \" \".join(stems)"
   ]
  },
  {
   "cell_type": "code",
   "execution_count": 16,
   "id": "34dcf321-3cce-42fc-8701-412fed5892f0",
   "metadata": {},
   "outputs": [
    {
     "data": {
      "text/plain": [
       "'아버지 슬프 아프'"
      ]
     },
     "execution_count": 16,
     "metadata": {},
     "output_type": "execute_result"
    }
   ],
   "source": [
    "# 예저 문장을 처리하여 중용한 단어만 추출해봅니다.\n",
    "preprocessingText(\"아버지가 방에 들어가신다 그래서 슬펐다 배가 아파요\")"
   ]
  },
  {
   "cell_type": "code",
   "execution_count": 17,
   "id": "3afe1dcc-588f-49b4-ba92-9fb9c8a20ea1",
   "metadata": {},
   "outputs": [
    {
     "data": {
      "text/plain": [
       "'미국 LA 거액의 의뢰를 받은 무당 화림(김고은)과 봉길(이도현)은 기이한 병이 대물림되는 집안의 장손을 만난다 조상의 묫자리가 화근임을 알아챈 화림은 이장을 권하고 돈 냄새를 맡은 최고의 풍수사 상덕(최민식)과 장의사 영근(유해진)이 합류한다 전부 잘 알 거야 묘 하나 잘못 건들면 어떻게 되는지 절대 사람이 묻힐 수 없는 악지에 자리한 기이한 묘 상덕은 불길한 기운을 느끼고 제안을 거절하지만 화림의 설득으로 결국 파묘가 시작되고 나와서는 안될 것이 나왔다'"
      ]
     },
     "execution_count": 17,
     "metadata": {},
     "output_type": "execute_result"
    }
   ],
   "source": [
    "# 영화 줄거리 데이터의 첫 번째 내용을 확인힙니다.\n",
    "movie_df.loc[0, 'SYNOPSIS']"
   ]
  },
  {
   "cell_type": "code",
   "execution_count": 19,
   "id": "a0e7c5b6-96aa-40e2-9848-bb2c810eb89a",
   "metadata": {},
   "outputs": [
    {
     "data": {
      "text/plain": [
       "'미국 거액 의뢰 무당 화림 김고은 봉길 이도현 대물림 집안 장손 조상 자리 화근 냄새 최고 풍수 상덕 최민식 장의사 유해진 합류 사람 악지 자리 상덕 기운 제안 거절 화림 설득 결국 파묘 시작'"
      ]
     },
     "execution_count": 19,
     "metadata": {},
     "output_type": "execute_result"
    }
   ],
   "source": [
    "# 첫 번째 줄거리 데이터를 분석해 중요한 단어만 추출해봅니다.\n",
    "preprocessingText(movie_df.loc[0, 'SYNOPSIS'])"
   ]
  },
  {
   "cell_type": "code",
   "execution_count": 21,
   "id": "a35b4a83-0b9f-4fe7-8c8e-b4cd966e5798",
   "metadata": {},
   "outputs": [],
   "source": [
    "# movie_df라는 표(데이터프레임)에 새로운 컬럼(열)을 추가하는 과정입니다.\n",
    "# 처음에는 이 컬럼에 데이터를 넣지 않아서 비어있다는 의미의 np.NaN으로 채웁니다.\n",
    "movie_df[\"SYNOPSIS_CLEAR\"]=np.NaN"
   ]
  },
  {
   "cell_type": "code",
   "execution_count": 22,
   "id": "545f1f93-505d-4b45-b1f3-1dbdec4dd482",
   "metadata": {},
   "outputs": [
    {
     "data": {
      "text/html": [
       "<div>\n",
       "<style scoped>\n",
       "    .dataframe tbody tr th:only-of-type {\n",
       "        vertical-align: middle;\n",
       "    }\n",
       "\n",
       "    .dataframe tbody tr th {\n",
       "        vertical-align: top;\n",
       "    }\n",
       "\n",
       "    .dataframe thead th {\n",
       "        text-align: right;\n",
       "    }\n",
       "</style>\n",
       "<table border=\"1\" class=\"dataframe\">\n",
       "  <thead>\n",
       "    <tr style=\"text-align: right;\">\n",
       "      <th></th>\n",
       "      <th>NUM</th>\n",
       "      <th>TITLE</th>\n",
       "      <th>DIRECTOR</th>\n",
       "      <th>ACTOR</th>\n",
       "      <th>SYNOPSIS</th>\n",
       "      <th>SYNOPSIS_CLEAR</th>\n",
       "    </tr>\n",
       "  </thead>\n",
       "  <tbody>\n",
       "    <tr>\n",
       "      <th>0</th>\n",
       "      <td>1</td>\n",
       "      <td>파묘</td>\n",
       "      <td>장재현</td>\n",
       "      <td>최민식,김고은,유해진,이도현,김재철,김민준,김병오,전진기,박정자,박지일,이종구,이영...</td>\n",
       "      <td>미국 LA 거액의 의뢰를 받은 무당 화림(김고은)과 봉길(이도현)은 기이한 병이 대...</td>\n",
       "      <td>NaN</td>\n",
       "    </tr>\n",
       "    <tr>\n",
       "      <th>1</th>\n",
       "      <td>2</td>\n",
       "      <td>범죄도시4</td>\n",
       "      <td>허명행</td>\n",
       "      <td>김무열,박지환,이동휘,마동석,곽자형,이범수,김민재,이지훈,이주빈,김도건,김지훈,현봉...</td>\n",
       "      <td>신종 마약 사건 3년 뒤 괴물형사 마석도(마동석)와 서울 광수대는 배달앱을 이용한 ...</td>\n",
       "      <td>NaN</td>\n",
       "    </tr>\n",
       "    <tr>\n",
       "      <th>2</th>\n",
       "      <td>3</td>\n",
       "      <td>인사이드 아웃 2</td>\n",
       "      <td>켈시 만</td>\n",
       "      <td>에이미 포엘러,토니 헤일</td>\n",
       "      <td>디즈니픽사의 대표작 인사이드 아웃 새로운 감정과 함께 돌아오다 13살이 된 라일리의...</td>\n",
       "      <td>NaN</td>\n",
       "    </tr>\n",
       "    <tr>\n",
       "      <th>3</th>\n",
       "      <td>4</td>\n",
       "      <td>베테랑2</td>\n",
       "      <td>류승완</td>\n",
       "      <td>황정민,정해인,장윤주,정만식,신승환,오달수,오대환,김시후,안보현,진경,권해효,변홍준...</td>\n",
       "      <td>가족들도 못 챙기고 밤낮없이 범죄들과 싸우는 베테랑 형사 서도철(황정민)과 강력범죄...</td>\n",
       "      <td>NaN</td>\n",
       "    </tr>\n",
       "    <tr>\n",
       "      <th>4</th>\n",
       "      <td>5</td>\n",
       "      <td>파일럿</td>\n",
       "      <td>김한결</td>\n",
       "      <td>조정석,이주명,한선화,신승호,오민애,김지현,서재희,박다온,현봉식,서현철,유재석,조세...</td>\n",
       "      <td>하루 아침에 인생 추락한 스타 파일럿 제 2의 인생 이륙 준비 중 최고의 비행 실력...</td>\n",
       "      <td>NaN</td>\n",
       "    </tr>\n",
       "  </tbody>\n",
       "</table>\n",
       "</div>"
      ],
      "text/plain": [
       "   NUM      TITLE DIRECTOR                                              ACTOR  \\\n",
       "0    1         파묘      장재현  최민식,김고은,유해진,이도현,김재철,김민준,김병오,전진기,박정자,박지일,이종구,이영...   \n",
       "1    2      범죄도시4      허명행  김무열,박지환,이동휘,마동석,곽자형,이범수,김민재,이지훈,이주빈,김도건,김지훈,현봉...   \n",
       "2    3  인사이드 아웃 2     켈시 만                                      에이미 포엘러,토니 헤일   \n",
       "3    4       베테랑2      류승완  황정민,정해인,장윤주,정만식,신승환,오달수,오대환,김시후,안보현,진경,권해효,변홍준...   \n",
       "4    5        파일럿      김한결  조정석,이주명,한선화,신승호,오민애,김지현,서재희,박다온,현봉식,서현철,유재석,조세...   \n",
       "\n",
       "                                            SYNOPSIS  SYNOPSIS_CLEAR  \n",
       "0  미국 LA 거액의 의뢰를 받은 무당 화림(김고은)과 봉길(이도현)은 기이한 병이 대...             NaN  \n",
       "1  신종 마약 사건 3년 뒤 괴물형사 마석도(마동석)와 서울 광수대는 배달앱을 이용한 ...             NaN  \n",
       "2  디즈니픽사의 대표작 인사이드 아웃 새로운 감정과 함께 돌아오다 13살이 된 라일리의...             NaN  \n",
       "3  가족들도 못 챙기고 밤낮없이 범죄들과 싸우는 베테랑 형사 서도철(황정민)과 강력범죄...             NaN  \n",
       "4  하루 아침에 인생 추락한 스타 파일럿 제 2의 인생 이륙 준비 중 최고의 비행 실력...             NaN  "
      ]
     },
     "execution_count": 22,
     "metadata": {},
     "output_type": "execute_result"
    }
   ],
   "source": [
    "# movie_df의 맨 위쪽 5줄을 확인합니다. 엑셀에서 표를 열어 맨 위쪽만 보는 것과 같습니다.\n",
    "movie_df.head()"
   ]
  },
  {
   "cell_type": "code",
   "execution_count": 24,
   "id": "5c8d2df9-2e3c-4060-99db-834d5daee04c",
   "metadata": {},
   "outputs": [
    {
     "data": {
      "application/vnd.jupyter.widget-view+json": {
       "model_id": "7c11d3b71d554710a1994b7830cbc267",
       "version_major": 2,
       "version_minor": 0
      },
      "text/plain": [
       "  0%|          | 0/10000000 [00:00<?, ?it/s]"
      ]
     },
     "metadata": {},
     "output_type": "display_data"
    }
   ],
   "source": [
    "# tqdm은 반복 작업이 얼마나 진해오디었는지 표시해주는 도구입니다.\n",
    "# 요리할 때 타이머처럼 진행 상황을 쉽게 보여줍니다.\n",
    "from tqdm.notebook import tqdm\n",
    "\n",
    "# 간단한 예제입니다. 0에서부터 9,999,999까지 숫자를 하나씩 더하는 과정입니다.\n",
    "# 실제로는 이 코드가 엇ㅂ어도 되지만, 진행상황이 어떻게 표시되는지 보여주기 위해 넣었습니다.\n",
    "sum = 0\n",
    "for i in tqdm(range(10000000)):    # range(10000000)는 0부터 9,999,999Rkwl tntwkfmf aksemqslek.\n",
    "    sum = sum + i"
   ]
  },
  {
   "cell_type": "code",
   "execution_count": 25,
   "id": "e8bdc5e9-d7aa-414a-9a17-db7fa050b256",
   "metadata": {},
   "outputs": [
    {
     "data": {
      "text/plain": [
       "485"
      ]
     },
     "execution_count": 25,
     "metadata": {},
     "output_type": "execute_result"
    }
   ],
   "source": [
    "# movie_df 데이터가 몇 줄인지 셉니다. 엑셀에서 데이터가 몇 줄인지 세는 것과 같습니다.\n",
    "len(movie_df)"
   ]
  },
  {
   "cell_type": "code",
   "execution_count": 26,
   "id": "c3811981-2136-4540-9d3a-4c6184eaf5d9",
   "metadata": {},
   "outputs": [],
   "source": [
    "# 위에서 센 데이터 줄 수를 row_num이라는 변수(저장 공간)에 저장합니다.\n",
    "row_num = len(movie_df)"
   ]
  },
  {
   "cell_type": "code",
   "execution_count": 27,
   "id": "0e7a5fcd-eb54-4fbc-8d07-81c14349161c",
   "metadata": {},
   "outputs": [
    {
     "data": {
      "text/plain": [
       "485"
      ]
     },
     "execution_count": 27,
     "metadata": {},
     "output_type": "execute_result"
    }
   ],
   "source": [
    "# 저장된 데이터 줄 수를 확입니다.\n",
    "row_num"
   ]
  },
  {
   "cell_type": "code",
   "execution_count": 28,
   "id": "eca5b6bf-ecaa-48a4-8e3f-abaffd994a55",
   "metadata": {},
   "outputs": [
    {
     "data": {
      "application/vnd.jupyter.widget-view+json": {
       "model_id": "97ea517c9fd54b10bd06eb7f80f3ab8f",
       "version_major": 2,
       "version_minor": 0
      },
      "text/plain": [
       "  0%|          | 0/485 [00:00<?, ?it/s]"
      ]
     },
     "metadata": {},
     "output_type": "display_data"
    },
    {
     "name": "stderr",
     "output_type": "stream",
     "text": [
      "C:\\Users\\User\\AppData\\Local\\Temp\\ipykernel_6804\\3339782394.py:8: FutureWarning: Setting an item of incompatible dtype is deprecated and will raise an error in a future version of pandas. Value '미국 거액 의뢰 무당 화림 김고은 봉길 이도현 대물림 집안 장손 조상 자리 화근 냄새 최고 풍수 상덕 최민식 장의사 유해진 합류 사람 악지 자리 상덕 기운 제안 거절 화림 설득 결국 파묘 시작' has dtype incompatible with float64, please explicitly cast to a compatible dtype first.\n",
      "  movie_df.loc[index, \"SYNOPSIS_CLEAR\"] = preprocessingText(synopsis)\n"
     ]
    }
   ],
   "source": [
    "# 이제부터 movie_df 표의 각 줄(행)을 하나씩 보면서 줄거리에서 중요한 단어만 뽑아냅니다.\n",
    "# 반복해서 진행하기 때문에 for 반복문을 사용합니다.\n",
    "for index in tqdm(range(row_num)):   # range(row_num)으로 모든 행을 순서대로 처리합니다.\n",
    "    try:\n",
    "        # 현재 처리하는 줄의 'SYNOPSIS'(줄거리) 데이터를 가져옵니다.\n",
    "        synopsis = movie_df.loc[index, \"SYNOPSIS\"]\n",
    "        # preprocessingText라는 함수를 사용하여 명사와 형용사만 골라 SYNOPSIS_CLEAR에 저장합니다.\n",
    "        movie_df.loc[index, \"SYNOPSIS_CLEAR\"] = preprocessingText(synopsis)\n",
    "    except Exception as e:\n",
    "        # 만약 오류가 생기면 그 위치를 비워두고 NaN으로 설정합니다.\n",
    "        movie_df.loc[index, \"SYNOPSIS_CLEAR\"] = np.NaN"
   ]
  },
  {
   "cell_type": "code",
   "execution_count": 29,
   "id": "b5b22b1f-ef5c-46cd-a12c-5d92727ca48f",
   "metadata": {},
   "outputs": [
    {
     "data": {
      "text/html": [
       "<div>\n",
       "<style scoped>\n",
       "    .dataframe tbody tr th:only-of-type {\n",
       "        vertical-align: middle;\n",
       "    }\n",
       "\n",
       "    .dataframe tbody tr th {\n",
       "        vertical-align: top;\n",
       "    }\n",
       "\n",
       "    .dataframe thead th {\n",
       "        text-align: right;\n",
       "    }\n",
       "</style>\n",
       "<table border=\"1\" class=\"dataframe\">\n",
       "  <thead>\n",
       "    <tr style=\"text-align: right;\">\n",
       "      <th></th>\n",
       "      <th>NUM</th>\n",
       "      <th>TITLE</th>\n",
       "      <th>DIRECTOR</th>\n",
       "      <th>ACTOR</th>\n",
       "      <th>SYNOPSIS</th>\n",
       "      <th>SYNOPSIS_CLEAR</th>\n",
       "    </tr>\n",
       "  </thead>\n",
       "  <tbody>\n",
       "    <tr>\n",
       "      <th>0</th>\n",
       "      <td>1</td>\n",
       "      <td>파묘</td>\n",
       "      <td>장재현</td>\n",
       "      <td>최민식,김고은,유해진,이도현,김재철,김민준,김병오,전진기,박정자,박지일,이종구,이영...</td>\n",
       "      <td>미국 LA 거액의 의뢰를 받은 무당 화림(김고은)과 봉길(이도현)은 기이한 병이 대...</td>\n",
       "      <td>미국 거액 의뢰 무당 화림 김고은 봉길 이도현 대물림 집안 장손 조상 자리 화근 냄...</td>\n",
       "    </tr>\n",
       "    <tr>\n",
       "      <th>1</th>\n",
       "      <td>2</td>\n",
       "      <td>범죄도시4</td>\n",
       "      <td>허명행</td>\n",
       "      <td>김무열,박지환,이동휘,마동석,곽자형,이범수,김민재,이지훈,이주빈,김도건,김지훈,현봉...</td>\n",
       "      <td>신종 마약 사건 3년 뒤 괴물형사 마석도(마동석)와 서울 광수대는 배달앱을 이용한 ...</td>\n",
       "      <td>신종 마약 사건 괴물 형사 마석 마동석 서울 광수 배달 이용 마약 판매 사건 수사 ...</td>\n",
       "    </tr>\n",
       "    <tr>\n",
       "      <th>2</th>\n",
       "      <td>3</td>\n",
       "      <td>인사이드 아웃 2</td>\n",
       "      <td>켈시 만</td>\n",
       "      <td>에이미 포엘러,토니 헤일</td>\n",
       "      <td>디즈니픽사의 대표작 인사이드 아웃 새로운 감정과 함께 돌아오다 13살이 된 라일리의...</td>\n",
       "      <td>디즈니 픽사 대표작 인사이드 아웃 감정 라일리 행복 바쁘 머릿속 감정 컨트롤 본부 ...</td>\n",
       "    </tr>\n",
       "    <tr>\n",
       "      <th>3</th>\n",
       "      <td>4</td>\n",
       "      <td>베테랑2</td>\n",
       "      <td>류승완</td>\n",
       "      <td>황정민,정해인,장윤주,정만식,신승환,오달수,오대환,김시후,안보현,진경,권해효,변홍준...</td>\n",
       "      <td>가족들도 못 챙기고 밤낮없이 범죄들과 싸우는 베테랑 형사 서도철(황정민)과 강력범죄...</td>\n",
       "      <td>가족 범죄 베테랑 형사 서도철 황정민 강력 범죄 수사대 형사 교수 죽음 이전 발생 ...</td>\n",
       "    </tr>\n",
       "    <tr>\n",
       "      <th>4</th>\n",
       "      <td>5</td>\n",
       "      <td>파일럿</td>\n",
       "      <td>김한결</td>\n",
       "      <td>조정석,이주명,한선화,신승호,오민애,김지현,서재희,박다온,현봉식,서현철,유재석,조세...</td>\n",
       "      <td>하루 아침에 인생 추락한 스타 파일럿 제 2의 인생 이륙 준비 중 최고의 비행 실력...</td>\n",
       "      <td>하루 아침 인생 추락 스타 파일럿 인생 이륙 준비 최고 비행 실력 스타 파일럿 인기...</td>\n",
       "    </tr>\n",
       "  </tbody>\n",
       "</table>\n",
       "</div>"
      ],
      "text/plain": [
       "   NUM      TITLE DIRECTOR                                              ACTOR  \\\n",
       "0    1         파묘      장재현  최민식,김고은,유해진,이도현,김재철,김민준,김병오,전진기,박정자,박지일,이종구,이영...   \n",
       "1    2      범죄도시4      허명행  김무열,박지환,이동휘,마동석,곽자형,이범수,김민재,이지훈,이주빈,김도건,김지훈,현봉...   \n",
       "2    3  인사이드 아웃 2     켈시 만                                      에이미 포엘러,토니 헤일   \n",
       "3    4       베테랑2      류승완  황정민,정해인,장윤주,정만식,신승환,오달수,오대환,김시후,안보현,진경,권해효,변홍준...   \n",
       "4    5        파일럿      김한결  조정석,이주명,한선화,신승호,오민애,김지현,서재희,박다온,현봉식,서현철,유재석,조세...   \n",
       "\n",
       "                                            SYNOPSIS  \\\n",
       "0  미국 LA 거액의 의뢰를 받은 무당 화림(김고은)과 봉길(이도현)은 기이한 병이 대...   \n",
       "1  신종 마약 사건 3년 뒤 괴물형사 마석도(마동석)와 서울 광수대는 배달앱을 이용한 ...   \n",
       "2  디즈니픽사의 대표작 인사이드 아웃 새로운 감정과 함께 돌아오다 13살이 된 라일리의...   \n",
       "3  가족들도 못 챙기고 밤낮없이 범죄들과 싸우는 베테랑 형사 서도철(황정민)과 강력범죄...   \n",
       "4  하루 아침에 인생 추락한 스타 파일럿 제 2의 인생 이륙 준비 중 최고의 비행 실력...   \n",
       "\n",
       "                                      SYNOPSIS_CLEAR  \n",
       "0  미국 거액 의뢰 무당 화림 김고은 봉길 이도현 대물림 집안 장손 조상 자리 화근 냄...  \n",
       "1  신종 마약 사건 괴물 형사 마석 마동석 서울 광수 배달 이용 마약 판매 사건 수사 ...  \n",
       "2  디즈니 픽사 대표작 인사이드 아웃 감정 라일리 행복 바쁘 머릿속 감정 컨트롤 본부 ...  \n",
       "3  가족 범죄 베테랑 형사 서도철 황정민 강력 범죄 수사대 형사 교수 죽음 이전 발생 ...  \n",
       "4  하루 아침 인생 추락 스타 파일럿 인생 이륙 준비 최고 비행 실력 스타 파일럿 인기...  "
      ]
     },
     "execution_count": 29,
     "metadata": {},
     "output_type": "execute_result"
    }
   ],
   "source": [
    "# 변경된 내용을 다시 한번 확인하기 위해 movie_df의 맨 위쪽 5줄을 출력합니다.\n",
    "movie_df.head()"
   ]
  },
  {
   "cell_type": "code",
   "execution_count": 30,
   "id": "0cb10deb-c001-4f05-b3b0-221a6b7fcf60",
   "metadata": {},
   "outputs": [
    {
     "data": {
      "text/plain": [
       "'미국 거액 의뢰 무당 화림 김고은 봉길 이도현 대물림 집안 장손 조상 자리 화근 냄새 최고 풍수 상덕 최민식 장의사 유해진 합류 사람 악지 자리 상덕 기운 제안 거절 화림 설득 결국 파묘 시작'"
      ]
     },
     "execution_count": 30,
     "metadata": {},
     "output_type": "execute_result"
    }
   ],
   "source": [
    "# 첫 번째 영화 줄거리에 대한 처리된 텍스트를 확인합니다.\n",
    "movie_df.loc[0, \"SYNOPSIS_CLEAR\"]"
   ]
  },
  {
   "cell_type": "code",
   "execution_count": 31,
   "id": "7c2cbd06-578d-4f59-8d05-43cf5877e0fe",
   "metadata": {},
   "outputs": [
    {
     "data": {
      "text/plain": [
       "0      [미국, 거액, 의뢰, 무당, 화림, 김고은, 봉길, 이도현, 대물림, 집안, 장손...\n",
       "1      [신종, 마약, 사건, 괴물, 형사, 마석, 마동석, 서울, 광수, 배달, 이용, ...\n",
       "2      [디즈니, 픽사, 대표작, 인사이드, 아웃, 감정, 라일리, 행복, 바쁘, 머릿속,...\n",
       "3      [가족, 범죄, 베테랑, 형사, 서도철, 황정민, 강력, 범죄, 수사대, 형사, 교...\n",
       "4      [하루, 아침, 인생, 추락, 스타, 파일럿, 인생, 이륙, 준비, 최고, 비행, ...\n",
       "                             ...                        \n",
       "480    [중년, 영화감독, 오랜만, 인테리어, 디자인, 여자, 건물, 인테리어, 디자인, ...\n",
       "481    [삼류, 건달, 강재, 막장, 인생, 마지막, 찬스, 평생, 보스, 대신, 감옥, ...\n",
       "482    [대결, 세상, 남자, 최동원, 선동열, 고독, 치열, 맞대결, 불안, 격동, 프로...\n",
       "483    [조직, 스파이, 색출, 사냥, 사냥감, 망명, 신청, 북한, 고위, 관리, 정보,...\n",
       "484    [고구려, 신라, 백제, 분쟁, 원수, 백제, 의자왕, 앙심, 김춘추, 태종, 무열...\n",
       "Name: SYNOPSIS_CLEAR, Length: 485, dtype: object"
      ]
     },
     "execution_count": 31,
     "metadata": {},
     "output_type": "execute_result"
    }
   ],
   "source": [
    "# movie_df는 영화 정보를 담고 있는 데이터프레임(엑셀과 비슷한 표 형태의 데이터)입니다.\n",
    "#데이터프레임은 표 형태로 데이터를 다룰 수 있게 해주는 pandas 라이브러리의 기능입니다.\n",
    "\n",
    "# movie_df 데이터프레임에서 \"SYNOPSIS_CLEAR\"라는 컬럼(열)의 내용을 공백(\" \")을 기준으로 단어 단위로 나누는 작업을 합니다.\n",
    "# str.split(\" \") 함수는 글자(문자열)를 지정한 문자(여기서는 공백) 기준으로 쪼개서 리스트 형태(단어들의 목록)로 만들어줍니다.\n",
    "# 예시: \"오늘 날씨 좋다\" → [\"오늘\", \"날씨\", \"좋다\"]\n",
    "movie_df[\"SYNOPSIS_CLEAR\"].str.split(\" \")"
   ]
  },
  {
   "cell_type": "code",
   "execution_count": 33,
   "id": "c0be31cd-e3eb-4234-93ae-69c04799c475",
   "metadata": {},
   "outputs": [],
   "source": [
    "# 위의 방법을 이용해 단어로 쪼갠 결과를 새로운 컬럼(열)인 \"SYNOPSIS_CLEAR_LIST\"에 저장합니다.\n",
    "# 즉, SYNOPSIS_CLEAR의 문장들을 단어 리스트로 만들어서 SYNOPSIS_CLEAR_LIST라는 새로운 열로 추가하는 것입니다.\n",
    "movie_df[\"SYNOPSIS_CLEAR_LIST\"] = movie_df[\"SYNOPSIS_CLEAR\"].str.split(\" \")"
   ]
  },
  {
   "cell_type": "code",
   "execution_count": 34,
   "id": "d479e18e-821f-408f-98b2-02685cae9841",
   "metadata": {},
   "outputs": [
    {
     "data": {
      "text/html": [
       "<div>\n",
       "<style scoped>\n",
       "    .dataframe tbody tr th:only-of-type {\n",
       "        vertical-align: middle;\n",
       "    }\n",
       "\n",
       "    .dataframe tbody tr th {\n",
       "        vertical-align: top;\n",
       "    }\n",
       "\n",
       "    .dataframe thead th {\n",
       "        text-align: right;\n",
       "    }\n",
       "</style>\n",
       "<table border=\"1\" class=\"dataframe\">\n",
       "  <thead>\n",
       "    <tr style=\"text-align: right;\">\n",
       "      <th></th>\n",
       "      <th>NUM</th>\n",
       "      <th>TITLE</th>\n",
       "      <th>DIRECTOR</th>\n",
       "      <th>ACTOR</th>\n",
       "      <th>SYNOPSIS</th>\n",
       "      <th>SYNOPSIS_CLEAR</th>\n",
       "      <th>SYNOPSIS_CLEAR_LIST</th>\n",
       "    </tr>\n",
       "  </thead>\n",
       "  <tbody>\n",
       "    <tr>\n",
       "      <th>0</th>\n",
       "      <td>1</td>\n",
       "      <td>파묘</td>\n",
       "      <td>장재현</td>\n",
       "      <td>최민식,김고은,유해진,이도현,김재철,김민준,김병오,전진기,박정자,박지일,이종구,이영...</td>\n",
       "      <td>미국 LA 거액의 의뢰를 받은 무당 화림(김고은)과 봉길(이도현)은 기이한 병이 대...</td>\n",
       "      <td>미국 거액 의뢰 무당 화림 김고은 봉길 이도현 대물림 집안 장손 조상 자리 화근 냄...</td>\n",
       "      <td>[미국, 거액, 의뢰, 무당, 화림, 김고은, 봉길, 이도현, 대물림, 집안, 장손...</td>\n",
       "    </tr>\n",
       "    <tr>\n",
       "      <th>1</th>\n",
       "      <td>2</td>\n",
       "      <td>범죄도시4</td>\n",
       "      <td>허명행</td>\n",
       "      <td>김무열,박지환,이동휘,마동석,곽자형,이범수,김민재,이지훈,이주빈,김도건,김지훈,현봉...</td>\n",
       "      <td>신종 마약 사건 3년 뒤 괴물형사 마석도(마동석)와 서울 광수대는 배달앱을 이용한 ...</td>\n",
       "      <td>신종 마약 사건 괴물 형사 마석 마동석 서울 광수 배달 이용 마약 판매 사건 수사 ...</td>\n",
       "      <td>[신종, 마약, 사건, 괴물, 형사, 마석, 마동석, 서울, 광수, 배달, 이용, ...</td>\n",
       "    </tr>\n",
       "    <tr>\n",
       "      <th>2</th>\n",
       "      <td>3</td>\n",
       "      <td>인사이드 아웃 2</td>\n",
       "      <td>켈시 만</td>\n",
       "      <td>에이미 포엘러,토니 헤일</td>\n",
       "      <td>디즈니픽사의 대표작 인사이드 아웃 새로운 감정과 함께 돌아오다 13살이 된 라일리의...</td>\n",
       "      <td>디즈니 픽사 대표작 인사이드 아웃 감정 라일리 행복 바쁘 머릿속 감정 컨트롤 본부 ...</td>\n",
       "      <td>[디즈니, 픽사, 대표작, 인사이드, 아웃, 감정, 라일리, 행복, 바쁘, 머릿속,...</td>\n",
       "    </tr>\n",
       "    <tr>\n",
       "      <th>3</th>\n",
       "      <td>4</td>\n",
       "      <td>베테랑2</td>\n",
       "      <td>류승완</td>\n",
       "      <td>황정민,정해인,장윤주,정만식,신승환,오달수,오대환,김시후,안보현,진경,권해효,변홍준...</td>\n",
       "      <td>가족들도 못 챙기고 밤낮없이 범죄들과 싸우는 베테랑 형사 서도철(황정민)과 강력범죄...</td>\n",
       "      <td>가족 범죄 베테랑 형사 서도철 황정민 강력 범죄 수사대 형사 교수 죽음 이전 발생 ...</td>\n",
       "      <td>[가족, 범죄, 베테랑, 형사, 서도철, 황정민, 강력, 범죄, 수사대, 형사, 교...</td>\n",
       "    </tr>\n",
       "    <tr>\n",
       "      <th>4</th>\n",
       "      <td>5</td>\n",
       "      <td>파일럿</td>\n",
       "      <td>김한결</td>\n",
       "      <td>조정석,이주명,한선화,신승호,오민애,김지현,서재희,박다온,현봉식,서현철,유재석,조세...</td>\n",
       "      <td>하루 아침에 인생 추락한 스타 파일럿 제 2의 인생 이륙 준비 중 최고의 비행 실력...</td>\n",
       "      <td>하루 아침 인생 추락 스타 파일럿 인생 이륙 준비 최고 비행 실력 스타 파일럿 인기...</td>\n",
       "      <td>[하루, 아침, 인생, 추락, 스타, 파일럿, 인생, 이륙, 준비, 최고, 비행, ...</td>\n",
       "    </tr>\n",
       "  </tbody>\n",
       "</table>\n",
       "</div>"
      ],
      "text/plain": [
       "   NUM      TITLE DIRECTOR                                              ACTOR  \\\n",
       "0    1         파묘      장재현  최민식,김고은,유해진,이도현,김재철,김민준,김병오,전진기,박정자,박지일,이종구,이영...   \n",
       "1    2      범죄도시4      허명행  김무열,박지환,이동휘,마동석,곽자형,이범수,김민재,이지훈,이주빈,김도건,김지훈,현봉...   \n",
       "2    3  인사이드 아웃 2     켈시 만                                      에이미 포엘러,토니 헤일   \n",
       "3    4       베테랑2      류승완  황정민,정해인,장윤주,정만식,신승환,오달수,오대환,김시후,안보현,진경,권해효,변홍준...   \n",
       "4    5        파일럿      김한결  조정석,이주명,한선화,신승호,오민애,김지현,서재희,박다온,현봉식,서현철,유재석,조세...   \n",
       "\n",
       "                                            SYNOPSIS  \\\n",
       "0  미국 LA 거액의 의뢰를 받은 무당 화림(김고은)과 봉길(이도현)은 기이한 병이 대...   \n",
       "1  신종 마약 사건 3년 뒤 괴물형사 마석도(마동석)와 서울 광수대는 배달앱을 이용한 ...   \n",
       "2  디즈니픽사의 대표작 인사이드 아웃 새로운 감정과 함께 돌아오다 13살이 된 라일리의...   \n",
       "3  가족들도 못 챙기고 밤낮없이 범죄들과 싸우는 베테랑 형사 서도철(황정민)과 강력범죄...   \n",
       "4  하루 아침에 인생 추락한 스타 파일럿 제 2의 인생 이륙 준비 중 최고의 비행 실력...   \n",
       "\n",
       "                                      SYNOPSIS_CLEAR  \\\n",
       "0  미국 거액 의뢰 무당 화림 김고은 봉길 이도현 대물림 집안 장손 조상 자리 화근 냄...   \n",
       "1  신종 마약 사건 괴물 형사 마석 마동석 서울 광수 배달 이용 마약 판매 사건 수사 ...   \n",
       "2  디즈니 픽사 대표작 인사이드 아웃 감정 라일리 행복 바쁘 머릿속 감정 컨트롤 본부 ...   \n",
       "3  가족 범죄 베테랑 형사 서도철 황정민 강력 범죄 수사대 형사 교수 죽음 이전 발생 ...   \n",
       "4  하루 아침 인생 추락 스타 파일럿 인생 이륙 준비 최고 비행 실력 스타 파일럿 인기...   \n",
       "\n",
       "                                 SYNOPSIS_CLEAR_LIST  \n",
       "0  [미국, 거액, 의뢰, 무당, 화림, 김고은, 봉길, 이도현, 대물림, 집안, 장손...  \n",
       "1  [신종, 마약, 사건, 괴물, 형사, 마석, 마동석, 서울, 광수, 배달, 이용, ...  \n",
       "2  [디즈니, 픽사, 대표작, 인사이드, 아웃, 감정, 라일리, 행복, 바쁘, 머릿속,...  \n",
       "3  [가족, 범죄, 베테랑, 형사, 서도철, 황정민, 강력, 범죄, 수사대, 형사, 교...  \n",
       "4  [하루, 아침, 인생, 추락, 스타, 파일럿, 인생, 이륙, 준비, 최고, 비행, ...  "
      ]
     },
     "execution_count": 34,
     "metadata": {},
     "output_type": "execute_result"
    }
   ],
   "source": [
    "# 다시 한번 movie_df의 앞부분 5줄을 확인하여 새로 추가된 컬럼을 살펴봅니다.\n",
    "movie_df.head()"
   ]
  },
  {
   "cell_type": "code",
   "execution_count": 35,
   "id": "4cbe8d1d-d403-49af-ad00-4037190e0423",
   "metadata": {},
   "outputs": [
    {
     "data": {
      "text/plain": [
       "0    [미국, 거액, 의뢰, 무당, 화림, 김고은, 봉길, 이도현, 대물림, 집안, 장손...\n",
       "1    [신종, 마약, 사건, 괴물, 형사, 마석, 마동석, 서울, 광수, 배달, 이용, ...\n",
       "2    [디즈니, 픽사, 대표작, 인사이드, 아웃, 감정, 라일리, 행복, 바쁘, 머릿속,...\n",
       "3    [가족, 범죄, 베테랑, 형사, 서도철, 황정민, 강력, 범죄, 수사대, 형사, 교...\n",
       "4    [하루, 아침, 인생, 추락, 스타, 파일럿, 인생, 이륙, 준비, 최고, 비행, ...\n",
       "Name: SYNOPSIS_CLEAR_LIST, dtype: object"
      ]
     },
     "execution_count": 35,
     "metadata": {},
     "output_type": "execute_result"
    }
   ],
   "source": [
    "# 새롭게 만들어진 단어 리스트 컬럼을 확인힙니다.\n",
    "movie_df[\"SYNOPSIS_CLEAR_LIST\"].head()"
   ]
  },
  {
   "cell_type": "code",
   "execution_count": 36,
   "id": "b04678e8-5db8-4966-94bb-03571d3a9dc1",
   "metadata": {},
   "outputs": [
    {
     "data": {
      "text/plain": [
       "['미국',\n",
       " '거액',\n",
       " '의뢰',\n",
       " '무당',\n",
       " '화림',\n",
       " '김고은',\n",
       " '봉길',\n",
       " '이도현',\n",
       " '대물림',\n",
       " '집안',\n",
       " '장손',\n",
       " '조상',\n",
       " '자리',\n",
       " '화근',\n",
       " '냄새',\n",
       " '최고',\n",
       " '풍수',\n",
       " '상덕',\n",
       " '최민식',\n",
       " '장의사',\n",
       " '유해진',\n",
       " '합류',\n",
       " '사람',\n",
       " '악지',\n",
       " '자리',\n",
       " '상덕',\n",
       " '기운',\n",
       " '제안',\n",
       " '거절',\n",
       " '화림',\n",
       " '설득',\n",
       " '결국',\n",
       " '파묘',\n",
       " '시작']"
      ]
     },
     "execution_count": 36,
     "metadata": {},
     "output_type": "execute_result"
    }
   ],
   "source": [
    "# 첫 번째 영화의 줄거리에서 처리된 단어 리스트를 확인합니다.\n",
    "movie_df[\"SYNOPSIS_CLEAR_LIST\"][0]"
   ]
  },
  {
   "cell_type": "code",
   "execution_count": 44,
   "id": "399c7ab5-d679-431a-b324-f60649e181cc",
   "metadata": {},
   "outputs": [],
   "source": [
    "# 파이썬에서 미리 만들어진 라이브러리를 가져옵니다.\n",
    "# 라이브러리는 자주 사용하는 기능을 쉽게 쓸 수 있게 미리 만들어 놓은 도구 모음입니다.\n",
    "# gensim이라는 라이브러리에서 Word2Vec이라는 기능을 가져옵니다.\n",
    "# Word2Vec은 단어를 컴퓨터가 이해할 수 있는 숫자(벡터)로 바꿔주는 기능입니다.\n",
    "from gensim.models.word2vec import Word2Vec\n",
    "\n",
    "# Word2Vec을 사용해서 단어를 숫자 형태로 변환하는 모델을 만듭니다.\n",
    "# 아래에 있는 옵션(매개변수)들을 설정해서 모델을 만듭니다.\n",
    "word2vec = Word2Vec(\n",
    "    movie_df[\"SYNOPSIS_CLEAR_LIST\"], # 입력 데이터롤 영화 줄거리를 단어로 쪼갠 리스트를 사용합니다.\n",
    "    sg = 1, # 단어를 숫자로 변환할 대 Skip-gram 방식(주변 단어를 예측하는 방식)을 사용합니다. sg = 1이면 Skip-gram입니다.\n",
    "    vector_size = 100, # 단어를 숫자로 바꿀 대 만들어지는 수자의 길이(벡터의 크기)는 100으로 설정합니다. 숫자가 클수록 더 많은 정보를 담을 수 있습니다.\n",
    "    window = 5, # 단어를 학슬할 때, 중심 단어를 기준으로 앞뒤 5개씩의 단어를 함께 보면서 학습합니다. 주변 단어와의 관계를 배우는 범위입니다.\n",
    "    workers = 10, # 모델을 빠르게 만들기 위해 종시에 사용할 컴퓨터의 처리장치 수를 10개로 설정합니다. 숫자가 클수록 속도가 빠릅니다.\n",
    ")"
   ]
  },
  {
   "cell_type": "code",
   "execution_count": 45,
   "id": "02e6decc-30db-4754-9aa7-bda6d2859bfe",
   "metadata": {},
   "outputs": [
    {
     "data": {
      "text/plain": [
       "0"
      ]
     },
     "execution_count": 45,
     "metadata": {},
     "output_type": "execute_result"
    }
   ],
   "source": [
    "# \"시작\"이라는 단어의 순위를 확인합니다.\n",
    "# 순위는 단어가 얼마나 자주 사용되었는지를 기준으로 결정됩니다.\n",
    "word2vec.wv.key_to_index[\"시작\"]"
   ]
  },
  {
   "cell_type": "code",
   "execution_count": 46,
   "id": "5e963816-8715-4196-9824-81b6d0ab0b93",
   "metadata": {},
   "outputs": [
    {
     "data": {
      "text/plain": [
       "1"
      ]
     },
     "execution_count": 46,
     "metadata": {},
     "output_type": "execute_result"
    }
   ],
   "source": [
    "# \"자신\"이라는 단어의 순위를 확인합니다.\n",
    "word2vec.wv.key_to_index[\"자신\"]"
   ]
  },
  {
   "cell_type": "code",
   "execution_count": 47,
   "id": "d08f0fe5-6a98-4171-ba10-bc00c9786597",
   "metadata": {},
   "outputs": [
    {
     "data": {
      "text/plain": [
       "[('인생', 0.9977598786354065),\n",
       " ('공부', 0.9976927638053894),\n",
       " ('순간', 0.9974955916404724),\n",
       " ('용기', 0.9974609613418579),\n",
       " ('힘들', 0.9974539875984192),\n",
       " ('기적', 0.9974371790885925),\n",
       " ('자신', 0.9974160194396973),\n",
       " ('도움', 0.9973995685577393),\n",
       " ('가을', 0.9973903894424438),\n",
       " ('이별', 0.9973413348197937)]"
      ]
     },
     "execution_count": 47,
     "metadata": {},
     "output_type": "execute_result"
    }
   ],
   "source": [
    "# \"사랑\"이라는 단어와 비슷한 뜻을 가진 단어들을 찾아줍니다.\n",
    "# 비슷한 단어를 추천하거나 의미를 비교하는 데 사용됩니다.\n",
    "word2vec.wv.most_similar(\"사랑\")"
   ]
  },
  {
   "cell_type": "code",
   "execution_count": 48,
   "id": "04770a0b-3faa-44dc-a63b-ccafb303c73b",
   "metadata": {},
   "outputs": [
    {
     "data": {
      "text/plain": [
       "[('이름', 0.9982014298439026),\n",
       " ('사고', 0.9981521964073181),\n",
       " ('상대', 0.998119056224823),\n",
       " ('등장', 0.9981100559234619),\n",
       " ('반대', 0.9980794191360474),\n",
       " ('낯설', 0.9980716705322266),\n",
       " ('기적', 0.9980670809745789),\n",
       " ('응원', 0.9979983568191528),\n",
       " ('우연', 0.9979782104492188),\n",
       " ('한국', 0.997969388961792)]"
      ]
     },
     "execution_count": 48,
     "metadata": {},
     "output_type": "execute_result"
    }
   ],
   "source": [
    "# \"가족\"이라는 단어와 비슷한 뜻을 가진 단어들을 찾아줍니다.\n",
    "word2vec.wv.most_similar(\"가족\")"
   ]
  },
  {
   "cell_type": "code",
   "execution_count": 49,
   "id": "74d43209-5342-48b5-b8ed-a754ce357dfc",
   "metadata": {},
   "outputs": [
    {
     "data": {
      "text/plain": [
       "array([-0.13339736,  0.08132639, -0.04284912,  0.00427553,  0.1389158 ,\n",
       "       -0.31405112,  0.08265054,  0.336396  , -0.11168898, -0.06250489,\n",
       "       -0.12249564, -0.0965321 ,  0.03966319,  0.07482408,  0.10819874,\n",
       "       -0.09023263, -0.07526954, -0.2139433 ,  0.00915067, -0.31193203,\n",
       "        0.12662861,  0.01346657, -0.01615183, -0.04142651, -0.1332991 ,\n",
       "       -0.02985999, -0.02023844, -0.14656404, -0.11586345,  0.01268355,\n",
       "        0.12595844,  0.13857526,  0.04401694, -0.0703202 , -0.08752389,\n",
       "        0.28707287, -0.05683149, -0.06271273, -0.1701613 , -0.27494538,\n",
       "        0.02690615, -0.082178  ,  0.03048019,  0.01051876,  0.16973674,\n",
       "        0.04261792, -0.09037796,  0.02119936,  0.04484551,  0.07196626,\n",
       "        0.17399076, -0.15224065,  0.00052825, -0.031327  , -0.10588955,\n",
       "        0.04757166, -0.00136379,  0.06470233, -0.17611788,  0.03189754,\n",
       "        0.07610872,  0.12893324, -0.06621411, -0.03844715, -0.25034365,\n",
       "        0.11316547,  0.05124544,  0.09771711, -0.20707735,  0.2816742 ,\n",
       "       -0.07320114, -0.02167491,  0.1270678 , -0.11404471,  0.14472243,\n",
       "        0.07875839, -0.00935573, -0.03707257, -0.14732188,  0.09452239,\n",
       "       -0.08197048, -0.00587366, -0.12562542,  0.18124785,  0.01920535,\n",
       "       -0.01275934,  0.03961205,  0.28533384,  0.2693889 ,  0.0144367 ,\n",
       "        0.20094931,  0.07774312,  0.06208277,  0.15655181,  0.3203965 ,\n",
       "        0.09371418,  0.0636541 , -0.28521574,  0.01168384, -0.00827025],\n",
       "      dtype=float32)"
      ]
     },
     "execution_count": 49,
     "metadata": {},
     "output_type": "execute_result"
    }
   ],
   "source": [
    "# \"사랑\"이라는 단어를 숫자(Vector)롤 변환한 데이터를 확인합니다.\n",
    "# 이 데이터는 컴퓨터가 단어를 이해하도록 돕는 숫자 집합입니다.\n",
    "word2vec.wv[\"사랑\"]"
   ]
  },
  {
   "cell_type": "code",
   "execution_count": 50,
   "id": "195c7d1e-9dbd-40af-a88d-3f40b03f807f",
   "metadata": {},
   "outputs": [
    {
     "data": {
      "text/plain": [
       "array([-1.13086164e-01,  6.24440424e-02, -4.48087156e-02,  1.73848756e-02,\n",
       "        1.33350387e-01, -3.02013695e-01,  8.04376602e-02,  3.19518834e-01,\n",
       "       -1.21603549e-01, -4.08027284e-02, -1.31883070e-01, -9.77904648e-02,\n",
       "        4.23666798e-02,  8.67718160e-02,  9.01095346e-02, -9.26763564e-02,\n",
       "       -7.08790720e-02, -2.01169416e-01,  2.24777032e-02, -3.18881959e-01,\n",
       "        1.27392873e-01,  1.63870063e-02, -1.84454489e-02, -4.75297458e-02,\n",
       "       -1.18717082e-01, -3.15346755e-02, -3.52609903e-02, -1.59706727e-01,\n",
       "       -1.19782202e-01,  1.36569766e-02,  1.27849519e-01,  1.49350673e-01,\n",
       "        6.05665520e-02, -6.10518195e-02, -9.45874974e-02,  2.84187883e-01,\n",
       "       -8.00083056e-02, -7.11529627e-02, -1.71225831e-01, -2.93793976e-01,\n",
       "        3.47104073e-02, -9.38841254e-02,  3.67574841e-02,  6.05577370e-03,\n",
       "        1.57276809e-01,  5.30533008e-02, -9.53220651e-02,  2.88202194e-03,\n",
       "        3.52319330e-02,  6.45127520e-02,  1.66106239e-01, -1.65657416e-01,\n",
       "       -3.40117404e-05, -1.02120526e-02, -1.08294278e-01,  3.53063419e-02,\n",
       "       -1.09613026e-02,  4.49393913e-02, -1.93330914e-01,  1.88895185e-02,\n",
       "        7.30476007e-02,  1.19975410e-01, -7.48444349e-02, -3.55448872e-02,\n",
       "       -2.59550989e-01,  1.23503953e-01,  3.90561782e-02,  7.90675730e-02,\n",
       "       -2.12101549e-01,  2.84532815e-01, -8.52684081e-02, -9.11731925e-03,\n",
       "        1.27437040e-01, -1.22669131e-01,  1.54422894e-01,  7.51759782e-02,\n",
       "        1.22587313e-03, -3.62160951e-02, -1.44940406e-01,  1.00999728e-01,\n",
       "       -7.83383697e-02, -1.94091983e-02, -1.32005587e-01,  1.87677294e-01,\n",
       "        1.25795333e-02, -2.09089015e-02,  3.47709991e-02,  2.69837022e-01,\n",
       "        2.64305651e-01,  1.88270416e-02,  2.09108934e-01,  7.13216066e-02,\n",
       "        5.73760234e-02,  1.56802043e-01,  3.07179272e-01,  9.44756493e-02,\n",
       "        5.76151386e-02, -2.76656598e-01,  1.82252545e-02,  1.83821167e-03],\n",
       "      dtype=float32)"
      ]
     },
     "execution_count": 50,
     "metadata": {},
     "output_type": "execute_result"
    }
   ],
   "source": [
    "# \"사랑\"이라는 단어를 숫자(Vector)롤 변환한 데이터를 확인합니다.\n",
    "word2vec.wv[\"가족\"]"
   ]
  },
  {
   "cell_type": "code",
   "execution_count": 51,
   "id": "7fc6fde8-a409-4b84-9a80-163a5b1fa10f",
   "metadata": {},
   "outputs": [],
   "source": [
    "#WordVector로 변환한 단어들 word2vec_word 대입\n",
    "word2vec_words = word2vec.wv.key_to_index.keys()"
   ]
  },
  {
   "cell_type": "code",
   "execution_count": 52,
   "id": "1d5313b7-4d66-436f-af38-40dae7be3ace",
   "metadata": {},
   "outputs": [
    {
     "data": {
      "text/plain": [
       "['시작', '자신', '사람', '사랑', '사건', '친구', '가족', '마음', '엄마', '이야기']"
      ]
     },
     "execution_count": 52,
     "metadata": {},
     "output_type": "execute_result"
    }
   ],
   "source": [
    "# WordVector 저장된 단어 10개를 확인합니다.\n",
    "list(word2vec_words)[0:10]"
   ]
  },
  {
   "cell_type": "code",
   "execution_count": 57,
   "id": "87133e74-6a36-4406-a368-22f1f2f43ef5",
   "metadata": {},
   "outputs": [],
   "source": [
    "# cursor라는 변수를 만들어서 오라클 데이터베이스와 통신할 수 있도록 준비합니다.\n",
    "# cursor는 데이터베이스와 데이터를 주고받는 역할을 하는 도구입니다.\n",
    "cursor = connection.cursor()"
   ]
  },
  {
   "cell_type": "code",
   "execution_count": 58,
   "id": "e72ab263-84bb-4b13-86de-7de1702e324d",
   "metadata": {},
   "outputs": [
    {
     "data": {
      "application/vnd.jupyter.widget-view+json": {
       "model_id": "d384caaf305c4092a05cc8b4c4853356",
       "version_major": 2,
       "version_minor": 0
      },
      "text/plain": [
       "  0%|          | 0/485 [00:00<?, ?it/s]"
      ]
     },
     "metadata": {},
     "output_type": "display_data"
    }
   ],
   "source": [
    "# movie_df라는 데이터의 데이터를 (한가족) 단위로 하나씩 반복하여 처리합니다.\n",
    "# tqdm은 작업의 진행률을 눈으로 볼 수 있게 해주는 도구입니다.\n",
    "for index, row in tqdm(movie_df.iterrows(), total=len(movie_df)):\n",
    "    try:\n",
    "        # 현재 영화 줄거리에서 단어들을 가져와서 words라는 변수에 저장합니다.\n",
    "        words = row['SYNOPSIS_CLEAR_LIST']\n",
    "\n",
    "        # word_vectors라는 빈 리스트를 준비하여 각 단어를 숫자(벡터)로 변환한 값을 저장합니다.\n",
    "        word_vectors = []\n",
    "        for word in words:\n",
    "            # word2vec로 변환한 단어가 저장된 word2vec.wv에 해당 단어가 존재하면\n",
    "            if word in word2vec.wv:\n",
    "                word_vectors.append(word2vec.wv[word])\n",
    "\n",
    "        # word_vectors 리스트가 비어있지 않으면, 즉 단어 벡터가 하나라도 있으면 평균값을 계산합니다.\n",
    "        # 평균값은 여러 단어 벡터를 하나놀 합친 대표값입니다.\n",
    "        if len(word_vectors) > 0:\n",
    "            ## word_vectors는 문장에 있는 단어 각각을 컴퓨터가 이해할 수 있는 숫자들로 표현한 것입니다.\n",
    "            # 예시로 단어가 3개이고 각각 [0.2, 0.4, 0.1], [0.1, 0.2, 0.5], [0.3, 0.4, 0.2]의 숫자 벡터를 가지고 있다면,\n",
    "            # 이 세 개의 벡터의 평균을 하나의 대표 벡터가 됩니다.\n",
    "\n",
    "            # axis=0 이라는 매개변수는 평균을 계산하는 방법을 지정하는 것입니다.\n",
    "            # axis=0은 리스트 안의 각 벡터에서 같은 위치에 있는 숫자끼리 평균을 계산하라는 의미입니다.\n",
    "            # 예를 들어 위의 벡터 3개각 있으면 첫 번재 숫자끼리 (0.2+0.1+0.3)/3, 두 번째 숫자끼리 (0.4+0.2+0.4)/3,\n",
    "            # 세 번째 숫자끼리 (0.1+0.5+0.2)/3 의 평균을 계산합니다.\n",
    "            avg_vector = np.mean(word_vectors, axis=0)\n",
    "        else:\n",
    "            # 만약 단어 벡터가 없으면, 크기가 vector_size인 같은 0으로 가득 찬 벡터를 만듭니다.\n",
    "            # np.zeros는 0들로 가득 찬 배열을 생성합니다.\n",
    "            avg_vector = np.zeros(word2vec.vector_size)\n",
    "\n",
    "        # avg_vector를 데이터베이스에 저장할 수 있도록 압축(이진 데이터 형태로 변환)합니다.\n",
    "        # pickle.dumps는 데이터를 보관하기 쉬운 이진 형태로 만들어줍니다.\n",
    "        vector_blob = pickle.dumps(avg_vector)\n",
    "\n",
    "        # 데이터베이스에 데이터를 업데이트(저장)할 SQL 명령어를 만듭니다.\n",
    "        # synopsis_vector 열에 avg_vector 데이터를 저장하고 num이 같은 행을 찾습니다.\n",
    "        update_query = \"\"\"\n",
    "        UPDATE movie_tbl SET synopsis_vector = :1 WHERE num = :2\n",
    "        \"\"\"\n",
    "\n",
    "        # SQL 명령어를 실행하여 데이터를 실제로 저장합니다.\n",
    "        # :1은 vector_blob(벡터 데이터), :2는 현재 행의 영화 변호(NUM)를 나타냅니다.\n",
    "        cursor.execute(update_query, [vector_blob, row['NUM']])\n",
    "\n",
    "    except Exception as e:\n",
    "        # 오류가 발생하면 어떤 오류인지 화면에 보여줍니다.\n",
    "        # 오류가 난 행 번호와 오류의 내용을 출력합니다.\n",
    "        print(f\"오류발생 인덱스 : {index}, {e}\")"
   ]
  },
  {
   "cell_type": "code",
   "execution_count": 59,
   "id": "bf6419c5-846b-468b-8604-51fd34de0863",
   "metadata": {},
   "outputs": [],
   "source": [
    "# 위에서 작업한 모든 내용을 최종적으로 데이터베이스에 완전히 저장합니다.\n",
    "# 장바구니에 담긴 상품을 최종 결제하는 것과 비슷한 과정입니다.\n",
    "connection.commit()"
   ]
  },
  {
   "cell_type": "code",
   "execution_count": 60,
   "id": "0c0dac81-cc7e-415f-9feb-53cb66cb6b94",
   "metadata": {},
   "outputs": [],
   "source": [
    "# 데이터베이스 사용이 끝났으니, 열었던 커서(cursor)와 연결(connection)을 닫습니다.\n",
    "cursor.close()\n",
    "connection.close()"
   ]
  }
 ],
 "metadata": {
  "kernelspec": {
   "display_name": "Python 3 (ipykernel)",
   "language": "python",
   "name": "python3"
  },
  "language_info": {
   "codemirror_mode": {
    "name": "ipython",
    "version": 3
   },
   "file_extension": ".py",
   "mimetype": "text/x-python",
   "name": "python",
   "nbconvert_exporter": "python",
   "pygments_lexer": "ipython3",
   "version": "3.10.16"
  }
 },
 "nbformat": 4,
 "nbformat_minor": 5
}
