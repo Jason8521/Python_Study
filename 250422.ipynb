{
  "nbformat": 4,
  "nbformat_minor": 0,
  "metadata": {
    "colab": {
      "provenance": [],
      "authorship_tag": "ABX9TyP5Vy3tOpz28xkAWRLvJd9p",
      "include_colab_link": true
    },
    "kernelspec": {
      "name": "python3",
      "display_name": "Python 3"
    },
    "language_info": {
      "name": "python"
    }
  },
  "cells": [
    {
      "cell_type": "markdown",
      "metadata": {
        "id": "view-in-github",
        "colab_type": "text"
      },
      "source": [
        "<a href=\"https://colab.research.google.com/github/Jason8521/Python_Study/blob/main/250422.ipynb\" target=\"_parent\"><img src=\"https://colab.research.google.com/assets/colab-badge.svg\" alt=\"Open In Colab\"/></a>"
      ]
    },
    {
      "cell_type": "code",
      "source": [
        "def cook_ramen(water=400, ramen=\"진라면\", soup=\"매운맛\"):\n",
        "    print(f\"{water}ml 물에 {ramen}과 {soup} 넣음\")"
      ],
      "metadata": {
        "id": "HjP_CucU3wYE"
      },
      "execution_count": null,
      "outputs": []
    },
    {
      "cell_type": "code",
      "source": [
        "cook_ramen(ramen=\"신라면\")"
      ],
      "metadata": {
        "colab": {
          "base_uri": "https://localhost:8080/"
        },
        "id": "jQOI25bp3_Bt",
        "outputId": "b00b37c7-db0c-43b1-c49b-7b18e114a15c"
      },
      "execution_count": null,
      "outputs": [
        {
          "output_type": "stream",
          "name": "stdout",
          "text": [
            "400ml 물에 신라면과 매운맛 넣음\n"
          ]
        }
      ]
    },
    {
      "cell_type": "code",
      "source": [
        "cook_ramen()"
      ],
      "metadata": {
        "colab": {
          "base_uri": "https://localhost:8080/"
        },
        "id": "ZyJhPOxT4HVc",
        "outputId": "e2a9f5cc-5fc9-4350-b700-4aaea74f49ee"
      },
      "execution_count": null,
      "outputs": [
        {
          "output_type": "stream",
          "name": "stdout",
          "text": [
            "400ml 물에 진라면과 매운맛 넣음\n"
          ]
        }
      ]
    },
    {
      "cell_type": "code",
      "source": [
        "cook_ramen(ramen=\"진라면\", soup=\"매운맛 스프\", water=400)"
      ],
      "metadata": {
        "colab": {
          "base_uri": "https://localhost:8080/"
        },
        "id": "TONnXGYU4Qse",
        "outputId": "0d42a084-27d3-4596-c2be-bd7254552168"
      },
      "execution_count": null,
      "outputs": [
        {
          "output_type": "stream",
          "name": "stdout",
          "text": [
            "400ml 물에 진라면과 매운맛 스프 넣음\n"
          ]
        }
      ]
    },
    {
      "cell_type": "code",
      "execution_count": null,
      "metadata": {
        "colab": {
          "base_uri": "https://localhost:8080/"
        },
        "id": "M7FR-S-Q1X2P",
        "outputId": "3305b890-92e4-4dac-dfff-7257c4f49055"
      },
      "outputs": [
        {
          "output_type": "stream",
          "name": "stdout",
          "text": [
            "500ml 물에 신라면과 매운맛 스프을 넣습니다.\n",
            "500ml 물에 신라면과 매운맛 스프을 넣습니다.\n",
            "600ml 물에 너구리과 순한맛 스프을 넣습니다.\n"
          ]
        }
      ],
      "source": [
        "def cook_ramen(water, ramen, soup):\n",
        "    print(f\"{water}ml 물에 {ramen}과 {soup}을 넣습니다.\")\n",
        "\n",
        "cook_ramen(500, \"신라면\", \"매운맛 스프\")\n",
        "\n",
        "cook_ramen(ramen=\"신라면\", soup=\"매운맛 스프\", water=500)\n",
        "\n",
        "cook_ramen(soup=\"순한맛 스프\", ramen=\"너구리\", water=600)"
      ]
    },
    {
      "cell_type": "code",
      "source": [
        "def cook_ramen(water=500, ramen=\"신라면\", soup=\"매운맛 스프\"):\n",
        "    print(f\"{water}ml 물을 끓입니다\")\n",
        "    print(f\"{ramen}을 넣습니다.\")\n",
        "    print(f\"{soup}을 넣습니다.\")\n",
        "    print(\"라면 완성!\")\n",
        "\n",
        "cook_ramen()\n",
        "cook_ramen(600)\n",
        "cook_ramen(600, \"진라면\")\n",
        "cook_ramen(600, \"진라면\", soup=\"순한맛 스프\")\n",
        "cook_ramen(ramen=\"삼양라면\", soup=\"치즈맛 스프\", water=700)"
      ],
      "metadata": {
        "colab": {
          "base_uri": "https://localhost:8080/"
        },
        "id": "rmOHgQOU2fMn",
        "outputId": "473adac6-76e1-43de-ecdf-ff3a0f7d385d"
      },
      "execution_count": null,
      "outputs": [
        {
          "output_type": "stream",
          "name": "stdout",
          "text": [
            "500ml 물을 끓입니다\n",
            "신라면을 넣습니다.\n",
            "매운맛 스프을 넣습니다.\n",
            "라면 완성!\n",
            "600ml 물을 끓입니다\n",
            "신라면을 넣습니다.\n",
            "매운맛 스프을 넣습니다.\n",
            "라면 완성!\n",
            "600ml 물을 끓입니다\n",
            "진라면을 넣습니다.\n",
            "매운맛 스프을 넣습니다.\n",
            "라면 완성!\n",
            "600ml 물을 끓입니다\n",
            "진라면을 넣습니다.\n",
            "순한맛 스프을 넣습니다.\n",
            "라면 완성!\n",
            "700ml 물을 끓입니다\n",
            "삼양라면을 넣습니다.\n",
            "치즈맛 스프을 넣습니다.\n",
            "라면 완성!\n"
          ]
        }
      ]
    },
    {
      "cell_type": "code",
      "source": [
        "def 고정상자(물건1,물건2):\n",
        "    print(f\"물건1:{물건1}, 물건2:{물건2}\")"
      ],
      "metadata": {
        "id": "QvwvXL0x6B9O"
      },
      "execution_count": null,
      "outputs": []
    },
    {
      "cell_type": "code",
      "source": [
        "고정상자(\"사과\",\"바나나\")"
      ],
      "metadata": {
        "colab": {
          "base_uri": "https://localhost:8080/"
        },
        "id": "kB8_zB3D6NPF",
        "outputId": "4d8f436c-71bd-4939-9f14-28316cfb21b5"
      },
      "execution_count": null,
      "outputs": [
        {
          "output_type": "stream",
          "name": "stdout",
          "text": [
            "물건1:사과, 물건2:바나나\n"
          ]
        }
      ]
    },
    {
      "cell_type": "code",
      "source": [
        "def 고정상자(물건1, 물건2):\n",
        "    print(f\"첫 번째 물건: {물건1}\")\n",
        "    print(f\"두 번째 물건: {물건2}\")\n",
        "\n",
        "고정상자(\"사과\", \"바나나\")"
      ],
      "metadata": {
        "colab": {
          "base_uri": "https://localhost:8080/"
        },
        "id": "pVFa6r9L2zKQ",
        "outputId": "a262ed73-7fa4-45bc-895b-58231a0fe894"
      },
      "execution_count": null,
      "outputs": [
        {
          "output_type": "stream",
          "name": "stdout",
          "text": [
            "첫 번째 물건: 사과\n",
            "두 번째 물건: 바나나\n"
          ]
        }
      ]
    },
    {
      "cell_type": "code",
      "source": [
        "lst1 = [\"사과\", \"바나나\", \"오렌지\"]\n",
        "lst1"
      ],
      "metadata": {
        "colab": {
          "base_uri": "https://localhost:8080/"
        },
        "id": "IkhZJp2X88Pd",
        "outputId": "71dbabab-16bc-44d7-f865-c0f0733f4789"
      },
      "execution_count": null,
      "outputs": [
        {
          "output_type": "execute_result",
          "data": {
            "text/plain": [
              "['사과', '바나나', '오렌지']"
            ]
          },
          "metadata": {},
          "execution_count": 34
        }
      ]
    },
    {
      "cell_type": "code",
      "source": [
        "for 물건 in lst1:\n",
        "    print(f\"물건={물건}\")"
      ],
      "metadata": {
        "colab": {
          "base_uri": "https://localhost:8080/"
        },
        "id": "JwdfO9je9L5P",
        "outputId": "4951ad98-8ae5-4f36-d0fc-db0279dc5fd8"
      },
      "execution_count": null,
      "outputs": [
        {
          "output_type": "stream",
          "name": "stdout",
          "text": [
            "물건=사과\n",
            "물건=바나나\n",
            "물건=오렌지\n"
          ]
        }
      ]
    },
    {
      "cell_type": "code",
      "source": [
        "tp1 = (\"사과\", \"오렌지\", \"바나나\")\n",
        "tp1"
      ],
      "metadata": {
        "colab": {
          "base_uri": "https://localhost:8080/"
        },
        "id": "doNvx2oe9D59",
        "outputId": "49a7d648-204f-4bb0-d52b-95d7e5e747a0"
      },
      "execution_count": null,
      "outputs": [
        {
          "output_type": "execute_result",
          "data": {
            "text/plain": [
              "('사과', '오렌지', '바나나')"
            ]
          },
          "metadata": {},
          "execution_count": 33
        }
      ]
    },
    {
      "cell_type": "code",
      "source": [
        "tp1[1] = (\"배\")"
      ],
      "metadata": {
        "colab": {
          "base_uri": "https://localhost:8080/",
          "height": 147
        },
        "id": "qwHnRiC79_VT",
        "outputId": "be46c5b3-6d45-4917-def2-178160b912c9"
      },
      "execution_count": null,
      "outputs": [
        {
          "output_type": "error",
          "ename": "TypeError",
          "evalue": "'tuple' object does not support item assignment",
          "traceback": [
            "\u001b[0;31m---------------------------------------------------------------------------\u001b[0m",
            "\u001b[0;31mTypeError\u001b[0m                                 Traceback (most recent call last)",
            "\u001b[0;32m<ipython-input-41-5f97587c7eb7>\u001b[0m in \u001b[0;36m<cell line: 0>\u001b[0;34m()\u001b[0m\n\u001b[0;32m----> 1\u001b[0;31m \u001b[0mtp1\u001b[0m\u001b[0;34m[\u001b[0m\u001b[0;36m1\u001b[0m\u001b[0;34m]\u001b[0m \u001b[0;34m=\u001b[0m \u001b[0;34m(\u001b[0m\u001b[0;34m\"배\"\u001b[0m\u001b[0;34m)\u001b[0m\u001b[0;34m\u001b[0m\u001b[0;34m\u001b[0m\u001b[0m\n\u001b[0m",
            "\u001b[0;31mTypeError\u001b[0m: 'tuple' object does not support item assignment"
          ]
        }
      ]
    },
    {
      "cell_type": "code",
      "source": [
        "for 물건 in tp1:\n",
        "    print(f\"물건={물건}\")"
      ],
      "metadata": {
        "colab": {
          "base_uri": "https://localhost:8080/"
        },
        "id": "PB1C_ylX9UBW",
        "outputId": "dca33e00-5c13-45fa-b2cc-b59c4603b008"
      },
      "execution_count": null,
      "outputs": [
        {
          "output_type": "stream",
          "name": "stdout",
          "text": [
            "물건=사과\n",
            "물건=오렌지\n",
            "물건=바나나\n"
          ]
        }
      ]
    },
    {
      "cell_type": "code",
      "source": [
        "sum([10, 20, 30])"
      ],
      "metadata": {
        "colab": {
          "base_uri": "https://localhost:8080/"
        },
        "id": "LKoD8uEBAYNF",
        "outputId": "b1907005-4fba-43dc-ed53-e35105d78084"
      },
      "execution_count": null,
      "outputs": [
        {
          "output_type": "execute_result",
          "data": {
            "text/plain": [
              "60"
            ]
          },
          "metadata": {},
          "execution_count": 43
        }
      ]
    },
    {
      "cell_type": "code",
      "source": [
        "sum([True, False, True, True])"
      ],
      "metadata": {
        "colab": {
          "base_uri": "https://localhost:8080/"
        },
        "id": "N65heGDiAek9",
        "outputId": "8797fafa-58d9-478f-a135-813bfe8f2f0f"
      },
      "execution_count": null,
      "outputs": [
        {
          "output_type": "execute_result",
          "data": {
            "text/plain": [
              "3"
            ]
          },
          "metadata": {},
          "execution_count": 44
        }
      ]
    },
    {
      "cell_type": "code",
      "source": [
        "a = None\n",
        "print(a)"
      ],
      "metadata": {
        "colab": {
          "base_uri": "https://localhost:8080/"
        },
        "id": "Wko-FAFEELQ1",
        "outputId": "6aac96ba-83cd-48ba-ed61-763fae7416d9"
      },
      "execution_count": null,
      "outputs": [
        {
          "output_type": "stream",
          "name": "stdout",
          "text": [
            "None\n"
          ]
        }
      ]
    },
    {
      "cell_type": "code",
      "source": [
        "import random\n",
        "def lucky():\n",
        "    num = random.randint(0,7)   # 0~7 사이 난수\n",
        "    print(f\"num={num}\")\n",
        "    if num > 5:\n",
        "        return \"앗싸 좋다!!\"\n"
      ],
      "metadata": {
        "id": "jdCsmJi_EQBA"
      },
      "execution_count": null,
      "outputs": []
    },
    {
      "cell_type": "code",
      "source": [
        "message = lucky()\n",
        "print(f\"message={message}\")"
      ],
      "metadata": {
        "colab": {
          "base_uri": "https://localhost:8080/"
        },
        "id": "YPrQAbszEcAw",
        "outputId": "3c5f161a-f094-4fcc-e179-4b248165af41"
      },
      "execution_count": null,
      "outputs": [
        {
          "output_type": "stream",
          "name": "stdout",
          "text": [
            "num=7\n",
            "message=앗싸 좋다!!\n"
          ]
        }
      ]
    },
    {
      "cell_type": "code",
      "source": [
        "def 가변상자(*물건들):\n",
        "    print(\"물건들 리스트\")\n",
        "    print(f\"물건들={물건들}\")\n",
        "    for 물건 in 물건들:\n",
        "        print(f\"물건={물건}\")\n",
        "    print(\"함수 끝\")"
      ],
      "metadata": {
        "id": "k63pvvJ96aQF"
      },
      "execution_count": null,
      "outputs": []
    },
    {
      "cell_type": "code",
      "source": [
        "가변상자()"
      ],
      "metadata": {
        "colab": {
          "base_uri": "https://localhost:8080/"
        },
        "id": "ttlMEw8j66fO",
        "outputId": "9881a1f1-711e-4426-fbe9-d50e020b511b"
      },
      "execution_count": null,
      "outputs": [
        {
          "output_type": "stream",
          "name": "stdout",
          "text": [
            "물건들 리스트\n",
            "물건들=()\n",
            "함수 끝\n"
          ]
        }
      ]
    },
    {
      "cell_type": "code",
      "source": [
        "가변상자(\"사과\",\"바나나\",\"오렌지\")"
      ],
      "metadata": {
        "colab": {
          "base_uri": "https://localhost:8080/"
        },
        "id": "jnv7D86b6mPF",
        "outputId": "c81d1f80-a0fb-473f-917a-47b209bace4e"
      },
      "execution_count": null,
      "outputs": [
        {
          "output_type": "stream",
          "name": "stdout",
          "text": [
            "물건들 리스트\n",
            "물건들=('사과', '바나나', '오렌지')\n",
            "물건=사과\n",
            "물건=바나나\n",
            "물건=오렌지\n",
            "함수 끝\n"
          ]
        }
      ]
    },
    {
      "cell_type": "code",
      "source": [
        "가변상자(\"노트북\")"
      ],
      "metadata": {
        "colab": {
          "base_uri": "https://localhost:8080/"
        },
        "id": "ga74S-NW6wad",
        "outputId": "2a55cb9a-fa4a-4fa7-8eb3-2cfcc7101c01"
      },
      "execution_count": null,
      "outputs": [
        {
          "output_type": "stream",
          "name": "stdout",
          "text": [
            "물건들 리스트\n",
            "물건=노트북\n",
            "함수 끝\n"
          ]
        }
      ]
    },
    {
      "cell_type": "code",
      "source": [
        "def 가변상자(*물건들):\n",
        "    print(\"상자에 담긴 물건 목록:\")\n",
        "    for 물건 in 물건들:\n",
        "        print(f\"-{물건}\")\n",
        "\n",
        "가변상자(\"사과\", \"바나나\", \"오렌지\")\n",
        "가변상자(\"연필\", \"공책\")\n",
        "가변상자(\"노트북\", \"마우스\", \"키보드\", \"스피커\")"
      ],
      "metadata": {
        "colab": {
          "base_uri": "https://localhost:8080/"
        },
        "id": "WduFzMFb45wa",
        "outputId": "6e913de7-0cc6-4728-dd1b-c415ad73842d"
      },
      "execution_count": null,
      "outputs": [
        {
          "output_type": "stream",
          "name": "stdout",
          "text": [
            "상자에 담긴 물건 목록:\n",
            "-사과\n",
            "-바나나\n",
            "-오렌지\n",
            "상자에 담긴 물건 목록:\n",
            "-연필\n",
            "-공책\n",
            "상자에 담긴 물건 목록:\n",
            "-노트북\n",
            "-마우스\n",
            "-키보드\n",
            "-스피커\n"
          ]
        }
      ]
    },
    {
      "cell_type": "code",
      "source": [
        "def 소개글만들기(이름, 나이, *취미들):\n",
        "    print(f\"안녕하세요, 저는 {이름}입니다.\")\n",
        "    print(f\"저는 {나이}살입니다.\")\n",
        "\n",
        "    if 취미들:\n",
        "        print(\"제 취미는 다음과 같습니다.\")\n",
        "        for 취미 in 취미들:\n",
        "            print(f\"-{취미}\")\n",
        "    else:\n",
        "        print(\"취미는 아직 없습니다.\")\n",
        "    print()\n",
        "\n",
        "소개글만들기(\"철수\", 25, \"축구\", \"독서\", \"게임\")\n",
        "소개글만들기(\"영희\", 30, \"요리\", \"등산\")\n",
        "소개글만들기(\"민수\", 22)"
      ],
      "metadata": {
        "colab": {
          "base_uri": "https://localhost:8080/"
        },
        "id": "fK4oBUfH5N6q",
        "outputId": "c5d616c7-9264-4cc2-a0bf-1bbd91ac0f3a"
      },
      "execution_count": null,
      "outputs": [
        {
          "output_type": "stream",
          "name": "stdout",
          "text": [
            "안녕하세요, 저는 철수입니다.\n",
            "저는 25살입니다.\n",
            "제 취미는 다음과 같습니다.\n",
            "-축구\n",
            "-독서\n",
            "-게임\n",
            "\n",
            "안녕하세요, 저는 영희입니다.\n",
            "저는 30살입니다.\n",
            "제 취미는 다음과 같습니다.\n",
            "-요리\n",
            "-등산\n",
            "\n",
            "안녕하세요, 저는 민수입니다.\n",
            "저는 22살입니다.\n",
            "취미는 아직 없습니다.\n",
            "\n"
          ]
        }
      ]
    },
    {
      "cell_type": "code",
      "source": [
        "fruits = [\"사과\", \"바나나\", \"오렌지\"]\n",
        "print(fruits)"
      ],
      "metadata": {
        "colab": {
          "base_uri": "https://localhost:8080/"
        },
        "id": "lDPHNN5xA2aF",
        "outputId": "0de3344f-c486-4787-8754-19d18edb5bb7"
      },
      "execution_count": null,
      "outputs": [
        {
          "output_type": "stream",
          "name": "stdout",
          "text": [
            "['사과', '바나나', '오렌지']\n"
          ]
        }
      ]
    },
    {
      "cell_type": "code",
      "source": [
        "first_fruit = fruits[0]\n",
        "print(first_fruit)"
      ],
      "metadata": {
        "colab": {
          "base_uri": "https://localhost:8080/"
        },
        "id": "NpK5PZ24Hf9A",
        "outputId": "b9ff52ae-01a7-484f-e578-acfa313b291a"
      },
      "execution_count": null,
      "outputs": [
        {
          "output_type": "stream",
          "name": "stdout",
          "text": [
            "사과\n"
          ]
        }
      ]
    },
    {
      "cell_type": "code",
      "source": [
        "fruits[2] = \"포도\"\n",
        "print(fruits)"
      ],
      "metadata": {
        "colab": {
          "base_uri": "https://localhost:8080/"
        },
        "id": "3JqyRUNeHwFq",
        "outputId": "2d82282b-3048-4206-a5e8-31577cd5a085"
      },
      "execution_count": null,
      "outputs": [
        {
          "output_type": "stream",
          "name": "stdout",
          "text": [
            "['사과', '바나나', '포도']\n"
          ]
        }
      ]
    },
    {
      "cell_type": "code",
      "source": [
        "fruits.append(\"수박\")\n",
        "print(fruits)"
      ],
      "metadata": {
        "colab": {
          "base_uri": "https://localhost:8080/"
        },
        "id": "gOR4iF8FH5HM",
        "outputId": "a5d7589f-fed6-4ced-f4b6-14d81ce0f150"
      },
      "execution_count": null,
      "outputs": [
        {
          "output_type": "stream",
          "name": "stdout",
          "text": [
            "['사과', '바나나', '포도', '수박']\n"
          ]
        }
      ]
    },
    {
      "cell_type": "code",
      "source": [
        "fruits.remove(\"바나나\")\n",
        "print(fruits)"
      ],
      "metadata": {
        "colab": {
          "base_uri": "https://localhost:8080/"
        },
        "id": "J8VXruf0H_TH",
        "outputId": "46c79ce1-1b25-47ca-ddb6-8171fd1e2f34"
      },
      "execution_count": null,
      "outputs": [
        {
          "output_type": "stream",
          "name": "stdout",
          "text": [
            "['사과', '포도', '수박']\n"
          ]
        }
      ]
    },
    {
      "cell_type": "code",
      "source": [
        "del fruits[0]\n",
        "print(fruits)"
      ],
      "metadata": {
        "colab": {
          "base_uri": "https://localhost:8080/"
        },
        "id": "YO13fkmEty8U",
        "outputId": "f1176a0b-e728-4379-8c4e-ae8704a43ad5"
      },
      "execution_count": null,
      "outputs": [
        {
          "output_type": "stream",
          "name": "stdout",
          "text": [
            "['포도', '수박']\n"
          ]
        }
      ]
    },
    {
      "cell_type": "code",
      "source": [
        "removelItem=fruits.pop(0)\n",
        "print(f\"지운거={removelItem}\")"
      ],
      "metadata": {
        "colab": {
          "base_uri": "https://localhost:8080/"
        },
        "id": "InREnpURuazU",
        "outputId": "e0e7d3a8-ca19-4300-eff4-74926999e99b"
      },
      "execution_count": null,
      "outputs": [
        {
          "output_type": "stream",
          "name": "stdout",
          "text": [
            "지운거=포도\n"
          ]
        }
      ]
    },
    {
      "cell_type": "code",
      "source": [
        "fruits"
      ],
      "metadata": {
        "colab": {
          "base_uri": "https://localhost:8080/"
        },
        "id": "JjJuEOBCutpk",
        "outputId": "2f579471-6810-49af-e25b-811be5499f79"
      },
      "execution_count": null,
      "outputs": [
        {
          "output_type": "execute_result",
          "data": {
            "text/plain": [
              "['수박']"
            ]
          },
          "metadata": {},
          "execution_count": 106
        }
      ]
    },
    {
      "cell_type": "code",
      "source": [
        "fruits = [\"사과\", \"바나나\", \"오렌지\"]\n",
        "print(\"처음 리스트:\", fruits)\n",
        "\n",
        "print(\"첫 번재 과일:\", fruits[0])\n",
        "\n",
        "fruits[2] = \"포도\"\n",
        "print(\"변경 후 리스트:\", fruits)\n",
        "\n",
        "fruits.append(\"수박\")\n",
        "print(\"추가 후 리스트:\", fruits)\n",
        "\n",
        "fruits.remove(\"바나나\")\n",
        "print(\"삭제 후 리스트:\", fruits)"
      ],
      "metadata": {
        "colab": {
          "base_uri": "https://localhost:8080/"
        },
        "id": "BN7cqC3NIFDN",
        "outputId": "5068ccc5-e2ce-450b-ff99-87a23488a440"
      },
      "execution_count": null,
      "outputs": [
        {
          "output_type": "stream",
          "name": "stdout",
          "text": [
            "처음 리스트: ['사과', '바나나', '오렌지']\n",
            "첫 번재 과일: 사과\n",
            "변경 후 리스트: ['사과', '바나나', '포도']\n",
            "추가 후 리스트: ['사과', '바나나', '포도', '수박']\n",
            "삭제 후 리스트: ['사과', '포도', '수박']\n"
          ]
        }
      ]
    },
    {
      "cell_type": "code",
      "source": [
        "cart = [\"사과\", \"바나나\", \"포도\"]\n",
        "print(len(cart))"
      ],
      "metadata": {
        "id": "BPu5MFCbKMgu",
        "colab": {
          "base_uri": "https://localhost:8080/"
        },
        "outputId": "315a940c-d9a2-480c-8828-bedd9bc723a5"
      },
      "execution_count": null,
      "outputs": [
        {
          "output_type": "stream",
          "name": "stdout",
          "text": [
            "3\n"
          ]
        }
      ]
    },
    {
      "cell_type": "code",
      "source": [
        "cart = []\n",
        "\n",
        "while True:\n",
        "    print(\"\\n===== 장바구니 프로그램 ======\")\n",
        "    print(\"1. 물건 추가\")\n",
        "    print(\"2. 물건 삭제\")\n",
        "    print(\"3. 장바구니 보기\")\n",
        "    print(\"4. 프로그램 종료\")\n",
        "\n",
        "    choice = input(\"원하는 기능의 번호를 입력하세요: \")\n",
        "    if choice == \"1\":\n",
        "        item = input(\"추가할 물건의 이름을 입력하세요: \")\n",
        "        cart.append(item)\n",
        "        print(f\"'{item}'이(가) 장바구니에 추가되었습니다.\")\n",
        "        print(f\"현재 장바구니에는 {len(cart)}개의 물건이 있습니다.\")\n",
        "    elif choice == \"2\":\n",
        "        if len(cart) == 0:\n",
        "            print(\"삭제할 물건이 없습니다.\")\n",
        "        else:\n",
        "            input(\"삭제할 물건의 이름을 입력하세요: \")\n",
        "            if item in cart:\n",
        "                cart.remove(item)\n",
        "                print(f\"'{item}'이(가) 장바구니에서 삭제되었습니다.\")\n",
        "            else:\n",
        "                print(\"장바구니에 없는 물건입니다!\")\n",
        "    elif choice == \"3\":\n",
        "        if len(cart) ==0:\n",
        "            print(\"장바구니가 비어 있습니다.\")\n",
        "        else:\n",
        "            print(\"현재 장바구니 내용:\", cart)\n",
        "            print(f\"현재 장바구니에는 {len(cart)}개의 물건이 있습니다.\")\n",
        "    elif choice == \"4\":\n",
        "        print(\"프로그램을 종료합니다. 감사합니다!\")\n",
        "    else:\n",
        "        print(\"잘못된 입력입니다! 1~4번 중에서 선택해주세요.\")"
      ],
      "metadata": {
        "id": "ZLZ7pc_fTg2e"
      },
      "execution_count": null,
      "outputs": []
    },
    {
      "cell_type": "code",
      "source": [
        "import time\n",
        "# 현재 날짜와 시간을 실수로 보여줌\n",
        "time.time()"
      ],
      "metadata": {
        "colab": {
          "base_uri": "https://localhost:8080/"
        },
        "id": "QPaXEu1GvuqL",
        "outputId": "2d2bcb8b-c6a7-4743-9847-7b2aefced5b9"
      },
      "execution_count": null,
      "outputs": [
        {
          "output_type": "execute_result",
          "data": {
            "text/plain": [
              "1745295968.9817543"
            ]
          },
          "metadata": {},
          "execution_count": 111
        }
      ]
    },
    {
      "cell_type": "code",
      "source": [
        "time.time()"
      ],
      "metadata": {
        "colab": {
          "base_uri": "https://localhost:8080/"
        },
        "id": "PApSAMBSvw6z",
        "outputId": "ce887780-0c59-4d48-9081-c3a3cca60b83"
      },
      "execution_count": null,
      "outputs": [
        {
          "output_type": "execute_result",
          "data": {
            "text/plain": [
              "1745295972.7804086"
            ]
          },
          "metadata": {},
          "execution_count": 112
        }
      ]
    },
    {
      "cell_type": "code",
      "source": [
        "start = time.time()\n",
        "lst = []\n",
        "\n",
        "for i in range(1, 100000001):\n",
        "    lst.append(i*2)\n",
        "\n",
        "end = time.time()\n",
        "\n",
        "print(f\"수행시간={end-start}\")"
      ],
      "metadata": {
        "colab": {
          "base_uri": "https://localhost:8080/"
        },
        "id": "PHEiO88jvxob",
        "outputId": "ac7b5ed9-9ae5-4cd5-c8ce-f453882db1d2"
      },
      "execution_count": null,
      "outputs": [
        {
          "output_type": "stream",
          "name": "stdout",
          "text": [
            "수행시간=16.94161581993103\n"
          ]
        }
      ]
    },
    {
      "cell_type": "code",
      "source": [
        "start = time.time()\n",
        "com_lst = [i*2 for i in range(1, 100000001)]\n",
        "end = time.time()\n",
        "print(f\"수행시간={end-start}\")"
      ],
      "metadata": {
        "colab": {
          "base_uri": "https://localhost:8080/"
        },
        "id": "2Zch3PX6wdRE",
        "outputId": "aed9534c-2841-4006-ca5a-a981b2f2d45c"
      },
      "execution_count": null,
      "outputs": [
        {
          "output_type": "stream",
          "name": "stdout",
          "text": [
            "수행시간=7.501636028289795\n"
          ]
        }
      ]
    },
    {
      "cell_type": "code",
      "source": [
        "\n",
        "numbers = []\n",
        "\n",
        "for i in range(1,6):\n",
        "    numbers.append(i)\n",
        "\n",
        "print(numbers)"
      ],
      "metadata": {
        "colab": {
          "base_uri": "https://localhost:8080/"
        },
        "id": "6QTZpD18rIqI",
        "outputId": "ae6bb130-a34c-4f58-ee34-c796e43f8c3c"
      },
      "execution_count": null,
      "outputs": [
        {
          "output_type": "stream",
          "name": "stdout",
          "text": [
            "[1, 2, 3, 4, 5]\n"
          ]
        }
      ]
    },
    {
      "cell_type": "code",
      "source": [
        "numbers = [i for i in range(1,6)]\n",
        "print(numbers)"
      ],
      "metadata": {
        "colab": {
          "base_uri": "https://localhost:8080/"
        },
        "id": "Bd-l-ojmtJFH",
        "outputId": "2decda47-5d70-46c8-f9b3-b78387deb82a"
      },
      "execution_count": null,
      "outputs": [
        {
          "output_type": "stream",
          "name": "stdout",
          "text": [
            "[1, 2, 3, 4, 5]\n"
          ]
        }
      ]
    },
    {
      "cell_type": "code",
      "source": [
        "even_numbers = []\n",
        "for i in range(1,11):\n",
        "    if i % 2 == 0:\n",
        "        even_numbers.append(i)\n",
        "print(even_numbers)"
      ],
      "metadata": {
        "colab": {
          "base_uri": "https://localhost:8080/"
        },
        "id": "WXtcUC_-tYrt",
        "outputId": "c16ce0c3-7dc1-4251-e712-db5fcbaddd35"
      },
      "execution_count": null,
      "outputs": [
        {
          "output_type": "stream",
          "name": "stdout",
          "text": [
            "[2, 4, 6, 8, 10]\n"
          ]
        }
      ]
    },
    {
      "cell_type": "code",
      "source": [
        "even_numbers = [i for i in range(1,11) if i % 2 == 0]\n",
        "print(even_numbers)"
      ],
      "metadata": {
        "colab": {
          "base_uri": "https://localhost:8080/"
        },
        "id": "ScOQkROK7oRl",
        "outputId": "9339a67b-15e0-4337-f927-8ec1f342a47e"
      },
      "execution_count": null,
      "outputs": [
        {
          "output_type": "stream",
          "name": "stdout",
          "text": [
            "[2, 4, 6, 8, 10]\n"
          ]
        }
      ]
    },
    {
      "cell_type": "code",
      "source": [
        "scores = [10, -5, 20, -15, 0]"
      ],
      "metadata": {
        "id": "vlbM26UK8kL8"
      },
      "execution_count": null,
      "outputs": []
    },
    {
      "cell_type": "code",
      "source": [
        "status = [\"음수\" if s < 0 else \"양수\" if s > 0 else \"영\" for s in scores]\n",
        "status"
      ],
      "metadata": {
        "colab": {
          "base_uri": "https://localhost:8080/"
        },
        "id": "NBCYgKoh8p9M",
        "outputId": "a7d3a633-9af9-431e-c9cd-904dce923816"
      },
      "execution_count": null,
      "outputs": [
        {
          "output_type": "execute_result",
          "data": {
            "text/plain": [
              "['양수', '음수', '양수', '음수', '영']"
            ]
          },
          "metadata": {},
          "execution_count": 134
        }
      ]
    },
    {
      "cell_type": "code",
      "source": [
        "status = [s for s in scores if s < 0]\n",
        "status"
      ],
      "metadata": {
        "colab": {
          "base_uri": "https://localhost:8080/"
        },
        "id": "agZ1RwcL83gM",
        "outputId": "e808d422-f09e-4c7a-cabf-88787a8282af"
      },
      "execution_count": null,
      "outputs": [
        {
          "output_type": "execute_result",
          "data": {
            "text/plain": [
              "[-5, -15]"
            ]
          },
          "metadata": {},
          "execution_count": 130
        }
      ]
    },
    {
      "cell_type": "code",
      "source": [
        "scores = [10, -5, 20, -15, 0]\n",
        "\n",
        "status = []\n",
        "\n",
        "for s in scores:\n",
        "    if s > 0:\n",
        "        status.append(\"Positive\")\n",
        "    elif s < 0:\n",
        "        status.append(\"Negative\")\n",
        "    else:\n",
        "        status.append(\"Zero\")\n",
        "\n",
        "print(status)"
      ],
      "metadata": {
        "colab": {
          "base_uri": "https://localhost:8080/"
        },
        "id": "jkBReeoU7y2t",
        "outputId": "cab555b9-9dc8-4941-faf8-3ce76f93fa31"
      },
      "execution_count": null,
      "outputs": [
        {
          "output_type": "stream",
          "name": "stdout",
          "text": [
            "['Positive', 'Negative', 'Positive', 'Negative', 'Zero']\n"
          ]
        }
      ]
    },
    {
      "cell_type": "code",
      "source": [
        "scores = [10, -5, 20, -15, 0]\n",
        "\n",
        "status = [\"Positive\" if s > 0 else \"Negative\" if s < 0 else \"Zero\" for s in scores]\n",
        "print(status)"
      ],
      "metadata": {
        "colab": {
          "base_uri": "https://localhost:8080/"
        },
        "id": "iiqyNT-m8Wbt",
        "outputId": "45da3c68-f6cc-464a-b9fc-2db180e9b650"
      },
      "execution_count": null,
      "outputs": [
        {
          "output_type": "stream",
          "name": "stdout",
          "text": [
            "['Positive', 'Negative', 'Positive', 'Negative', 'Zero']\n"
          ]
        }
      ]
    },
    {
      "cell_type": "code",
      "source": [
        "person = {\n",
        "    \"이름\": \"홍길동\",\n",
        "    \"나이\": 25,\n",
        "    \"직업\": \"개발자\"\n",
        "}\n",
        "print(person)"
      ],
      "metadata": {
        "colab": {
          "base_uri": "https://localhost:8080/"
        },
        "id": "PHDt4jYUMqB3",
        "outputId": "754b98ea-d087-4003-9fc0-c4bcd9528214"
      },
      "execution_count": null,
      "outputs": [
        {
          "output_type": "stream",
          "name": "stdout",
          "text": [
            "{'이름': '홍길동', '나이': 25, '직업': '개발자'}\n"
          ]
        }
      ]
    },
    {
      "cell_type": "code",
      "source": [
        "#person[\"주소\"]"
      ],
      "metadata": {
        "id": "9ds6EsXSPYry"
      },
      "execution_count": null,
      "outputs": []
    },
    {
      "cell_type": "code",
      "source": [
        "v1 = person.get(\"주소\", \"주소 모름\")\n",
        "print(v1)\n",
        "v2 = person.get(\"나이\", \"나이 모름\")\n",
        "v2"
      ],
      "metadata": {
        "colab": {
          "base_uri": "https://localhost:8080/"
        },
        "id": "6L9NY0cSPiHy",
        "outputId": "f547131e-f0c8-49a4-bade-513494842438"
      },
      "execution_count": null,
      "outputs": [
        {
          "output_type": "stream",
          "name": "stdout",
          "text": [
            "주소 모름\n"
          ]
        },
        {
          "output_type": "execute_result",
          "data": {
            "text/plain": [
              "25"
            ]
          },
          "metadata": {},
          "execution_count": 166
        }
      ]
    },
    {
      "cell_type": "code",
      "source": [
        "print(person[\"이름\"])\n",
        "print(person[\"나이\"])"
      ],
      "metadata": {
        "id": "P8euCUn1O078",
        "colab": {
          "base_uri": "https://localhost:8080/"
        },
        "outputId": "86d33658-7118-4597-9a18-fc79fdb86b0c"
      },
      "execution_count": null,
      "outputs": [
        {
          "output_type": "stream",
          "name": "stdout",
          "text": [
            "홍길동\n",
            "25\n"
          ]
        }
      ]
    },
    {
      "cell_type": "code",
      "source": [
        "person[\"주소\"] = \"서울\"\n",
        "print(person)"
      ],
      "metadata": {
        "colab": {
          "base_uri": "https://localhost:8080/"
        },
        "id": "QGUC-alYQkaq",
        "outputId": "9c329933-145d-4374-bd52-a311eb4302b1"
      },
      "execution_count": null,
      "outputs": [
        {
          "output_type": "stream",
          "name": "stdout",
          "text": [
            "{'이름': '홍길동', '나이': 25, '직업': '개발자', '주소': '서울'}\n"
          ]
        }
      ]
    },
    {
      "cell_type": "code",
      "source": [
        "del person[\"직업\"]\n",
        "print(person)"
      ],
      "metadata": {
        "colab": {
          "base_uri": "https://localhost:8080/"
        },
        "id": "vmJGIiRYQsaa",
        "outputId": "073df123-4d9e-4b25-cb29-ce80a663c507"
      },
      "execution_count": null,
      "outputs": [
        {
          "output_type": "stream",
          "name": "stdout",
          "text": [
            "{'이름': '홍길동', '나이': 25, '주소': '서울'}\n"
          ]
        }
      ]
    },
    {
      "cell_type": "code",
      "source": [
        "scores = {\n",
        "    \"철수\": 85,\n",
        "    \"영희\": 92,\n",
        "    \"민수\": 78\n",
        "}\n",
        "\n",
        "print(scores[\"영희\"])"
      ],
      "metadata": {
        "colab": {
          "base_uri": "https://localhost:8080/"
        },
        "id": "q20MP4MzQ33t",
        "outputId": "f34757d0-9367-4f7b-b544-f95dfcb965f4"
      },
      "execution_count": null,
      "outputs": [
        {
          "output_type": "stream",
          "name": "stdout",
          "text": [
            "92\n"
          ]
        }
      ]
    },
    {
      "cell_type": "code",
      "source": [
        "scores[\"지수\"] = 90\n",
        "print(scores)"
      ],
      "metadata": {
        "colab": {
          "base_uri": "https://localhost:8080/"
        },
        "id": "kMTiHvbARRob",
        "outputId": "0d6853f8-960c-462c-9b84-fd9b87f41d5f"
      },
      "execution_count": null,
      "outputs": [
        {
          "output_type": "stream",
          "name": "stdout",
          "text": [
            "{'철수': 85, '영희': 92, '민수': 78, '지수': 90}\n"
          ]
        }
      ]
    },
    {
      "cell_type": "code",
      "source": [
        "scores[\"철수\"] = 95\n",
        "print(scores)"
      ],
      "metadata": {
        "colab": {
          "base_uri": "https://localhost:8080/"
        },
        "id": "lB7nWj8CRS1b",
        "outputId": "55140b07-0f4b-4134-c2d5-15c727e250c9"
      },
      "execution_count": null,
      "outputs": [
        {
          "output_type": "stream",
          "name": "stdout",
          "text": [
            "{'철수': 95, '영희': 92, '민수': 78}\n"
          ]
        }
      ]
    },
    {
      "cell_type": "code",
      "source": [
        "scores = {\n",
        "    \"철수\": 85,\n",
        "    \"영희\": 92,\n",
        "    \"민수\": 78\n",
        "}\n",
        "\n",
        "for name in scores:\n",
        "    print(f\"name={name}\")\n",
        "\n",
        "for score in scores.values():\n",
        "    print(f\"score={score}\")\n",
        "\n",
        "for anme, score in scores.items():\n",
        "    print(f\"name={name}, score={score}\")"
      ],
      "metadata": {
        "colab": {
          "base_uri": "https://localhost:8080/"
        },
        "id": "f_YCIjGIRYY2",
        "outputId": "5667e818-53d2-45e7-eebc-ed9840152d72"
      },
      "execution_count": null,
      "outputs": [
        {
          "output_type": "stream",
          "name": "stdout",
          "text": [
            "name=철수\n",
            "name=영희\n",
            "name=민수\n",
            "score=85\n",
            "score=92\n",
            "score=78\n",
            "name=민수, score=85\n",
            "name=민수, score=92\n",
            "name=민수, score=78\n"
          ]
        }
      ]
    },
    {
      "cell_type": "code",
      "source": [
        "order = {\n",
        "    \"김철수\": {\"김치찌개\": 1, \"불고기\": 2},\n",
        "    \"이영희\": {\"된장찌개\": 1, \"비빔밥\": 1}\n",
        "}\n",
        "\n",
        "for customer, menu in order.items():\n",
        "    print(f\"{customer}님의 주문 내역:\")\n",
        "\n",
        "    for food, quantity in menu.items():\n",
        "        print(f\"- {food}: {quantity}개\")\n",
        "    print()"
      ],
      "metadata": {
        "colab": {
          "base_uri": "https://localhost:8080/"
        },
        "id": "agzaNNO9SssS",
        "outputId": "39e5994f-0aa2-4df8-d4bd-36db8891021b"
      },
      "execution_count": null,
      "outputs": [
        {
          "output_type": "stream",
          "name": "stdout",
          "text": [
            "김철수님의 주문 내역:\n",
            "- 김치찌개: 1개\n",
            "- 불고기: 2개\n",
            "\n",
            "이영희님의 주문 내역:\n",
            "- 된장찌개: 1개\n",
            "- 비빔밥: 1개\n",
            "\n"
          ]
        }
      ]
    },
    {
      "cell_type": "code",
      "source": [
        "from datetime import datetime\n",
        "\n",
        "orders = [\n",
        "    {\"고객명\": \"철수\", \"구매일\": \"2024-01-01\"},\n",
        "    {\"고객명\": \"영희\", \"구매일\": \"2023-10-10\"}\n",
        "]\n",
        "\n",
        "cutoff = datetime.strptime(\"2024-03-01\", \"%Y-%m-%d\")\n",
        "\n",
        "inactive_customers = []\n",
        "\n",
        "for order in orders:\n",
        "    name = order[\"고객명\"]\n",
        "    date = datetime.strptime(order[\"구매일\"], \"%Y-%m-%d\")\n",
        "    if(cuttoff - date).days > 90:\n",
        "        inactive_customers.append(name)\n",
        "\n",
        "print(f\"이탈 고객: {inactive_customers}\")"
      ],
      "metadata": {
        "colab": {
          "base_uri": "https://localhost:8080/"
        },
        "id": "VVv0u71rTacc",
        "outputId": "939eef0d-a451-479a-deef-7eb04a721047"
      },
      "execution_count": null,
      "outputs": [
        {
          "output_type": "stream",
          "name": "stdout",
          "text": [
            "이탈 고객: ['영희']\n"
          ]
        }
      ]
    },
    {
      "cell_type": "code",
      "source": [],
      "metadata": {
        "id": "YiEb93SgjeaS"
      },
      "execution_count": null,
      "outputs": []
    }
  ]
}