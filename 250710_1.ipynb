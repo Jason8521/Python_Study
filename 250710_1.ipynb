{
 "cells": [
  {
   "cell_type": "code",
   "execution_count": 1,
   "id": "b290eb1e-7971-4753-a6b3-f573af8ece57",
   "metadata": {},
   "outputs": [],
   "source": [
    "import torch\n",
    "import torch.nn as nn\n",
    "import torch.optim as optim\n",
    "import matplotlib.pyplot as plt"
   ]
  },
  {
   "cell_type": "code",
   "execution_count": 2,
   "id": "9c2e4e8d-91d3-448e-b5ab-725ac60aacae",
   "metadata": {},
   "outputs": [
    {
     "data": {
      "text/plain": [
       "tensor([[[[0.4000, 0.4000, 0.4000, 0.4000, 0.4000, 0.4000, 0.4000, 0.4000,\n",
       "           0.4000],\n",
       "          [0.0000, 0.0000, 0.0000, 0.0000, 0.0000, 0.0000, 0.0000, 0.0000,\n",
       "           0.4000],\n",
       "          [0.0000, 0.0000, 0.0000, 0.0000, 0.0000, 0.0000, 0.0000, 0.0000,\n",
       "           0.4000],\n",
       "          [0.0000, 0.0000, 0.0000, 0.0000, 0.0000, 0.0000, 0.0000, 0.0000,\n",
       "           0.4000],\n",
       "          [0.0000, 0.0000, 0.0000, 0.0000, 0.0000, 0.0000, 0.0000, 0.0000,\n",
       "           0.4000],\n",
       "          [0.0000, 0.0000, 0.0000, 0.0000, 0.0000, 0.0000, 0.0000, 0.0000,\n",
       "           0.4000],\n",
       "          [0.0000, 0.0000, 0.0000, 0.0000, 0.0000, 0.0000, 0.0000, 0.0000,\n",
       "           0.4000],\n",
       "          [0.0000, 0.0000, 0.0000, 0.0000, 0.0000, 0.0000, 0.0000, 0.0000,\n",
       "           0.4000],\n",
       "          [0.0000, 0.0000, 0.0000, 0.0000, 0.0000, 0.0000, 0.0000, 0.0000,\n",
       "           0.4000]]]])"
      ]
     },
     "execution_count": 2,
     "metadata": {},
     "output_type": "execute_result"
    }
   ],
   "source": [
    "image = torch.tensor([[[[0.4, 0.4, 0.4, 0.4, 0.4, 0.4, 0.4, 0.4, 0.4],\n",
    "                        [0,   0,   0,   0,   0,   0,   0,   0,   0.4],\n",
    "                        [0,   0,   0,   0,   0,   0,   0,   0,   0.4],\n",
    "                        [0,   0,   0,   0,   0,   0,   0,   0,   0.4],\n",
    "                        [0,   0,   0,   0,   0,   0,   0,   0,   0.4],\n",
    "                        [0,   0,   0,   0,   0,   0,   0,   0,   0.4],\n",
    "                        [0,   0,   0,   0,   0,   0,   0,   0,   0.4],\n",
    "                        [0,   0,   0,   0,   0,   0,   0,   0,   0.4],\n",
    "                        [0,   0,   0,   0,   0,   0,   0,   0,   0.4]]]],\n",
    "                        dtype=torch.float32)\n",
    "image"
   ]
  },
  {
   "cell_type": "code",
   "execution_count": 3,
   "id": "734dfa7b-622e-4cc4-ac0a-904b8fe06e5e",
   "metadata": {},
   "outputs": [
    {
     "data": {
      "text/plain": [
       "torch.Size([1, 1, 9, 9])"
      ]
     },
     "execution_count": 3,
     "metadata": {},
     "output_type": "execute_result"
    }
   ],
   "source": [
    "image.shape"
   ]
  },
  {
   "cell_type": "code",
   "execution_count": 4,
   "id": "58f583ef-3666-4a71-b570-86cd5e27ac59",
   "metadata": {},
   "outputs": [
    {
     "data": {
      "text/plain": [
       "<matplotlib.image.AxesImage at 0x23c0b3eacd0>"
      ]
     },
     "execution_count": 4,
     "metadata": {},
     "output_type": "execute_result"
    },
    {
     "data": {
      "image/png": "[encoded data removed]",
      "text/plain": [
       "<Figure size 640x480 with 1 Axes>"
      ]
     },
     "metadata": {},
     "output_type": "display_data"
    }
   ],
   "source": [
    "plt.imshow(image.data.squeeze(), cmap='gray_r', vmin=0, vmax=1)"
   ]
  },
  {
   "cell_type": "code",
   "execution_count": 5,
   "id": "b7858a09-298e-43f6-a25f-4424182f5a25",
   "metadata": {},
   "outputs": [
    {
     "data": {
      "text/plain": [
       "tensor([[7.]])"
      ]
     },
     "execution_count": 5,
     "metadata": {},
     "output_type": "execute_result"
    }
   ],
   "source": [
    "label = torch.tensor([[7.]], dtype=torch.float32)\n",
    "label"
   ]
  },
  {
   "cell_type": "code",
   "execution_count": 6,
   "id": "598d7ce6-3061-40fa-ae69-c322658f3b3f",
   "metadata": {},
   "outputs": [],
   "source": [
    "model = nn.Sequential(\n",
    "    nn.Conv2d(1, 1, kernel_size=3, bias=False),\n",
    "    nn.ReLU(),\n",
    "    nn.Flatten(),\n",
    "    nn.Linear(49, 1)\n",
    ")"
   ]
  },
  {
   "cell_type": "code",
   "execution_count": 7,
   "id": "36715c30-fc40-4867-b8ad-bcfbe80c931c",
   "metadata": {},
   "outputs": [],
   "source": [
    "with torch.no_grad():\n",
    "    model[0].weight.normal_(mean=0.0, std=0.01)"
   ]
  },
  {
   "cell_type": "code",
   "execution_count": 8,
   "id": "8ffd7e4d-de0e-4e67-9a37-a1671edc3cf0",
   "metadata": {},
   "outputs": [],
   "source": [
    "criterion = nn.MSELoss()\n",
    "\n",
    "optimizer = optim.SGD(model.parameters(), lr=0.0005)"
   ]
  },
  {
   "cell_type": "code",
   "execution_count": 9,
   "id": "0d84f90c-5330-4505-baf8-871433528c35",
   "metadata": {},
   "outputs": [
    {
     "name": "stdout",
     "output_type": "stream",
     "text": [
      "====================================================================================================\n",
      "\n",
      "Epoch [1]\n",
      "필터맵:\n",
      "tensor([[0.0088, 0.0088, 0.0088, 0.0088, 0.0088, 0.0088, 0.0000],\n",
      "        [0.0000, 0.0000, 0.0000, 0.0000, 0.0000, 0.0000, 0.0000],\n",
      "        [0.0000, 0.0000, 0.0000, 0.0000, 0.0000, 0.0000, 0.0000],\n",
      "        [0.0000, 0.0000, 0.0000, 0.0000, 0.0000, 0.0000, 0.0000],\n",
      "        [0.0000, 0.0000, 0.0000, 0.0000, 0.0000, 0.0000, 0.0000],\n",
      "        [0.0000, 0.0000, 0.0000, 0.0000, 0.0000, 0.0000, 0.0000],\n",
      "        [0.0000, 0.0000, 0.0000, 0.0000, 0.0000, 0.0000, 0.0000]])\n",
      "최종 예측값: -0.1297\n",
      "손실값: 50.8319\n",
      "수정된 필터값:\n",
      "tensor([[ 0.0177,  0.0157, -0.0083],\n",
      "        [-0.0064,  0.0041, -0.0288],\n",
      "        [-0.0046,  0.0089,  0.0063]])\n"
     ]
    },
    {
     "data": {
      "image/png": "[encoded data removed]",
      "text/plain": [
       "<Figure size 300x300 with 1 Axes>"
      ]
     },
     "metadata": {},
     "output_type": "display_data"
    },
    {
     "name": "stdout",
     "output_type": "stream",
     "text": [
      "====================================================================================================\n",
      "\n",
      "Epoch [50]\n",
      "필터맵:\n",
      "tensor([[0.0999, 0.0999, 0.0999, 0.0999, 0.0999, 0.0999, 0.1200],\n",
      "        [0.0000, 0.0000, 0.0000, 0.0000, 0.0000, 0.0000, 0.0529],\n",
      "        [0.0000, 0.0000, 0.0000, 0.0000, 0.0000, 0.0000, 0.0529],\n",
      "        [0.0000, 0.0000, 0.0000, 0.0000, 0.0000, 0.0000, 0.0529],\n",
      "        [0.0000, 0.0000, 0.0000, 0.0000, 0.0000, 0.0000, 0.0529],\n",
      "        [0.0000, 0.0000, 0.0000, 0.0000, 0.0000, 0.0000, 0.0529],\n",
      "        [0.0000, 0.0000, 0.0000, 0.0000, 0.0000, 0.0000, 0.0529]])\n",
      "최종 예측값: 0.2830\n",
      "손실값: 45.1186\n",
      "수정된 필터값:\n",
      "tensor([[ 0.0864,  0.0843,  0.0845],\n",
      "        [-0.0064,  0.0041,  0.0086],\n",
      "        [-0.0046,  0.0089,  0.0438]])\n"
     ]
    },
    {
     "data": {
      "image/png": "[encoded data removed]",
      "text/plain": [
       "<Figure size 300x300 with 1 Axes>"
      ]
     },
     "metadata": {},
     "output_type": "display_data"
    },
    {
     "name": "stdout",
     "output_type": "stream",
     "text": [
      "====================================================================================================\n",
      "\n",
      "Epoch [100]\n",
      "필터맵:\n",
      "tensor([[0.2342, 0.2342, 0.2342, 0.2342, 0.2342, 0.2342, 0.3074],\n",
      "        [0.0000, 0.0000, 0.0000, 0.0000, 0.0000, 0.0000, 0.1638],\n",
      "        [0.0000, 0.0000, 0.0000, 0.0000, 0.0000, 0.0000, 0.1638],\n",
      "        [0.0000, 0.0000, 0.0000, 0.0000, 0.0000, 0.0000, 0.1638],\n",
      "        [0.0000, 0.0000, 0.0000, 0.0000, 0.0000, 0.0000, 0.1638],\n",
      "        [0.0000, 0.0000, 0.0000, 0.0000, 0.0000, 0.0000, 0.1638],\n",
      "        [0.0000, 0.0000, 0.0000, 0.0000, 0.0000, 0.0000, 0.1638]])\n",
      "최종 예측값: 0.8485\n",
      "손실값: 37.8404\n",
      "수정된 필터값:\n",
      "tensor([[ 0.1829,  0.1808,  0.2301],\n",
      "        [-0.0064,  0.0041,  0.0756],\n",
      "        [-0.0046,  0.0089,  0.1107]])\n"
     ]
    },
    {
     "data": {
      "image/png": "[encoded data removed]",
      "text/plain": [
       "<Figure size 300x300 with 1 Axes>"
      ]
     },
     "metadata": {},
     "output_type": "display_data"
    },
    {
     "name": "stdout",
     "output_type": "stream",
     "text": [
      "====================================================================================================\n",
      "\n",
      "Epoch [150]\n",
      "필터맵:\n",
      "tensor([[0.4369, 0.4369, 0.4369, 0.4369, 0.4369, 0.4369, 0.5923],\n",
      "        [0.0000, 0.0000, 0.0000, 0.0000, 0.0000, 0.0000, 0.3341],\n",
      "        [0.0000, 0.0000, 0.0000, 0.0000, 0.0000, 0.0000, 0.3341],\n",
      "        [0.0000, 0.0000, 0.0000, 0.0000, 0.0000, 0.0000, 0.3341],\n",
      "        [0.0000, 0.0000, 0.0000, 0.0000, 0.0000, 0.0000, 0.3341],\n",
      "        [0.0000, 0.0000, 0.0000, 0.0000, 0.0000, 0.0000, 0.3341],\n",
      "        [0.0000, 0.0000, 0.0000, 0.0000, 0.0000, 0.0000, 0.3341]])\n",
      "최종 예측값: 1.8794\n",
      "손실값: 26.2207\n",
      "수정된 필터값:\n",
      "tensor([[ 0.3272,  0.3252,  0.4517],\n",
      "        [-0.0064,  0.0041,  0.1792],\n",
      "        [-0.0046,  0.0089,  0.2144]])\n"
     ]
    },
    {
     "data": {
      "image/png": "[encoded data removed]",
      "text/plain": [
       "<Figure size 300x300 with 1 Axes>"
      ]
     },
     "metadata": {},
     "output_type": "display_data"
    },
    {
     "name": "stdout",
     "output_type": "stream",
     "text": [
      "====================================================================================================\n",
      "\n",
      "Epoch [200]\n",
      "필터맵:\n",
      "tensor([[0.6860, 0.6860, 0.6860, 0.6860, 0.6860, 0.6860, 0.9465],\n",
      "        [0.0000, 0.0000, 0.0000, 0.0000, 0.0000, 0.0000, 0.5486],\n",
      "        [0.0000, 0.0000, 0.0000, 0.0000, 0.0000, 0.0000, 0.5486],\n",
      "        [0.0000, 0.0000, 0.0000, 0.0000, 0.0000, 0.0000, 0.5486],\n",
      "        [0.0000, 0.0000, 0.0000, 0.0000, 0.0000, 0.0000, 0.5486],\n",
      "        [0.0000, 0.0000, 0.0000, 0.0000, 0.0000, 0.0000, 0.5486],\n",
      "        [0.0000, 0.0000, 0.0000, 0.0000, 0.0000, 0.0000, 0.5486]])\n",
      "최종 예측값: 3.6721\n",
      "손실값: 11.0748\n",
      "수정된 필터값:\n",
      "tensor([[ 0.5017,  0.4997,  0.7256],\n",
      "        [-0.0064,  0.0041,  0.3105],\n",
      "        [-0.0046,  0.0089,  0.3457]])\n"
     ]
    },
    {
     "data": {
      "image/png": "[encoded data removed]",
      "text/plain": [
       "<Figure size 300x300 with 1 Axes>"
      ]
     },
     "metadata": {},
     "output_type": "display_data"
    },
    {
     "name": "stdout",
     "output_type": "stream",
     "text": [
      "====================================================================================================\n",
      "\n",
      "Epoch [250]\n",
      "필터맵:\n",
      "tensor([[0.8787, 0.8787, 0.8787, 0.8787, 0.8787, 0.8787, 1.2222],\n",
      "        [0.0000, 0.0000, 0.0000, 0.0000, 0.0000, 0.0000, 0.7170],\n",
      "        [0.0000, 0.0000, 0.0000, 0.0000, 0.0000, 0.0000, 0.7170],\n",
      "        [0.0000, 0.0000, 0.0000, 0.0000, 0.0000, 0.0000, 0.7170],\n",
      "        [0.0000, 0.0000, 0.0000, 0.0000, 0.0000, 0.0000, 0.7170],\n",
      "        [0.0000, 0.0000, 0.0000, 0.0000, 0.0000, 0.0000, 0.7170],\n",
      "        [0.0000, 0.0000, 0.0000, 0.0000, 0.0000, 0.0000, 0.7170]])\n",
      "최종 예측값: 5.5198\n",
      "손실값: 2.1910\n",
      "수정된 필터값:\n",
      "tensor([[ 0.6344,  0.6324,  0.9367],\n",
      "        [-0.0064,  0.0041,  0.4133],\n",
      "        [-0.0046,  0.0089,  0.4485]])\n"
     ]
    },
    {
     "data": {
      "image/png": "[encoded data removed]",
      "text/plain": [
       "<Figure size 300x300 with 1 Axes>"
      ]
     },
     "metadata": {},
     "output_type": "display_data"
    },
    {
     "name": "stdout",
     "output_type": "stream",
     "text": [
      "====================================================================================================\n",
      "\n",
      "Epoch [300]\n",
      "필터맵:\n",
      "tensor([[0.9672, 0.9672, 0.9672, 0.9672, 0.9672, 0.9672, 1.3494],\n",
      "        [0.0000, 0.0000, 0.0000, 0.0000, 0.0000, 0.0000, 0.7950],\n",
      "        [0.0000, 0.0000, 0.0000, 0.0000, 0.0000, 0.0000, 0.7950],\n",
      "        [0.0000, 0.0000, 0.0000, 0.0000, 0.0000, 0.0000, 0.7950],\n",
      "        [0.0000, 0.0000, 0.0000, 0.0000, 0.0000, 0.0000, 0.7950],\n",
      "        [0.0000, 0.0000, 0.0000, 0.0000, 0.0000, 0.0000, 0.7950],\n",
      "        [0.0000, 0.0000, 0.0000, 0.0000, 0.0000, 0.0000, 0.7950]])\n",
      "최종 예측값: 6.5110\n",
      "손실값: 0.2392\n",
      "수정된 필터값:\n",
      "tensor([[ 0.6947,  0.6927,  1.0332],\n",
      "        [-0.0064,  0.0041,  0.4607],\n",
      "        [-0.0046,  0.0089,  0.4958]])\n"
     ]
    },
    {
     "data": {
      "image/png": "[encoded data removed]",
      "text/plain": [
       "<Figure size 300x300 with 1 Axes>"
      ]
     },
     "metadata": {},
     "output_type": "display_data"
    },
    {
     "name": "stdout",
     "output_type": "stream",
     "text": [
      "====================================================================================================\n",
      "\n",
      "Epoch [350]\n",
      "필터맵:\n",
      "tensor([[0.9965, 0.9965, 0.9965, 0.9965, 0.9965, 0.9965, 1.3915],\n",
      "        [0.0000, 0.0000, 0.0000, 0.0000, 0.0000, 0.0000, 0.8208],\n",
      "        [0.0000, 0.0000, 0.0000, 0.0000, 0.0000, 0.0000, 0.8208],\n",
      "        [0.0000, 0.0000, 0.0000, 0.0000, 0.0000, 0.0000, 0.8208],\n",
      "        [0.0000, 0.0000, 0.0000, 0.0000, 0.0000, 0.0000, 0.8208],\n",
      "        [0.0000, 0.0000, 0.0000, 0.0000, 0.0000, 0.0000, 0.8208],\n",
      "        [0.0000, 0.0000, 0.0000, 0.0000, 0.0000, 0.0000, 0.8208]])\n",
      "최종 예측값: 6.8584\n",
      "손실값: 0.0201\n",
      "수정된 필터값:\n",
      "tensor([[ 0.7145,  0.7125,  1.0649],\n",
      "        [-0.0064,  0.0041,  0.4763],\n",
      "        [-0.0046,  0.0089,  0.5115]])\n"
     ]
    },
    {
     "data": {
      "image/png": "[encoded data removed]",
      "text/plain": [
       "<Figure size 300x300 with 1 Axes>"
      ]
     },
     "metadata": {},
     "output_type": "display_data"
    },
    {
     "name": "stdout",
     "output_type": "stream",
     "text": [
      "====================================================================================================\n",
      "\n",
      "Epoch [400]\n",
      "필터맵:\n",
      "tensor([[1.0049, 1.0049, 1.0049, 1.0049, 1.0049, 1.0049, 1.4036],\n",
      "        [0.0000, 0.0000, 0.0000, 0.0000, 0.0000, 0.0000, 0.8283],\n",
      "        [0.0000, 0.0000, 0.0000, 0.0000, 0.0000, 0.0000, 0.8283],\n",
      "        [0.0000, 0.0000, 0.0000, 0.0000, 0.0000, 0.0000, 0.8283],\n",
      "        [0.0000, 0.0000, 0.0000, 0.0000, 0.0000, 0.0000, 0.8283],\n",
      "        [0.0000, 0.0000, 0.0000, 0.0000, 0.0000, 0.0000, 0.8283],\n",
      "        [0.0000, 0.0000, 0.0000, 0.0000, 0.0000, 0.0000, 0.8283]])\n",
      "최종 예측값: 6.9607\n",
      "손실값: 0.0015\n",
      "수정된 필터값:\n",
      "tensor([[ 0.7202,  0.7182,  1.0741],\n",
      "        [-0.0064,  0.0041,  0.4809],\n",
      "        [-0.0046,  0.0089,  0.5160]])\n"
     ]
    },
    {
     "data": {
      "image/png": "[encoded data removed]",
      "text/plain": [
       "<Figure size 300x300 with 1 Axes>"
      ]
     },
     "metadata": {},
     "output_type": "display_data"
    },
    {
     "name": "stdout",
     "output_type": "stream",
     "text": [
      "====================================================================================================\n",
      "\n",
      "Epoch [450]\n",
      "필터맵:\n",
      "tensor([[1.0073, 1.0073, 1.0073, 1.0073, 1.0073, 1.0073, 1.4070],\n",
      "        [0.0000, 0.0000, 0.0000, 0.0000, 0.0000, 0.0000, 0.8304],\n",
      "        [0.0000, 0.0000, 0.0000, 0.0000, 0.0000, 0.0000, 0.8304],\n",
      "        [0.0000, 0.0000, 0.0000, 0.0000, 0.0000, 0.0000, 0.8304],\n",
      "        [0.0000, 0.0000, 0.0000, 0.0000, 0.0000, 0.0000, 0.8304],\n",
      "        [0.0000, 0.0000, 0.0000, 0.0000, 0.0000, 0.0000, 0.8304],\n",
      "        [0.0000, 0.0000, 0.0000, 0.0000, 0.0000, 0.0000, 0.8304]])\n",
      "최종 예측값: 6.9892\n",
      "손실값: 0.0001\n",
      "수정된 필터값:\n",
      "tensor([[ 0.7218,  0.7198,  1.0767],\n",
      "        [-0.0064,  0.0041,  0.4821],\n",
      "        [-0.0046,  0.0089,  0.5173]])\n"
     ]
    },
    {
     "data": {
      "image/png": "[encoded data removed]",
      "text/plain": [
       "<Figure size 300x300 with 1 Axes>"
      ]
     },
     "metadata": {},
     "output_type": "display_data"
    },
    {
     "name": "stdout",
     "output_type": "stream",
     "text": [
      "====================================================================================================\n",
      "\n",
      "Epoch [500]\n",
      "필터맵:\n",
      "tensor([[1.0079, 1.0079, 1.0079, 1.0079, 1.0079, 1.0079, 1.4079],\n",
      "        [0.0000, 0.0000, 0.0000, 0.0000, 0.0000, 0.0000, 0.8310],\n",
      "        [0.0000, 0.0000, 0.0000, 0.0000, 0.0000, 0.0000, 0.8310],\n",
      "        [0.0000, 0.0000, 0.0000, 0.0000, 0.0000, 0.0000, 0.8310],\n",
      "        [0.0000, 0.0000, 0.0000, 0.0000, 0.0000, 0.0000, 0.8310],\n",
      "        [0.0000, 0.0000, 0.0000, 0.0000, 0.0000, 0.0000, 0.8310],\n",
      "        [0.0000, 0.0000, 0.0000, 0.0000, 0.0000, 0.0000, 0.8310]])\n",
      "최종 예측값: 6.9971\n",
      "손실값: 0.0000\n",
      "수정된 필터값:\n",
      "tensor([[ 0.7222,  0.7202,  1.0774],\n",
      "        [-0.0064,  0.0041,  0.4825],\n",
      "        [-0.0046,  0.0089,  0.5176]])\n"
     ]
    },
    {
     "data": {
      "image/png": "[encoded data removed]",
      "text/plain": [
       "<Figure size 300x300 with 1 Axes>"
      ]
     },
     "metadata": {},
     "output_type": "display_data"
    },
    {
     "name": "stdout",
     "output_type": "stream",
     "text": [
      "====================================================================================================\n",
      "\n",
      "Epoch [550]\n",
      "필터맵:\n",
      "tensor([[1.0081, 1.0081, 1.0081, 1.0081, 1.0081, 1.0081, 1.4082],\n",
      "        [0.0000, 0.0000, 0.0000, 0.0000, 0.0000, 0.0000, 0.8311],\n",
      "        [0.0000, 0.0000, 0.0000, 0.0000, 0.0000, 0.0000, 0.8311],\n",
      "        [0.0000, 0.0000, 0.0000, 0.0000, 0.0000, 0.0000, 0.8311],\n",
      "        [0.0000, 0.0000, 0.0000, 0.0000, 0.0000, 0.0000, 0.8311],\n",
      "        [0.0000, 0.0000, 0.0000, 0.0000, 0.0000, 0.0000, 0.8311],\n",
      "        [0.0000, 0.0000, 0.0000, 0.0000, 0.0000, 0.0000, 0.8311]])\n",
      "최종 예측값: 6.9992\n",
      "손실값: 0.0000\n",
      "수정된 필터값:\n",
      "tensor([[ 0.7223,  0.7203,  1.0776],\n",
      "        [-0.0064,  0.0041,  0.4826],\n",
      "        [-0.0046,  0.0089,  0.5177]])\n"
     ]
    },
    {
     "data": {
      "image/png": "[encoded data removed]",
      "text/plain": [
       "<Figure size 300x300 with 1 Axes>"
      ]
     },
     "metadata": {},
     "output_type": "display_data"
    },
    {
     "name": "stdout",
     "output_type": "stream",
     "text": [
      "====================================================================================================\n",
      "\n",
      "Epoch [600]\n",
      "필터맵:\n",
      "tensor([[1.0081, 1.0081, 1.0081, 1.0081, 1.0081, 1.0081, 1.4083],\n",
      "        [0.0000, 0.0000, 0.0000, 0.0000, 0.0000, 0.0000, 0.8312],\n",
      "        [0.0000, 0.0000, 0.0000, 0.0000, 0.0000, 0.0000, 0.8312],\n",
      "        [0.0000, 0.0000, 0.0000, 0.0000, 0.0000, 0.0000, 0.8312],\n",
      "        [0.0000, 0.0000, 0.0000, 0.0000, 0.0000, 0.0000, 0.8312],\n",
      "        [0.0000, 0.0000, 0.0000, 0.0000, 0.0000, 0.0000, 0.8312],\n",
      "        [0.0000, 0.0000, 0.0000, 0.0000, 0.0000, 0.0000, 0.8312]])\n",
      "최종 예측값: 6.9998\n",
      "손실값: 0.0000\n",
      "수정된 필터값:\n",
      "tensor([[ 0.7224,  0.7203,  1.0776],\n",
      "        [-0.0064,  0.0041,  0.4826],\n",
      "        [-0.0046,  0.0089,  0.5177]])\n"
     ]
    },
    {
     "data": {
      "image/png": "[encoded data removed]",
      "text/plain": [
       "<Figure size 300x300 with 1 Axes>"
      ]
     },
     "metadata": {},
     "output_type": "display_data"
    },
    {
     "name": "stdout",
     "output_type": "stream",
     "text": [
      "====================================================================================================\n",
      "\n",
      "Epoch [650]\n",
      "필터맵:\n",
      "tensor([[1.0081, 1.0081, 1.0081, 1.0081, 1.0081, 1.0081, 1.4083],\n",
      "        [0.0000, 0.0000, 0.0000, 0.0000, 0.0000, 0.0000, 0.8312],\n",
      "        [0.0000, 0.0000, 0.0000, 0.0000, 0.0000, 0.0000, 0.8312],\n",
      "        [0.0000, 0.0000, 0.0000, 0.0000, 0.0000, 0.0000, 0.8312],\n",
      "        [0.0000, 0.0000, 0.0000, 0.0000, 0.0000, 0.0000, 0.8312],\n",
      "        [0.0000, 0.0000, 0.0000, 0.0000, 0.0000, 0.0000, 0.8312],\n",
      "        [0.0000, 0.0000, 0.0000, 0.0000, 0.0000, 0.0000, 0.8312]])\n",
      "최종 예측값: 6.9999\n",
      "손실값: 0.0000\n",
      "수정된 필터값:\n",
      "tensor([[ 0.7224,  0.7204,  1.0776],\n",
      "        [-0.0064,  0.0041,  0.4826],\n",
      "        [-0.0046,  0.0089,  0.5177]])\n"
     ]
    },
    {
     "data": {
      "image/png": "[encoded data removed]",
      "text/plain": [
       "<Figure size 300x300 with 1 Axes>"
      ]
     },
     "metadata": {},
     "output_type": "display_data"
    },
    {
     "name": "stdout",
     "output_type": "stream",
     "text": [
      "====================================================================================================\n",
      "\n",
      "Epoch [700]\n",
      "필터맵:\n",
      "tensor([[1.0081, 1.0081, 1.0081, 1.0081, 1.0081, 1.0081, 1.4083],\n",
      "        [0.0000, 0.0000, 0.0000, 0.0000, 0.0000, 0.0000, 0.8312],\n",
      "        [0.0000, 0.0000, 0.0000, 0.0000, 0.0000, 0.0000, 0.8312],\n",
      "        [0.0000, 0.0000, 0.0000, 0.0000, 0.0000, 0.0000, 0.8312],\n",
      "        [0.0000, 0.0000, 0.0000, 0.0000, 0.0000, 0.0000, 0.8312],\n",
      "        [0.0000, 0.0000, 0.0000, 0.0000, 0.0000, 0.0000, 0.8312],\n",
      "        [0.0000, 0.0000, 0.0000, 0.0000, 0.0000, 0.0000, 0.8312]])\n",
      "최종 예측값: 7.0000\n",
      "손실값: 0.0000\n",
      "수정된 필터값:\n",
      "tensor([[ 0.7224,  0.7204,  1.0776],\n",
      "        [-0.0064,  0.0041,  0.4826],\n",
      "        [-0.0046,  0.0089,  0.5177]])\n"
     ]
    },
    {
     "data": {
      "image/png": "[encoded data removed]",
      "text/plain": [
       "<Figure size 300x300 with 1 Axes>"
      ]
     },
     "metadata": {},
     "output_type": "display_data"
    },
    {
     "name": "stdout",
     "output_type": "stream",
     "text": [
      "====================================================================================================\n",
      "\n",
      "Epoch [750]\n",
      "필터맵:\n",
      "tensor([[1.0081, 1.0081, 1.0081, 1.0081, 1.0081, 1.0081, 1.4083],\n",
      "        [0.0000, 0.0000, 0.0000, 0.0000, 0.0000, 0.0000, 0.8312],\n",
      "        [0.0000, 0.0000, 0.0000, 0.0000, 0.0000, 0.0000, 0.8312],\n",
      "        [0.0000, 0.0000, 0.0000, 0.0000, 0.0000, 0.0000, 0.8312],\n",
      "        [0.0000, 0.0000, 0.0000, 0.0000, 0.0000, 0.0000, 0.8312],\n",
      "        [0.0000, 0.0000, 0.0000, 0.0000, 0.0000, 0.0000, 0.8312],\n",
      "        [0.0000, 0.0000, 0.0000, 0.0000, 0.0000, 0.0000, 0.8312]])\n",
      "최종 예측값: 7.0000\n",
      "손실값: 0.0000\n",
      "수정된 필터값:\n",
      "tensor([[ 0.7224,  0.7204,  1.0776],\n",
      "        [-0.0064,  0.0041,  0.4826],\n",
      "        [-0.0046,  0.0089,  0.5177]])\n"
     ]
    },
    {
     "data": {
      "image/png": "[encoded data removed]",
      "text/plain": [
       "<Figure size 300x300 with 1 Axes>"
      ]
     },
     "metadata": {},
     "output_type": "display_data"
    },
    {
     "name": "stdout",
     "output_type": "stream",
     "text": [
      "====================================================================================================\n",
      "\n",
      "Epoch [800]\n",
      "필터맵:\n",
      "tensor([[1.0081, 1.0081, 1.0081, 1.0081, 1.0081, 1.0081, 1.4083],\n",
      "        [0.0000, 0.0000, 0.0000, 0.0000, 0.0000, 0.0000, 0.8312],\n",
      "        [0.0000, 0.0000, 0.0000, 0.0000, 0.0000, 0.0000, 0.8312],\n",
      "        [0.0000, 0.0000, 0.0000, 0.0000, 0.0000, 0.0000, 0.8312],\n",
      "        [0.0000, 0.0000, 0.0000, 0.0000, 0.0000, 0.0000, 0.8312],\n",
      "        [0.0000, 0.0000, 0.0000, 0.0000, 0.0000, 0.0000, 0.8312],\n",
      "        [0.0000, 0.0000, 0.0000, 0.0000, 0.0000, 0.0000, 0.8312]])\n",
      "최종 예측값: 7.0000\n",
      "손실값: 0.0000\n",
      "수정된 필터값:\n",
      "tensor([[ 0.7224,  0.7204,  1.0776],\n",
      "        [-0.0064,  0.0041,  0.4826],\n",
      "        [-0.0046,  0.0089,  0.5177]])\n"
     ]
    },
    {
     "data": {
      "image/png": "[encoded data removed]",
      "text/plain": [
       "<Figure size 300x300 with 1 Axes>"
      ]
     },
     "metadata": {},
     "output_type": "display_data"
    },
    {
     "name": "stdout",
     "output_type": "stream",
     "text": [
      "====================================================================================================\n",
      "\n",
      "Epoch [850]\n",
      "필터맵:\n",
      "tensor([[1.0081, 1.0081, 1.0081, 1.0081, 1.0081, 1.0081, 1.4083],\n",
      "        [0.0000, 0.0000, 0.0000, 0.0000, 0.0000, 0.0000, 0.8312],\n",
      "        [0.0000, 0.0000, 0.0000, 0.0000, 0.0000, 0.0000, 0.8312],\n",
      "        [0.0000, 0.0000, 0.0000, 0.0000, 0.0000, 0.0000, 0.8312],\n",
      "        [0.0000, 0.0000, 0.0000, 0.0000, 0.0000, 0.0000, 0.8312],\n",
      "        [0.0000, 0.0000, 0.0000, 0.0000, 0.0000, 0.0000, 0.8312],\n",
      "        [0.0000, 0.0000, 0.0000, 0.0000, 0.0000, 0.0000, 0.8312]])\n",
      "최종 예측값: 7.0000\n",
      "손실값: 0.0000\n",
      "수정된 필터값:\n",
      "tensor([[ 0.7224,  0.7204,  1.0776],\n",
      "        [-0.0064,  0.0041,  0.4826],\n",
      "        [-0.0046,  0.0089,  0.5177]])\n"
     ]
    },
    {
     "data": {
      "image/png": "[encoded data removed]",
      "text/plain": [
       "<Figure size 300x300 with 1 Axes>"
      ]
     },
     "metadata": {},
     "output_type": "display_data"
    },
    {
     "name": "stdout",
     "output_type": "stream",
     "text": [
      "====================================================================================================\n",
      "\n",
      "Epoch [900]\n",
      "필터맵:\n",
      "tensor([[1.0081, 1.0081, 1.0081, 1.0081, 1.0081, 1.0081, 1.4083],\n",
      "        [0.0000, 0.0000, 0.0000, 0.0000, 0.0000, 0.0000, 0.8312],\n",
      "        [0.0000, 0.0000, 0.0000, 0.0000, 0.0000, 0.0000, 0.8312],\n",
      "        [0.0000, 0.0000, 0.0000, 0.0000, 0.0000, 0.0000, 0.8312],\n",
      "        [0.0000, 0.0000, 0.0000, 0.0000, 0.0000, 0.0000, 0.8312],\n",
      "        [0.0000, 0.0000, 0.0000, 0.0000, 0.0000, 0.0000, 0.8312],\n",
      "        [0.0000, 0.0000, 0.0000, 0.0000, 0.0000, 0.0000, 0.8312]])\n",
      "최종 예측값: 7.0000\n",
      "손실값: 0.0000\n",
      "수정된 필터값:\n",
      "tensor([[ 0.7224,  0.7204,  1.0776],\n",
      "        [-0.0064,  0.0041,  0.4826],\n",
      "        [-0.0046,  0.0089,  0.5177]])\n"
     ]
    },
    {
     "data": {
      "image/png": "[encoded data removed]",
      "text/plain": [
       "<Figure size 300x300 with 1 Axes>"
      ]
     },
     "metadata": {},
     "output_type": "display_data"
    },
    {
     "name": "stdout",
     "output_type": "stream",
     "text": [
      "====================================================================================================\n",
      "\n",
      "Epoch [950]\n",
      "필터맵:\n",
      "tensor([[1.0081, 1.0081, 1.0081, 1.0081, 1.0081, 1.0081, 1.4083],\n",
      "        [0.0000, 0.0000, 0.0000, 0.0000, 0.0000, 0.0000, 0.8312],\n",
      "        [0.0000, 0.0000, 0.0000, 0.0000, 0.0000, 0.0000, 0.8312],\n",
      "        [0.0000, 0.0000, 0.0000, 0.0000, 0.0000, 0.0000, 0.8312],\n",
      "        [0.0000, 0.0000, 0.0000, 0.0000, 0.0000, 0.0000, 0.8312],\n",
      "        [0.0000, 0.0000, 0.0000, 0.0000, 0.0000, 0.0000, 0.8312],\n",
      "        [0.0000, 0.0000, 0.0000, 0.0000, 0.0000, 0.0000, 0.8312]])\n",
      "최종 예측값: 7.0000\n",
      "손실값: 0.0000\n",
      "수정된 필터값:\n",
      "tensor([[ 0.7224,  0.7204,  1.0776],\n",
      "        [-0.0064,  0.0041,  0.4826],\n",
      "        [-0.0046,  0.0089,  0.5177]])\n"
     ]
    },
    {
     "data": {
      "image/png": "[encoded data removed]",
      "text/plain": [
       "<Figure size 300x300 with 1 Axes>"
      ]
     },
     "metadata": {},
     "output_type": "display_data"
    },
    {
     "name": "stdout",
     "output_type": "stream",
     "text": [
      "====================================================================================================\n",
      "\n",
      "Epoch [1000]\n",
      "필터맵:\n",
      "tensor([[1.0081, 1.0081, 1.0081, 1.0081, 1.0081, 1.0081, 1.4083],\n",
      "        [0.0000, 0.0000, 0.0000, 0.0000, 0.0000, 0.0000, 0.8312],\n",
      "        [0.0000, 0.0000, 0.0000, 0.0000, 0.0000, 0.0000, 0.8312],\n",
      "        [0.0000, 0.0000, 0.0000, 0.0000, 0.0000, 0.0000, 0.8312],\n",
      "        [0.0000, 0.0000, 0.0000, 0.0000, 0.0000, 0.0000, 0.8312],\n",
      "        [0.0000, 0.0000, 0.0000, 0.0000, 0.0000, 0.0000, 0.8312],\n",
      "        [0.0000, 0.0000, 0.0000, 0.0000, 0.0000, 0.0000, 0.8312]])\n",
      "최종 예측값: 7.0000\n",
      "손실값: 0.0000\n",
      "수정된 필터값:\n",
      "tensor([[ 0.7224,  0.7204,  1.0776],\n",
      "        [-0.0064,  0.0041,  0.4826],\n",
      "        [-0.0046,  0.0089,  0.5177]])\n"
     ]
    },
    {
     "data": {
      "image/png": "[encoded data removed]",
      "text/plain": [
       "<Figure size 300x300 with 1 Axes>"
      ]
     },
     "metadata": {},
     "output_type": "display_data"
    }
   ],
   "source": [
    "for epoch in range(1000):\n",
    "    optimizer.zero_grad()\n",
    "    relu_result = model[1](model[0](image))\n",
    "    output = model(image)\n",
    "    loss = criterion(output, label)\n",
    "    loss.backward()\n",
    "    optimizer.step()\n",
    "\n",
    "    if (epoch+1)%50==0 or (epoch==0):\n",
    "        print(\"=\"*100)\n",
    "        print(f\"\\nEpoch [{epoch+1}]\")\n",
    "\n",
    "        print(f\"필터맵:\\n{relu_result.data.squeeze()}\")\n",
    "        print(f\"최종 예측값: {output.item():.4f}\")\n",
    "        print(f\"손실값: {loss.item():.4f}\")\n",
    "        print(f\"수정된 필터값:\\n{model[0].weight.data.squeeze()}\")\n",
    "\n",
    "        plt.figure(figsize=(3,3))\n",
    "        plt.imshow(relu_result.data.squeeze(), cmap='gray_r', vmin=0, vmax=1)\n",
    "        plt.title(f'Epoch {epoch+1} - ReLU Result')\n",
    "        plt.axis('off')\n",
    "        plt.show()"
   ]
  },
  {
   "cell_type": "code",
   "execution_count": null,
   "id": "189c5de7-ba62-4dbb-adec-839c063bc5bf",
   "metadata": {},
   "outputs": [],
   "source": []
  }
 ],
 "metadata": {
  "kernelspec": {
   "display_name": "Python 3 (ipykernel)",
   "language": "python",
   "name": "python3"
  },
  "language_info": {
   "codemirror_mode": {
    "name": "ipython",
    "version": 3
   },
   "file_extension": ".py",
   "mimetype": "text/x-python",
   "name": "python",
   "nbconvert_exporter": "python",
   "pygments_lexer": "ipython3",
   "version": "3.11.13"
  }
 },
 "nbformat": 4,
 "nbformat_minor": 5
}
